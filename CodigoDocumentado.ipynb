{
 "cells": [
  {
   "cell_type": "markdown",
   "metadata": {},
   "source": [
    "## Propósito do projeto"
   ]
  },
  {
   "cell_type": "markdown",
   "metadata": {},
   "source": [
    "##### Nosso propósito é ajudar você a treinar e colocar em prática seus estudos de inglês. Eu forneço frases e histórias com o objetivo de você tentar traduzi-las. Depois, você pode verificar se acertou solicitando a tradução da frase ou história. Além disso, recentemente adicionamos uma seção para aprender alguns conteúdos relativos ao inglês, constantemente o sistema será atualizado com novos conteúdos. Nós surgimos da necessidade de um lugar onde pudéssemos treinar nossos aprendizados de forma prática, traduzindo pequenos textos ou frases, mas que estes estivessem no nosso nível de aprendizado. Muitas das vezes, outros lugares que tinham essas frases e histórias, não possuíam um nível equivalente ao nosso aprendizado. Dai eu surgi, com o objetivo de te ajudar a aprender cada vez mais.\n"
   ]
  },
  {
   "cell_type": "markdown",
   "metadata": {},
   "source": [
    "## Importando Bibliotecas"
   ]
  },
  {
   "cell_type": "markdown",
   "metadata": {},
   "source": [
    "Nesse projeto utilizaremos 3 bibliotecas.\n",
    "\n",
    "- A primeira delas é a Telebot, responsável por fazer a comunicação com o Telegram.\n",
    "- A segunda é a telebot types, responsável pela interface de botões no telegram.\n",
    "- A terceira é a random, responsável por escolher aleatoriamente uma frase ou história na base de dados.\n",
    "- E por fim, a biblioteca openpyxl, responsável por fazer a comunicação com a base de dados, no caso, uma planilha do excel.\n",
    "\n",
    "Antes de importar, devemos fazer o download das bibliotecas!\n",
    "\n",
    "Versões disponíveis no arquivo requeriments."
   ]
  },
  {
   "cell_type": "code",
   "execution_count": 2,
   "metadata": {},
   "outputs": [],
   "source": [
    "#Importando bibliotecas\n",
    "\n",
    "import telebot\n",
    "from telebot import types\n",
    "import random\n",
    "from openpyxl import load_workbook"
   ]
  },
  {
   "cell_type": "markdown",
   "metadata": {},
   "source": [
    "## Definindo sua chave API"
   ]
  },
  {
   "cell_type": "markdown",
   "metadata": {},
   "source": [
    "### Criando o chatbot"
   ]
  },
  {
   "cell_type": "markdown",
   "metadata": {},
   "source": [
    "Para conseguir realizar a comunicação com o Telegram, primeiro devemos criar um chat no telegram, non qual utilizaremos como chatbot\n",
    "\n",
    "Para isto devemos seguir alguns passos simples:\n",
    "\n",
    "- Passo 1: Ir até a pesquisa do app Telegram e procurar por BotFather, ele terá o simbolo de verificado\n",
    "\n",
    "- Passo 2: Apertar o botão Start, para começar uma nova conversa\n",
    "\n",
    "- Passo 3: Ele vai te retornar uma mensagem com vários comandos, para criar um novo bot, basta selecionar a opção /newbot\n",
    "\n",
    "- Passo 4: Ele pedirá para que você defina um nome para o bot, no nosso caso, se chama English Bot\n",
    "\n",
    "- Passo 5: Agora ele pedirá para que você defina um username para o bot. Atençao! o username deve ser terminado com a palavra 'bot'. Exemplo: EnglishBot, English_bot e deve estar disponível.\n",
    "\n",
    "- Passo 6: Agora ele te retornará uma mensagem com os dados do seu bot, o primeiro link, 't.me/nomedobot' será o link para a conversa com seu chatbot. Nesta mesma mensagem, também haverá a sua chave Api, responsável por permitir a conexão do seu script com o chatbot.\n",
    "\n",
    "Não compartilhe esta chave API, ela da acesso ao controle do seu chatbot."
   ]
  },
  {
   "cell_type": "markdown",
   "metadata": {},
   "source": [
    "### Definindo a chave no script"
   ]
  },
  {
   "cell_type": "code",
   "execution_count": 3,
   "metadata": {},
   "outputs": [],
   "source": [
    "# Com a chave API em mãos, basta definir a nossa variável para ela\n",
    "\n",
    "CHAVE_API = \"Sua Chave api aqui\""
   ]
  },
  {
   "cell_type": "markdown",
   "metadata": {},
   "source": [
    "### Iniciando o bot"
   ]
  },
  {
   "cell_type": "code",
   "execution_count": 4,
   "metadata": {},
   "outputs": [],
   "source": [
    "# Para iniciar o bot e permitir a comunicação com o Telegram, basta executar o comando abaixo\n",
    "\n",
    "bot = telebot.TeleBot(CHAVE_API)\n",
    "\n",
    "# Agora, todas as operações envolvendo o bot devem ser realizadas através da variável 'bot''"
   ]
  },
  {
   "cell_type": "markdown",
   "metadata": {},
   "source": [
    "### Criando a classe User"
   ]
  },
  {
   "cell_type": "markdown",
   "metadata": {},
   "source": [
    "Devido a extensão do código ser muito grande, torna-se necessário a implantação de uma classe com as informações do usuário. Isto ocorre, pois sem utilizar classes, teríamos que transitar com várias variáveis por todo o código, de função para função, o que poderia acarretar a alteração de uma variável de forma indevida durante a execução, além de facilitar a compreenssão do que cada variável represeta."
   ]
  },
  {
   "cell_type": "markdown",
   "metadata": {},
   "source": [
    "A classe User possui todas a informações do usuário (id, frase, traducao, nivel, number, ultimoComando, fraseOrAprender) de forma privada, podendo ser acessada ou alterada através de uma função específica dentro da classe."
   ]
  },
  {
   "cell_type": "code",
   "execution_count": null,
   "metadata": {},
   "outputs": [],
   "source": [
    "class User(): \n",
    "    def __init__(self, id, frase, traducao, nivel, number, ultimoComando, fraseOrAprender): # Define todas as variáveis da classe\n",
    "        self.__id = id\n",
    "        self.__frase = frase\n",
    "        self.__traducao = traducao\n",
    "        self.__nivel = nivel\n",
    "        self.__number = number\n",
    "        self.__ultimoComando = ultimoComando\n",
    "        self.__fraseOrAprender = fraseOrAprender\n",
    "\n",
    "\n",
    "    # Funções para retonar os valores de cada variável\n",
    "    def get_id(self):\n",
    "        return self.__id\n",
    "    \n",
    "    def get_frase(self):\n",
    "        return self.__frase\n",
    "    \n",
    "    def get_traducao(self):\n",
    "        return self.__traducao\n",
    "    \n",
    "    def get_nivel(self):\n",
    "        return self.__nivel\n",
    "    \n",
    "    def get_number(self):\n",
    "        return self.__number\n",
    "    \n",
    "    def get_ultimoComando(self):\n",
    "        return self.__ultimoComando\n",
    "    \n",
    "    def get_fraseOrAprender(self):\n",
    "        return self.__fraseOrAprender\n",
    "    \n",
    "    # Funções para alterar os valores de cada variável\n",
    "    \n",
    "    def set_id(self, id):\n",
    "        self.__id = id\n",
    "\n",
    "    def set_frase(self, frase):\n",
    "        self.__frase = frase\n",
    "\n",
    "    def set_traducao(self, traducao):\n",
    "        self.__traducao = traducao\n",
    "\n",
    "    def set_nivel(self, nivel):\n",
    "        self.__nivel = nivel\n",
    "\n",
    "    def set_number(self, number):\n",
    "        self.__number = number\n",
    "\n",
    "    def set_ultimoComando(self, ultimoComando):\n",
    "        self.__ultimoComando = ultimoComando\n",
    "\n",
    "    def set_fraseOrAprender(self, fraseOrAprender):\n",
    "        self.__fraseOrAprender = fraseOrAprender\n"
   ]
  },
  {
   "cell_type": "markdown",
   "metadata": {},
   "source": [
    "### Criando as funções"
   ]
  },
  {
   "cell_type": "markdown",
   "metadata": {},
   "source": [
    "No código python, as funções devem ser declaradas antes de serem utilizadas, por isso a ordem cronológica deste código esta de baixo para cima, ou seja, as últimas funções são as primeiras a serem executadas, e as primeiras, serão as últimsa a serem executadas"
   ]
  },
  {
   "cell_type": "markdown",
   "metadata": {},
   "source": [
    "Função responsável por altualizar a base de dados após todas as alterações feitas no perfil do usuário durante a execução do programa, será sempre a última a ser executada após cada mensagem do usuário."
   ]
  },
  {
   "cell_type": "code",
   "execution_count": 5,
   "metadata": {},
   "outputs": [],
   "source": [
    "def AlterarUsuario(user, linha): # Recebe como parâmetros a classe do usuário já modificada e a linha em que se encontra os dados do usuário na base de dados\n",
    "    planilha = load_workbook('Usuarios.xlsx') # Carrega a planilha\n",
    "    aba_ativa = planilha.active # Como só tem 1 aba nessa planilha de usuários, ele seleciona a aba que estiver ativa, ou seja, a única que tem\n",
    "    aba_ativa[f'A{linha}'] = user.get_id() # Adiciona o valor do id na coluna A e na linha em que se encontra os dados do usuário\n",
    "    aba_ativa[f'B{linha}'] = user.get_frase() # Coluna B\n",
    "    aba_ativa[f'C{linha}'] = user.get_traducao() # Coluna C\n",
    "    aba_ativa[f'D{linha}'] = user.get_nivel() # Coluna D\n",
    "    aba_ativa[f'E{linha}'] = user.get_number() # Coluna E\n",
    "    aba_ativa[f'F{linha}'] = user.get_ultimoComando() # Coluna F\n",
    "    aba_ativa[f'G{linha}'] = user.get_fraseOrAprender() # Coluna G\n",
    "    planilha.save('Usuarios.xlsx') # Salva a planilha após adicionar os dados\n"
   ]
  },
  {
   "cell_type": "markdown",
   "metadata": {},
   "source": [
    "Função responsável por enviar as mensagens do bot através do telegram"
   ]
  },
  {
   "cell_type": "code",
   "execution_count": 6,
   "metadata": {},
   "outputs": [],
   "source": [
    "def responder(id, resposta, buttons, qtd): # Recebe como parâmetros o id do usuário, a mensagem que vai ser enviada para ele, a varial buttons é uma lista, contendo os valores que seram impressos no botão e a função que irá chamar ao ser apretado, e por fim, qtd é referente a quantidade de botões em cada linha\n",
    "    btn = []\n",
    "    markup = types.InlineKeyboardMarkup(row_width=qtd) # Cria o conjunto de botões \n",
    "    for bt in buttons: # Utilizado para criar a quantidade de botões com base na lista com os nomes recebida\n",
    "        button = types.InlineKeyboardButton(bt[0], callback_data=bt[1]) # Define que é do tipo de botão de teclado, o primeiro parâmetro é o valor que será exibido no botão(O nome do botão), o segundo valor é referente ao valor que irá retornar quando o botão for pressionado\n",
    "        btn.append(button) # Adiciona os botões em uma lista\n",
    "\n",
    "    markup.add(*btn) # Adiciona os valores da lista de botões ao Conjunto de botões markup\n",
    "\n",
    "    bot.send_message(id, resposta, reply_markup=markup)  # Envia a mensagem junto com o conjunto de botões"
   ]
  },
  {
   "cell_type": "code",
   "execution_count": null,
   "metadata": {},
   "outputs": [],
   "source": [
    "def responder_sem_button(id, resposta): # Função para enviar mensagens sem botões, possui somente o id e a mensagem\n",
    "    bot.send_message(id, resposta)   \n"
   ]
  },
  {
   "cell_type": "markdown",
   "metadata": {},
   "source": [
    "#### Aprendendo Section"
   ]
  },
  {
   "cell_type": "markdown",
   "metadata": {},
   "source": [
    "Na aba aprendendo teremos matérias sobre vários conteúdos sobre inglês, essa aba será atualizada constantemente com novos conteúdos."
   ]
  },
  {
   "cell_type": "markdown",
   "metadata": {},
   "source": [
    "##### Numbers"
   ]
  },
  {
   "cell_type": "markdown",
   "metadata": {},
   "source": [
    "A área dos números é responsável por gerar números aleatórios e solicitar ao usuário que escreva este número por extenso em inglês, além de todo o conteúdo sobre as regras de formação dos números em inglês."
   ]
  },
  {
   "cell_type": "markdown",
   "metadata": {},
   "source": [
    "Função responsável por gerar um número aleatório entre 0 e 99999"
   ]
  },
  {
   "cell_type": "code",
   "execution_count": null,
   "metadata": {},
   "outputs": [],
   "source": [
    "def gerar_numero():\n",
    "    probabilidade = random.random()  # Solicita um número de 0 a 1\n",
    "    \n",
    "    # Números entre 0 e 100 possuem 40% de probabilidade de serem escolhidos\n",
    "    # Números entre 101 e 500 possuem 30% de probabilidade de serem escolhidos\n",
    "    # Números entre 501 e 3000 possuem 20% de probabilidade de serem escolhidos\n",
    "    # Números entre 3001 e 99999 possuem 10% de probabilidade de serem escolhidos\n",
    "\n",
    "    if probabilidade < 0.4: \n",
    "        return random.randint(0, 100) \n",
    "    elif probabilidade < 0.7:\n",
    "        return random.randint(101, 500) \n",
    "    elif probabilidade < 0.9:\n",
    "        return random.randint(501, 3000) \n",
    "    else:\n",
    "        return random.randint(3001, 99999)\n",
    "  "
   ]
  },
  {
   "cell_type": "markdown",
   "metadata": {},
   "source": [
    "Função responsável por verificar como o número é escrito por extenso, com base na tabela fornecida no nível da dezena"
   ]
  },
  {
   "cell_type": "code",
   "execution_count": 1,
   "metadata": {},
   "outputs": [],
   "source": [
    "def verificar_dezena(numero): # Recebe o número\n",
    "    planilha = load_workbook('Aprendendo.xlsx')\n",
    "    aba_ativa = planilha['Numeros'] # Carrega a planilha\n",
    "\n",
    "    if numero >= 0 and numero < 21:\n",
    "        cel = f'A{numero+1}'\n",
    "        return aba_ativa[cel].value # Retorna o número com base na tabela seguindo a regra\n",
    "\n",
    "    elif numero == 30:\n",
    "        cel = aba_ativa['A22'].value\n",
    "        return cel\n",
    "\n",
    "    elif numero == 40:\n",
    "        cel = aba_ativa['A23'].value\n",
    "        return cel\n",
    "\n",
    "    elif numero == 50:\n",
    "        cel = aba_ativa['A24'].value\n",
    "        return cel\n",
    "\n",
    "    elif numero == 60:\n",
    "        cel = aba_ativa['A25'].value\n",
    "        return cel\n",
    "\n",
    "    elif numero == 70:\n",
    "        cel = aba_ativa['A26'].value\n",
    "        return cel\n",
    "\n",
    "    elif numero == 80:\n",
    "        cel = aba_ativa['A27'].value\n",
    "        return cel\n",
    "\n",
    "    elif numero == 90:\n",
    "        cel = aba_ativa['A28'].value\n",
    "        return cel\n",
    "        \n",
    "    elif numero > 20 and numero < 30:\n",
    "        ab1 = aba_ativa['A21'].value\n",
    "        ab2 = f'A{numero-19}'\n",
    "        ab21 = aba_ativa[ab2].value\n",
    "        cel = f'{ab1} {ab21}'\n",
    "        return cel\n",
    "\n",
    "    elif numero > 30 and numero < 40:\n",
    "        ab1 = aba_ativa['A22'].value\n",
    "        ab2 = f'A{numero-29}'\n",
    "        ab21 = aba_ativa[ab2].value\n",
    "        cel = f'{ab1} {ab21}'\n",
    "        return cel\n",
    "\n",
    "    elif numero > 40 and numero < 50:\n",
    "        ab1 = aba_ativa['A23'].value\n",
    "        ab2 = f'A{numero-39}'\n",
    "        ab21 = aba_ativa[ab2].value\n",
    "        cel = f'{ab1} {ab21}'\n",
    "        return cel\n",
    "\n",
    "    elif numero > 50 and numero < 60:\n",
    "        ab1 = aba_ativa['A24'].value\n",
    "        ab2 = f'A{numero-49}'\n",
    "        ab21 = aba_ativa[ab2].value\n",
    "        cel = f'{ab1} {ab21}'\n",
    "        return cel\n",
    "\n",
    "    elif numero > 60 and numero < 70:\n",
    "        ab1 = aba_ativa['A25'].value\n",
    "        ab2 = f'A{numero-59}'\n",
    "        ab21 = aba_ativa[ab2].value\n",
    "        cel = f'{ab1} {ab21}'\n",
    "        return cel\n",
    "\n",
    "    elif numero > 70 and numero < 80:\n",
    "        ab1 = aba_ativa['A26'].value\n",
    "        ab2 = f'A{numero-69}'\n",
    "        ab21 = aba_ativa[ab2].value\n",
    "        cel = f'{ab1} {ab21}'\n",
    "        return cel\n",
    "\n",
    "    elif numero > 80 and numero < 90:\n",
    "        ab1 = aba_ativa['A27'].value\n",
    "        ab2 = f'A{numero-79}'\n",
    "        ab21 = aba_ativa[ab2].value\n",
    "        cel = f'{ab1} {ab21}'\n",
    "        return cel\n",
    "\n",
    "    elif numero > 90 and numero < 100:\n",
    "        ab1 = aba_ativa['A28'].value\n",
    "        ab2 = f'A{numero-89}'\n",
    "        ab21 = aba_ativa[ab2].value\n",
    "        cel = f'{ab1} {ab21}'\n",
    "        return cel"
   ]
  },
  {
   "cell_type": "markdown",
   "metadata": {},
   "source": [
    "Função responsável por verificar como o número é escrito por extenso, com base na tabela fornecida no nível da centena"
   ]
  },
  {
   "cell_type": "code",
   "execution_count": null,
   "metadata": {},
   "outputs": [],
   "source": [
    "def verificar_centena(numero):\n",
    "\n",
    "    planilha = load_workbook('Aprendendo.xlsx')\n",
    "    aba_ativa = planilha['Numeros']\n",
    "\n",
    "    if numero == 100:\n",
    "        ab1 = aba_ativa['A2'].value\n",
    "        ab2 = aba_ativa['A29'].value\n",
    "        cel = f'{ab1} {ab2}'\n",
    "        return cel\n",
    "    \n",
    "    if numero == 200:\n",
    "        ab1 = aba_ativa['A3'].value\n",
    "        ab2 = aba_ativa['A29'].value\n",
    "        cel = f'{ab1} {ab2}'\n",
    "        return cel\n",
    "    \n",
    "    if numero == 300:\n",
    "        ab1 = aba_ativa['A4'].value\n",
    "        ab2 = aba_ativa['A29'].value\n",
    "        cel = f'{ab1} {ab2}'\n",
    "        return cel\n",
    "    \n",
    "    if numero == 400:\n",
    "        ab1 = aba_ativa['A5'].value\n",
    "        ab2 = aba_ativa['A29'].value\n",
    "        cel = f'{ab1} {ab2}'\n",
    "        return cel\n",
    "    \n",
    "    if numero == 500:\n",
    "        ab1 = aba_ativa['A6'].value\n",
    "        ab2 = aba_ativa['A29'].value\n",
    "        cel = f'{ab1} {ab2}'\n",
    "        return cel\n",
    "    \n",
    "    if numero == 600:\n",
    "        ab1 = aba_ativa['A7'].value\n",
    "        ab2 = aba_ativa['A29'].value\n",
    "        cel = f'{ab1} {ab2}'\n",
    "        return cel \n",
    "    \n",
    "    if numero == 700:\n",
    "        ab1 = aba_ativa['A8'].value\n",
    "        ab2 = aba_ativa['A29'].value\n",
    "        cel = f'{ab1} {ab2}'\n",
    "        return cel\n",
    "    \n",
    "    if numero == 800:\n",
    "        ab1 = aba_ativa['A9'].value\n",
    "        ab2 = aba_ativa['A29'].value\n",
    "        cel = f'{ab1} {ab2}'\n",
    "        return cel\n",
    "    \n",
    "    if numero == 900:\n",
    "        ab1 = aba_ativa['A10'].value\n",
    "        ab2 = aba_ativa['A29'].value\n",
    "        cel = f'{ab1} {ab2}'\n",
    "        return cel\n",
    "        \n",
    "    elif numero > 100 and numero < 200:\n",
    "        ab1 = aba_ativa['A2'].value\n",
    "        ab2 = aba_ativa['A29'].value\n",
    "        ab3 = verificar_dezena(numero-100)\n",
    "        cel = f'{ab1} {ab2} {ab3}'\n",
    "        return cel\n",
    "\n",
    "    elif numero > 200 and numero < 300:\n",
    "        ab1 = aba_ativa['A3'].value\n",
    "        ab2 = aba_ativa['A29'].value\n",
    "        ab3 = verificar_dezena(numero-200)\n",
    "        cel = f'{ab1} {ab2} {ab3}'\n",
    "        return cel\n",
    "    \n",
    "    elif numero > 300 and numero < 400:\n",
    "        ab1 = aba_ativa['A4'].value\n",
    "        ab2 = aba_ativa['A29'].value\n",
    "        ab3 = verificar_dezena(numero-300)\n",
    "        cel = f'{ab1} {ab2} {ab3}'\n",
    "        return cel\n",
    "\n",
    "    elif numero > 400 and numero < 500:\n",
    "        ab1 = aba_ativa['A5'].value\n",
    "        ab2 = aba_ativa['A29'].value\n",
    "        ab3 = verificar_dezena(numero-400)\n",
    "        cel = f'{ab1} {ab2} {ab3}'\n",
    "        return cel\n",
    "    \n",
    "    elif numero > 500 and numero < 600:\n",
    "        ab1 = aba_ativa['A6'].value\n",
    "        ab2 = aba_ativa['A29'].value\n",
    "        ab3 = verificar_dezena(numero-500)\n",
    "        cel = f'{ab1} {ab2} {ab3}'\n",
    "        return cel\n",
    "    \n",
    "    elif numero > 600 and numero < 700:\n",
    "        ab1 = aba_ativa['A7'].value\n",
    "        ab2 = aba_ativa['A29'].value\n",
    "        ab3 = verificar_dezena(numero-600)\n",
    "        cel = f'{ab1} {ab2} {ab3}'\n",
    "        return cel\n",
    "    \n",
    "    elif numero > 700 and numero < 800:\n",
    "        ab1 = aba_ativa['A8'].value\n",
    "        ab2 = aba_ativa['A29'].value\n",
    "        ab3 = verificar_dezena(numero-700)\n",
    "        cel = f'{ab1} {ab2} {ab3}'\n",
    "        return cel\n",
    "\n",
    "    elif numero > 800 and numero < 900:\n",
    "        ab1 = aba_ativa['A9'].value\n",
    "        ab2 = aba_ativa['A29'].value\n",
    "        ab3 = verificar_dezena(numero-800)\n",
    "        cel = f'{ab1} {ab2} {ab3}'\n",
    "        return cel\n",
    "\n",
    "    elif numero > 900 and numero < 1000:\n",
    "        ab1 = aba_ativa['A10'].value\n",
    "        ab2 = aba_ativa['A29'].value\n",
    "        ab3 = verificar_dezena(numero-900)\n",
    "        cel = f'{ab1} {ab2} {ab3}'\n",
    "        return cel\n"
   ]
  },
  {
   "cell_type": "markdown",
   "metadata": {},
   "source": [
    "Função responsável por verificar como o número é escrito por extenso, com base na tabela fornecida no nível do milhar"
   ]
  },
  {
   "cell_type": "code",
   "execution_count": null,
   "metadata": {},
   "outputs": [],
   "source": [
    "def verificar_milhar(numero):\n",
    "    n = str(numero) # Transforma o número para string\n",
    "    if len(n) == 4: # Verifica se ele tem pelo menos 4 casas, ou seja, é milhar\n",
    "        milhar = int(n[0]) # Extrai a primeira casa do número, ou seja, a casa do milhar\n",
    "        centena = int(n[-3])*100 # Extrai a casa da centena\n",
    "        dezena = int(n[-2]+n[-1]) # Extrai a casa da dezena\n",
    "    elif len(n) == 5:\n",
    "        milhar = int(n[0]+n[1])\n",
    "        centena = int(n[-3])*100\n",
    "        dezena = int(n[-2]+n[-1])\n",
    "\n",
    "    if numero > 999 and numero < 100000: # Retorna o número escrito por extenso com base na regra\n",
    "        if centena == 0:\n",
    "            ab1 = verificar_dezena(milhar)\n",
    "            ab3 = verificar_dezena(dezena)\n",
    "            cel = f'{ab1} thousand {ab3}'\n",
    "            return cel\n",
    "        else:\n",
    "            ab1 = verificar_dezena(milhar)\n",
    "            ab2 = verificar_centena(centena)\n",
    "            ab3 = verificar_dezena(dezena)\n",
    "            cel = f'{ab1} thousand {ab2} {ab3}'\n",
    "            return cel \n"
   ]
  },
  {
   "cell_type": "markdown",
   "metadata": {},
   "source": [
    "Função responsável por decidir se o número é dezena, centena ou milhar"
   ]
  },
  {
   "cell_type": "code",
   "execution_count": null,
   "metadata": {},
   "outputs": [],
   "source": [
    "def decidir_verificacao_number(numero):\n",
    "    if numero < 100:\n",
    "        cel = verificar_dezena(numero).capitalize() # Chama a função de dezena e retorna ela com a primeira letra maiúscuula\n",
    "        return cel\n",
    "\n",
    "    elif numero >=100 and numero < 1000:\n",
    "        cel = verificar_centena(numero).capitalize() # Chama a função de centena e retorna ela com a primeira letra maiúscuula\n",
    "        return cel\n",
    "\n",
    "    elif numero >=1000:\n",
    "        cel = verificar_milhar(numero).capitalize() # Chama a função de milhar e retorna ela com a primeira letra maiúscuula\n",
    "        return cel"
   ]
  },
  {
   "cell_type": "markdown",
   "metadata": {},
   "source": [
    "#### Phrases and Stories section"
   ]
  },
  {
   "cell_type": "markdown",
   "metadata": {},
   "source": [
    "Função responsável por carregar a planliha com as frases ou a planliha com as histórias e selecionar uma aleatóriamente para enviar ao usuário"
   ]
  },
  {
   "cell_type": "code",
   "execution_count": 8,
   "metadata": {},
   "outputs": [],
   "source": [
    "def receberFrases(nivel, choice, user): # Recebe como parâmetros o nível do usuário a escolha dele (Frase ou História) e a variavel contendo a classe\n",
    "    if nivel == None: # Definindo um nível padrão para envitar bugs\n",
    "        nivel == 'Básico'\n",
    "\n",
    "\n",
    "    # Ambas as planilhas possuem mais de uma aba, sendo uma aba para cada nível de frase. \n",
    "    # Elas estão nomeadas com o próprio nível e escritas de forma identica ao nível passado como parâmetro nessa função\n",
    "    # Com isso, ao selecionar a aba da planilha pelo nome, podemos apenas passar a variáavel nível, pois possui nome idêntico\n",
    "        \n",
    "    if choice == 'Frase': # Caso ele tenha escolhido uma frase\n",
    "        planilha = load_workbook('Frases Ingles.xlsx') # Seleciona a planilha de frases\n",
    "        aba_ativa = planilha[nivel] # Selecionando a aba da planilha pelo nome com base no nível\n",
    "\n",
    "    \n",
    "    elif choice == 'Historia': # Caso ele tenha escolhido uma hisstória\n",
    "        planilha = load_workbook('Historias Ingles.xlsx') # Seleciona a planilha de histórias\n",
    "        aba_ativa = planilha[nivel] # Selecionando a aba da planilha pelo nome com base no nível\n",
    "\n",
    "    QtdFrases = len(aba_ativa['A']) # Verificando a quantidade de frases que existem na planilha\n",
    "    number = random.randint(2, QtdFrases) # Selecionando uma linha aleatória, da segunda até a última, a primeira linha é apenas o título\n",
    "    user.set_frase(aba_ativa[f'B{number}'].value) # Recebendo os valores contidos em cada coluna da linha escolhida e alterando a classe do usuário\n",
    "    user.set_traducao(aba_ativa[f'C{number}'].value)\n",
    "    user.set_nivel(aba_ativa[f'D{number}'].value)\n",
    "\n",
    "    # A lista possui os seguintes valores: [IdUsuario, Frase, Traduçao, NivelUsuario]\n"
   ]
  },
  {
   "cell_type": "markdown",
   "metadata": {},
   "source": [
    "Função responsável por exibir o menu ao usuário"
   ]
  },
  {
   "cell_type": "code",
   "execution_count": null,
   "metadata": {},
   "outputs": [],
   "source": [
    "def exibirMenu(user): # Recebe como parâmetro a classe usuário, onde contém o id do chat\n",
    "    id = user.get_id() # Recebe o id armazenado na classe do usuário\n",
    "    resposta = f'Olá, seja muito bem vindo! 👋 \\n\\nEste é o nosso Menu 🏠'\n",
    "    responder(id, resposta, [['Exibir Frase', '/Frase'], ['Exibir História', '/Historia'], ['Traduzir Frase/História', '/Traducao'], ['Alterar Nível', '/Nivel'], ['Aprender Inglês', '/Aprender'], ['Nosso Propósito', '/Proposito']], 1) \n",
    "    # Chama a função para responder, passando o id do usuário a resposta, o conjunto de nomes dos botões e a quantidade de botões em cada linha\n"
   ]
  },
  {
   "cell_type": "markdown",
   "metadata": {},
   "source": [
    "Função responsável por exibir a traduçao da frase ou história"
   ]
  },
  {
   "cell_type": "code",
   "execution_count": null,
   "metadata": {},
   "outputs": [],
   "source": [
    "def exibirTraducao(user): # Como visto anteriormente, a classe usuário possui todas as informações, incluindo a frase escolhida e a traduçao dela\n",
    "    traducao = user.get_traducao()# Recebe a tradução\n",
    "    id = user.get_id() # Recebe o id\n",
    "    resposta = f'Esta é a sua tradução, espero que tenha acertado! 😊 \\n\\n{traducao}'\n",
    "    responder(id, resposta, [['Continuar','/OK']], 1)\n"
   ]
  },
  {
   "cell_type": "markdown",
   "metadata": {},
   "source": [
    "Função responsável por alterar o nível do usuário"
   ]
  },
  {
   "cell_type": "code",
   "execution_count": null,
   "metadata": {},
   "outputs": [],
   "source": [
    "def AlterarNivel(user, nivel): # Recebe como parâmetro a variável com as informações do usuário e o novo nível\n",
    "    id = user.get_id()\n",
    "    if nivel == 'Nivel': # Caso a opção escolhida seja o /Nivel, Exibe o menu de níveis\n",
    "        resposta = f'Escolha seu nível 🤗 '\n",
    "        responder(id, resposta, [['Nível Básico','/Basico'], ['Nível Básico Avançado', '/BasicoAvancado'], ['Nível Intermediário', '/Intermediario'], ['Nível Intermediário Avançado', '/IntermediarioAvancado'], ['Nível Fluente', '/Fluente']], 1)\n",
    "    \n",
    "    else: # Caso seja o nível, exemplo /Basico, /Intermediario etc, faz a alteração nas informações do usuário\n",
    "        user.set_nivel(nivel) # Altera o nível na classe do usuário\n",
    "        resposta = f'Seu nível foi alterado para {nivel} 😉'\n",
    "        responder(id, resposta, [['Continuar','/OK']], 1)\n"
   ]
  },
  {
   "cell_type": "markdown",
   "metadata": {},
   "source": [
    "Função responsável por exibir as histórias"
   ]
  },
  {
   "cell_type": "code",
   "execution_count": null,
   "metadata": {},
   "outputs": [],
   "source": [
    "def exibirHistoria(user): # Recebe a variável com as informações do usuário\n",
    "    nivel = user.get_nivel()\n",
    "    id = user.get_id()\n",
    "    receberFrases(nivel,'Historia') # Solicita uma história passando como parâmetro o nível e informando que será uma história\n",
    "\n",
    "    # Envia a história ao usuário\n",
    "    mensagem = user.get_frase()\n",
    "    nivel = user.get_nivel()\n",
    "    resposta = f'História de Nível: {nivel}🔥 \\n\\nEsta é a sua frase, bons estudos! \\n\\n{mensagem}'\n",
    "    responder(id, resposta, [['Continuar','/OK']], 1)\n"
   ]
  },
  {
   "cell_type": "markdown",
   "metadata": {},
   "source": [
    "Função responsável por exibir as frases"
   ]
  },
  {
   "cell_type": "code",
   "execution_count": null,
   "metadata": {},
   "outputs": [],
   "source": [
    "def exibirFrase(user): # Recebe a variável com as informações do usuário\n",
    "    nivel = user.get_nivel()\n",
    "    id = user.get_id()\n",
    "    receberFrases(nivel, 'Frase')# Solicita uma frase passando como parâmetro o nível e informando que será uma frase\n",
    "\n",
    " \n",
    "    # Envia a frase ao usuário\n",
    "    mensagem = user.get_frase()\n",
    "    nivel = user.get_nivel()\n",
    "    resposta = f'Frase de Nível: {nivel}🔥 \\n\\nEsta é a sua frase, bons estudos! \\n\\n{mensagem}'\n",
    "    responder(id, resposta, [['Continuar','/OK']], 1)\n"
   ]
  },
  {
   "cell_type": "markdown",
   "metadata": {},
   "source": [
    "Função responsável por gerenciar todas as requisições referentes a aba aprender na matéria Numbers."
   ]
  },
  {
   "cell_type": "code",
   "execution_count": null,
   "metadata": {},
   "outputs": [],
   "source": [
    "def Numbers(mensagem, user): # Recebe a mensagem e o usuário\n",
    "    id = user.get_id()\n",
    "    number = user.get_number()\n",
    "    if mensagem == '/Numbers': # Exibe os conteúdos referentes ao Numbers\n",
    "        resposta = f'Você quer aprender sobre números?! 👋 \\n\\nSelecione o que deseja!'\n",
    "        responder(id, resposta, [['Conteúdo sobre Numbers', '/ConteudoNumbers'], ['Exibir Number', '/ExibirNumber']], 1)\n",
    "        \n",
    "\n",
    "    elif mensagem == '/ConteudoNumbers': # Exibe a explicação de como se formam os números por extenso, com base na base de dados\n",
    "        planilha = load_workbook('Aprendendo.xlsx')\n",
    "        aba_ativa = planilha['Numeros']\n",
    "        resposta = aba_ativa['D1'].value\n",
    "        responder(id, resposta, [['Exibir Number', '/ExibirNumber'], ['Continuar','/OK']], 1)\n",
    "\n",
    "    elif mensagem == '/ExibirNumber': # Exibe um número aleatório\n",
    "        numero = gerar_numero()\n",
    "        user.set_number(numero)\n",
    "        resposta = f'O número escolhido foi {numero} '\n",
    "        responder(id, resposta, [['Escrever por extenso', '/ExtensoNumbers'], ['Exibir Número Extenso', '/ExibirNumberExtenso'], ['Exibir Number', '/ExibirNumber'], ['Continuar','/OK']], 1)\n",
    "    \n",
    "    elif mensagem == '/ExtensoNumbers': # Exibe a opção de escrever esse número por extenso\n",
    "        user.set_ultimoComando('/ExtensoNumbers')\n",
    "        resposta = f'Digite o número informado por extenso: '\n",
    "        responder_sem_button(id, resposta)\n",
    "\n",
    "    elif mensagem == '/ExibirNumberExtenso': # Exibe o número escrito por extenso\n",
    "        extenso = decidir_verificacao_number(int(number))\n",
    "        resposta = f'\\nO número {number} por extenso é: \\n\\n{extenso}'\n",
    "        responder(id, resposta, [['Exibir Number', '/ExibirNumber'], ['Continuar','/OK']], 1)\n",
    "\n"
   ]
  },
  {
   "cell_type": "markdown",
   "metadata": {},
   "source": [
    "Função responsável por verificar se o número escrito por extenso pelo usuário esta correto ou não"
   ]
  },
  {
   "cell_type": "code",
   "execution_count": null,
   "metadata": {},
   "outputs": [],
   "source": [
    "def VerificarNumberExtenso(mensagem, user): # Recebe o número escrito pelo usuário e a classe do usuário\n",
    "    number = user.get_number()\n",
    "    id = user.get_id()\n",
    "    if mensagem.capitalize() == decidir_verificacao_number(int(number)): # Verifica se o número recebido e a forma escrita com base na regra estão iguais\n",
    "                resposta = f'Você acertou!'\n",
    "                user.set_ultimoComando('/Aprender')\n",
    "                responder(id, resposta, [['Exibir Number', '/ExibirNumber'], ['Continuar','/OK']], 1)\n",
    "    else:\n",
    "        extenso = decidir_verificacao_number(int(number)).capitalize()\n",
    "        resposta = f'Você errou! a traducao correta é: \\n\\n{extenso}'\n",
    "        user.set_ultimoComando('/Aprender')\n",
    "        responder(id, resposta, [['Exibir Number', '/ExibirNumber'], ['Continuar','/OK']], 1)\n",
    "\n"
   ]
  },
  {
   "cell_type": "markdown",
   "metadata": {},
   "source": [
    "Função responsável por gerenciar todas as ações referentes a seção de exibir frases ou histórias"
   ]
  },
  {
   "cell_type": "code",
   "execution_count": null,
   "metadata": {},
   "outputs": [],
   "source": [
    "def verificarComandoFrases(mensagem, user):  # recebe como parâmetro a variável do usuário, e o comando que ele forneceu\n",
    "    if mensagem == '/Frase':\n",
    "        exibirFrase(user) # Chama a função para exibir a frase\n",
    "    \n",
    "    elif mensagem == '/Historia':\n",
    "        exibirHistoria(user) # Chama a função para exibir a história\n",
    "    \n",
    "    elif mensagem == '/Traducao':\n",
    "        exibirTraducao(user) # Chama a função para exibir a tradução\n",
    "    \n",
    "    elif mensagem == '/Nivel':\n",
    "        nivel = 'Nivel'\n",
    "        AlterarNivel(user, nivel) # Chama a função para exibir a escolha de níveis\n",
    "\n",
    "    elif mensagem == '/Basico':\n",
    "        nivel = 'Básico'\n",
    "        AlterarNivel(user, nivel) # Chama a função para alterar o nível passando a variável usuário e o nível\n",
    "    \n",
    "    elif mensagem == '/BasicoAvancado':\n",
    "        nivel = 'Básico Avançado'\n",
    "        AlterarNivel(user, nivel) # Chama a função para alterar o nível passando a variável usuário e o nível\n",
    "    \n",
    "    elif mensagem == '/Intermediario':\n",
    "        nivel = 'Intermediário'\n",
    "        AlterarNivel(user, nivel) # Chama a função para alterar o nível passando a variável usuário e o nível\n",
    "    \n",
    "    elif mensagem == '/IntermediarioAvancado':\n",
    "        nivel = 'Intermediário Avançado'\n",
    "        AlterarNivel(user, nivel) # Chama a função para alterar o nível passando a variável usuário e o nível\n",
    "    \n",
    "    elif mensagem == '/Fluente':\n",
    "        nivel = 'Fluente'\n",
    "        AlterarNivel(user, nivel) # Chama a função para alterar o nível passando a variável usuário e o nível\n",
    "\n",
    "    elif mensagem == '/Aprender': # Seleciona a aba de aprendizado\n",
    "        user.set_fraseOrAprender('Aprender')\n",
    "        resposta = f'Que bom que você queira aprender! 👋 \\n\\nSelecione a materia que deseja aprender!'\n",
    "        responder(id, resposta, [['Numbers', '/Numbers']], 1)\n",
    "        \n",
    "    elif mensagem == '/Proposito': # Envia a explicação do funcionamento do bot ao usuário\n",
    "        resposta = f'Olá, que bom que queira saber mais de nós 😊 \\n\\nNosso propósito é ajudar você a treinar e colocar em prática seus estudos de inglês. Eu forneço frases e histórias com o objetivo de você tentar traduzi-las. Depois, você pode verificar se acertou solicitando a tradução da frase ou história. \\n\\nNós surgimos da necessidade de um lugar onde pudéssemos treinar nossos aprendizados de forma prática, traduzindo pequenos textos ou frases, mas que estes estivessem no nosso nível de aprendizado. Muitas das vezes, outros lugares que tinham essas frases e histórias, não possuíam um nível equivalente ao nosso aprendizado. Dai eu surgi, com o objetivo de te ajudar a aprender cada vez mais. \\n\\nFico muito feliz de tê-lo por aqui! 😊😊'\n",
    "        responder(id, resposta, [['Continuar','/OK']], 1)\n",
    "\n",
    "    else:\n",
    "        exibirMenu(user) # Caso a mensagem recebida não seja nehum dos comandos acima, exibe o menu\n",
    "\n"
   ]
  },
  {
   "cell_type": "markdown",
   "metadata": {},
   "source": [
    "Função responsável por gerenciar todas as ações referentes a seção Aprender"
   ]
  },
  {
   "cell_type": "code",
   "execution_count": null,
   "metadata": {},
   "outputs": [],
   "source": [
    "def verificarComandoAprender(mensagem, user): # recebe como parâmetro a classe do usuário, e o comando que ele forneceu\n",
    "    id = user.get_id()\n",
    "    ultimoComando = user.get_ultimoComando()\n",
    "    \n",
    "    if mensagem == '/Frase':\n",
    "        user.set_fraseOrAprender('Frase')\n",
    "        exibirFrase(user)\n",
    "    \n",
    "    elif mensagem == '/Historia':\n",
    "        user.set_fraseOrAprender('Frase')\n",
    "        exibirHistoria(user)\n",
    "    \n",
    "    elif mensagem == '/Traducao':\n",
    "        user.set_fraseOrAprender('Frase')\n",
    "        exibirTraducao(user)\n",
    "    \n",
    "    elif mensagem == '/Nivel':\n",
    "        nivel = 'Nivel'\n",
    "        user.set_fraseOrAprender('Frase')\n",
    "        AlterarNivel(user, nivel)\n",
    "\n",
    "    elif mensagem == '/Aprender': # Seleciona a aba de aprendizado\n",
    "        user.set_ultimoComando('/Aprender')\n",
    "        resposta =  f'Que bom que você queira aprender! 👋 \\n\\nSelecione a materia que deseja aprender!'\n",
    "        responder(id, resposta, [['Numbers', '/Numbers']], 1)\n",
    "\n",
    "    elif ultimoComando == '/Aprender': # Exibe as opções da aba de aprendizado\n",
    "        if mensagem == '/Numbers' or mensagem == '/ConteudoNumbers' or mensagem == '/ExibirNumber' or mensagem == '/ExtensoNumbers' or mensagem == '/ExibirNumberExtenso':\n",
    "            Numbers(mensagem, user)\n",
    "        else:\n",
    "            user.set_ultimoComando('/OK') \n",
    "            exibirMenu(user)\n",
    "        \n",
    "    elif mensagem == '/Proposito': # Envia a explicação do funcionamento do bot ao usuário\n",
    "        resposta = f'Olá, que bom que queira saber mais de nós 😊 \\n\\nNosso propósito é ajudar você a treinar e colocar em prática seus estudos de inglês. Eu forneço frases e histórias com o objetivo de você tentar traduzi-las. Depois, você pode verificar se acertou solicitando a tradução da frase ou história. \\n\\nNós surgimos da necessidade de um lugar onde pudéssemos treinar nossos aprendizados de forma prática, traduzindo pequenos textos ou frases, mas que estes estivessem no nosso nível de aprendizado. Muitas das vezes, outros lugares que tinham essas frases e histórias, não possuíam um nível equivalente ao nosso aprendizado. Dai eu surgi, com o objetivo de te ajudar a aprender cada vez mais. \\n\\nFico muito feliz de tê-lo por aqui! 😊😊'\n",
    "        responder(id, resposta, [['Continuar','/OK']], 1)\n",
    "\n",
    "    else:\n",
    "        if ultimoComando == '/ExtensoNumbers': # Verifica se o usuário escreveu um número por extenso\n",
    "            VerificarNumberExtenso(mensagem, user)\n",
    "        else:\n",
    "            exibirMenu(user) # Caso a mensagem recebida não seja nehum dos comandos acima, exibe o menu\n"
   ]
  },
  {
   "cell_type": "markdown",
   "metadata": {},
   "source": [
    "Função responsável por receber os comando e definir qual ação irá executar, seja exibir o menu, uma frase, historia, aprender etc."
   ]
  },
  {
   "cell_type": "code",
   "execution_count": null,
   "metadata": {},
   "outputs": [],
   "source": [
    "def Section(mensagem, user):\n",
    "    user.get_fraseOrAprender()\n",
    "    if usuario == 'Frase':\n",
    "        usuario = verificarComandoFrases(mensagem, user) # Seleciona a aba de frases e histórias\n",
    "    elif usuario == 'Aprender':\n",
    "        verificarComandoAprender(mensagem, user) # Seleciona a aba de aprender\n"
   ]
  },
  {
   "cell_type": "markdown",
   "metadata": {},
   "source": [
    "Função responsável por registrar o usuário na base de dados caso ele não esteja cadastrado"
   ]
  },
  {
   "cell_type": "code",
   "execution_count": 15,
   "metadata": {},
   "outputs": [],
   "source": [
    "def registrarUsuario(user): # Recebe a variável do usuário\n",
    "    planilha = load_workbook('Usuarios.xlsx') # Carrega a planilha de usuários\n",
    "    aba_ativa = planilha.active # Como possui apenas uma aba, seleciona ela\n",
    "    usuario = [user.get_id(), user.get_frase(), user.get_traducao(), user.get_nivel(), user.get_number(), user.get_ultimoComando(), user.get_fraseOrAprender()]\n",
    "    aba_ativa.append(usuario) # Adiciona as informações do usuário na última linha\n",
    "    planilha.save('Usuarios.xlsx') # Salva a planliha"
   ]
  },
  {
   "cell_type": "markdown",
   "metadata": {},
   "source": [
    "Função responsável por coletar as informações do usuário na base de dados"
   ]
  },
  {
   "cell_type": "code",
   "execution_count": 16,
   "metadata": {},
   "outputs": [],
   "source": [
    "def UserInfo(id): # Recebe o id do usuário\n",
    "    planilha = load_workbook('Usuarios.xlsx') # Carrega a planilha\n",
    "    aba_ativa = planilha.active # Seleciona a aba ativa\n",
    "    for celula in aba_ativa['A']: # Percorre todas as celulas da coluna A\n",
    "        if type(celula.value) == int : # Verifica se o valor contido na célula é um número inteiro\n",
    "            if celula.value == id: # Verifica se o valor da cécula corresponde ao id procurado\n",
    "                linha = celula.row # Salva qual a linha do id \n",
    "                frase = aba_ativa[f'B{linha}'].value # Coleta a informação da frase\n",
    "                traducao = aba_ativa[f'C{linha}'].value # Coleta a informação da tradução\n",
    "                nivel = aba_ativa[f'D{linha}'].value # Coleta a informação do nível\n",
    "                number = aba_ativa[f'E{linha}'].value # Coleta a informação do número exibido\n",
    "                UltimaMensagem = aba_ativa[f'F{linha}'].value # Coleta a informação do último comando\n",
    "                comando = aba_ativa[f'G{linha}'].value # Coleta a informação da aba escolhida\n",
    "                return [id, frase, traducao, nivel, number, UltimaMensagem, comando], linha #Retorna as informações em uma lista, que será atribuída a variável usuário e a linha em que essas informações estavam na planilha"
   ]
  },
  {
   "cell_type": "markdown",
   "metadata": {},
   "source": [
    "Função responsável por receber a lista de usuários"
   ]
  },
  {
   "cell_type": "code",
   "execution_count": 17,
   "metadata": {},
   "outputs": [],
   "source": [
    "def receberListaUser():\n",
    "    lista_id = []\n",
    "    planilha = load_workbook('Usuarios.xlsx') #Carrega a planilha\n",
    "    aba_ativa = planilha.active # Seleciona a aba \n",
    "    for celula in aba_ativa['A']: # Percorre toda a coluna A, dos id\n",
    "      if type(celula.value) == int : # Verifica se o valor da célula é um número inteiro\n",
    "        lista_id.append(celula.value) # Adiciona cada valor ao final da lista\n",
    "    return lista_id # Retorna a lista"
   ]
  },
  {
   "cell_type": "markdown",
   "metadata": {},
   "source": [
    "Função responsável por verificar se o usuário já está cadastrado na lista ou não"
   ]
  },
  {
   "cell_type": "code",
   "execution_count": 18,
   "metadata": {},
   "outputs": [],
   "source": [
    "def verificarUsuario(id): # Recebe o id\n",
    "    listaUsersId = receberListaUser() # Recebe a lista \n",
    "    if id in listaUsersId: # Verifica se o id fornecido esta na lista\n",
    "        return True # Se sim, returna True\n",
    "    else: return False # Se não retorna False"
   ]
  },
  {
   "cell_type": "markdown",
   "metadata": {},
   "source": [
    "O bot será configurado para sempre estar 'escutando' e cada mensagem que o ususário mandar, ele irá executar uma ação. Mas para que isso aconteça, devemos criar uma função para que ele rode o código independente da mensagem que for recebida"
   ]
  },
  {
   "cell_type": "code",
   "execution_count": 19,
   "metadata": {},
   "outputs": [],
   "source": [
    "# Criando função que retorna True independente da mensagem\n",
    "\n",
    "def verificar(mensagem):\n",
    "    return True"
   ]
  },
  {
   "cell_type": "markdown",
   "metadata": {},
   "source": [
    "Código principal\n",
    "\n",
    "A função abaixo contém todo o código principal do bot, o 'gerenciador de tarefas'. Esta função sempre esta esperando uma mensagem do usuário, assim que esta mensagem é recebida, ela é executada"
   ]
  },
  {
   "cell_type": "code",
   "execution_count": 20,
   "metadata": {},
   "outputs": [],
   "source": [
    "@bot.message_handler(func=verificar) #utiliza da função acima para executar independente da mensagem\n",
    "def receber(mensagem): \n",
    "\n",
    "    id = mensagem.chat.id  #define o id por meio dos atributos passados ao receber a mensagem\n",
    "    mensagemUser = mensagem.text #define o texto da mensagem\n",
    "\n",
    "    if verificarUsuario(id): # verifica se o usuário ja existe na base de dados\n",
    "        print('Usuario existente')\n",
    "        usuario, linha = UserInfo(id) # se o usuário existir, chama a função UserInfo\n",
    "        user = User(usuario[0], usuario[1], usuario[2], usuario[3], usuario[4], usuario[5], usuario[6]) # Cria a classe usuário\n",
    "    else:\n",
    "        print('Usuario novo')\n",
    "        user = User(id, 'Não existem frases', 'Não existem frases para traduzir, peça uma!', 'Básico', 0, '/OK', 'Frase') # se não existir, atirbui valores temporários e cria a classe usuario\n",
    "        registrarUsuario(user) # Chama a função para registrar  o usuário na base de dados, com os valores temporários\n",
    "        usuario, linha = UserInfo(id) # Chama a função UserInfo, desta vez, para receber em qual linha o usuário foi cadastrado\n",
    "\n",
    "    Section(mensagemUser, user) # Verifica qual foi o comando/texto que o usuário enviou\n",
    "    AlterarUsuario(user, linha) #Esta é a ultima função do código, antes dela as variáveis permanetes do usuário já foram definidas, através dos comandos recebidos, ala é responsável por atualizar a base de dados"
   ]
  },
  {
   "cell_type": "markdown",
   "metadata": {},
   "source": [
    "Função responsável por esperar e capturar os retornos obtidos dos botões ao serem pressionados"
   ]
  },
  {
   "cell_type": "code",
   "execution_count": null,
   "metadata": {},
   "outputs": [],
   "source": [
    "@bot.callback_query_handler(func=lambda call:True)\n",
    "def receber_btn(callback):\n",
    "    id = callback.message.chat.id\n",
    "    mensagemUser = callback.data\n",
    "\n",
    "    if verificarUsuario(id):\n",
    "        print('Usuario existente')\n",
    "        usuario, linha = UserInfo(id)\n",
    "        user = User(usuario[0], usuario[1], usuario[2], usuario[3], usuario[4], usuario[5], usuario[6])\n",
    "    else:\n",
    "        print('Usuario novo')\n",
    "        user = User(id, 'Não existem frases', 'Não existem frases para traduzir, peça uma!', 'Básico', 0, '/OK', 'Frase')\n",
    "        registrarUsuario(user)\n",
    "        usuario, linha = UserInfo(id)\n",
    "\n",
    "    Section(mensagemUser, user)\n",
    "    AlterarUsuario(user, linha)\n",
    "\n"
   ]
  },
  {
   "cell_type": "code",
   "execution_count": null,
   "metadata": {},
   "outputs": [],
   "source": [
    "bot.polling() # Define que o bot deve sempre estar funcionando e esperando mensagens do usuário"
   ]
  }
 ],
 "metadata": {
  "kernelspec": {
   "display_name": "Python 3",
   "language": "python",
   "name": "python3"
  },
  "language_info": {
   "codemirror_mode": {
    "name": "ipython",
    "version": 3
   },
   "file_extension": ".py",
   "mimetype": "text/x-python",
   "name": "python",
   "nbconvert_exporter": "python",
   "pygments_lexer": "ipython3",
   "version": "3.12.2"
  }
 },
 "nbformat": 4,
 "nbformat_minor": 2
}
