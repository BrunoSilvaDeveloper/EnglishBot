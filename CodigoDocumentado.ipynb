{
 "cells": [
  {
   "cell_type": "markdown",
   "metadata": {},
   "source": [
    "## Propósito do projeto"
   ]
  },
  {
   "cell_type": "markdown",
   "metadata": {},
   "source": [
    "##### Nosso propósito é ajudar você a treinar e colocar em prática seus estudos de inglês. Eu forneço frases e histórias com o objetivo de você tentar traduzi-las. Depois, você pode verificar se acertou solicitando a tradução da frase ou história. Nós surgimos da necessidade de um lugar onde pudéssemos treinar nossos aprendizados de forma prática, traduzindo pequenos textos ou frases, mas que estes estivessem no nosso nível de aprendizado. Muitas das vezes, outros lugares que tinham essas frases e histórias, não possuíam um nível equivalente ao nosso aprendizado. Dai eu surgi, com o objetivo de te ajudar a aprender cada vez mais.\n"
   ]
  },
  {
   "cell_type": "markdown",
   "metadata": {},
   "source": [
    "## Importando Bibliotecas"
   ]
  },
  {
   "cell_type": "markdown",
   "metadata": {},
   "source": [
    "Nesse projeto utilizaremos 3 bibliotecas.\n",
    "\n",
    "- A primeira delas é a Telebot, responsável por fazer a comunicação com o Telegram.\n",
    "- A segunda é a random, responsável por escolher aleatoriamente uma frase ou história na base de dados.\n",
    "- E por fim, a biblioteca openpyxl, responsável por fazer a comunicação com a base de dados, no caso, uma planilha do excel.\n",
    "\n",
    "Antes de importar, devemos fazer o download das bibliotecas!\n",
    "\n",
    "Versões disponíveis no arquivo requeriments."
   ]
  },
  {
   "cell_type": "code",
   "execution_count": 1,
   "metadata": {},
   "outputs": [],
   "source": [
    "#Importando bibliotecas\n",
    "\n",
    "import telebot\n",
    "import random\n",
    "from openpyxl import load_workbook"
   ]
  },
  {
   "cell_type": "markdown",
   "metadata": {},
   "source": [
    "## Definindo sua chave API"
   ]
  },
  {
   "cell_type": "markdown",
   "metadata": {},
   "source": [
    "### Criando o chatbot"
   ]
  },
  {
   "cell_type": "markdown",
   "metadata": {},
   "source": [
    "Para conseguir realizar a comunicação com o Telegram, primeiro devemos criar um chat no telegram, non qual utilizaremos como chatbot\n",
    "\n",
    "Para isto devemos seguir alguns passos simples:\n",
    "\n",
    "- Passo 1: Ir até a pesquisa do app Telegram e procurar por BotFather, ele terá o simbolo de verificado\n",
    "\n",
    "- Passo 2: Apertar o botão Start, para começar uma nova conversa\n",
    "\n",
    "- Passo 3: Ele vai te retornar uma mensagem com vários comandos, para criar um novo bot, basta selecionar a opção /newbot\n",
    "\n",
    "- Passo 4: Ele pedirá para que você defina um nome para o bot, no nosso caso, se chama English Bot\n",
    "\n",
    "- Passo 5: Agora ele pedirá para que você defina um username para o bot. Atençao! o username deve ser terminado com a palavra 'bot'. Exemplo: EnglishBot, English_bot e deve estar disponível.\n",
    "\n",
    "- Passo 6: Agora ele te retornará uma mensagem com os dados do seu bot, o primeiro link, 't.me/nomedobot' será o link para a conversa com seu chatbot. Nesta mesma mensagem, também haverá a sua chave Api, responsável por permitir a conexão do seu script com o chatbot.\n",
    "\n",
    "Não compartilhe esta chave API, ela da acesso ao controle do seu chatbot."
   ]
  },
  {
   "cell_type": "markdown",
   "metadata": {},
   "source": [
    "### Definindo a chave no script"
   ]
  },
  {
   "cell_type": "code",
   "execution_count": 3,
   "metadata": {},
   "outputs": [],
   "source": [
    "# Com a chave API em mãos, basta definir a nossa variável para ela\n",
    "\n",
    "CHAVE_API = \"Sua Chave api aqui\""
   ]
  },
  {
   "cell_type": "markdown",
   "metadata": {},
   "source": [
    "### Iniciando o bot"
   ]
  },
  {
   "cell_type": "code",
   "execution_count": 4,
   "metadata": {},
   "outputs": [],
   "source": [
    "# Para iniciar o bot e permitir a comunicação com o Telegram, basta executar o comando abaixo\n",
    "\n",
    "bot = telebot.TeleBot(CHAVE_API)\n",
    "\n",
    "# Agora, todas as operações envolvendo o bot devem ser realizadas através da variável 'bot''"
   ]
  },
  {
   "cell_type": "markdown",
   "metadata": {},
   "source": [
    "### Criando as funções"
   ]
  },
  {
   "cell_type": "markdown",
   "metadata": {},
   "source": [
    "No código python, as funções devem ser declaradas antes de serem utilizadas, por isso a ordem cronológica deste código esta de baixo para cima, ou seja, as últimas funções são as primeiras a serem executadas, e as primeiras, serão as últimsa a serem executadas"
   ]
  },
  {
   "cell_type": "markdown",
   "metadata": {},
   "source": [
    "Função responsável por altualizar a base de dados após todas as alterações feitas no perfil do usuário durante a execução do programa, será sempre a última a ser executada após cada mensagem do usuário."
   ]
  },
  {
   "cell_type": "code",
   "execution_count": 5,
   "metadata": {},
   "outputs": [],
   "source": [
    "def AlterarUsuario(usuario, linha): # Recebe como parâmetros a variável do usuário já modificada e a linha em que se encontra os dados do usuário na base de dados\n",
    "    planilha = load_workbook('Usuarios.xlsx') # Carrega a planilha\n",
    "    aba_ativa = planilha.active # Como só tem 1 aba nessa planilha de usuários, ele seleciona a aba que estiver ativa, ou seja, a única que tem\n",
    "    aba_ativa[f'A{linha}'] = usuario[0] # Adiciona o valor da variável usuario[0] na coluna A e na linha em que se encontra os dados do usuário\n",
    "    aba_ativa[f'B{linha}'] = usuario[1] # Coluna B\n",
    "    aba_ativa[f'C{linha}'] = usuario[2] # Coluna C\n",
    "    aba_ativa[f'D{linha}'] = usuario[3] # Coluna D\n",
    "    planilha.save('Usuarios.xlsx') # Salva a planilha após adicionar os dados\n"
   ]
  },
  {
   "cell_type": "markdown",
   "metadata": {},
   "source": [
    "Função responsável por enviar as mensagens do bot através do telegram"
   ]
  },
  {
   "cell_type": "code",
   "execution_count": 6,
   "metadata": {},
   "outputs": [],
   "source": [
    "def responder(id, resposta): # Recebe como parâmetro o id do chat do usuário e a mensagem que deseja enviar para ele\n",
    "    bot.send_message(id, resposta, parse_mode=\"MarkdownV2\") # Comando para enviar a mensagem, passnado o id, a mensagem, e por fim um comando para permitir caracteres especiais do telegram, por exemplo deixar a mensagem em negrito ou itálico"
   ]
  },
  {
   "cell_type": "markdown",
   "metadata": {},
   "source": [
    "#### Aprendendo Section"
   ]
  },
  {
   "cell_type": "markdown",
   "metadata": {},
   "source": [
    "Na aba aprendendo teremos matérias sobre vários conteúdos sobre inglês, essa aba será atualizada constantemente com novos conteúdos."
   ]
  },
  {
   "cell_type": "markdown",
   "metadata": {},
   "source": [
    "##### Numbers"
   ]
  },
  {
   "cell_type": "markdown",
   "metadata": {},
   "source": [
    "A área dos números é responsável por gerar números aleatórios e solicitar ao usuário que escreva este número por extenso em inglês, além de todo o conteúdo sobre as regras de formação dos números em inglês."
   ]
  },
  {
   "cell_type": "markdown",
   "metadata": {},
   "source": [
    "Função responsável por gerar um número aleatório entre 0 e 99999"
   ]
  },
  {
   "cell_type": "code",
   "execution_count": null,
   "metadata": {},
   "outputs": [],
   "source": [
    "def gerar_numero():\n",
    "    probabilidade = random.random()  # Solicita um número de 0 a 1\n",
    "    \n",
    "    # Números entre 0 e 100 possuem 40% de probabilidade de serem escolhidos\n",
    "    # Números entre 101 e 500 possuem 30% de probabilidade de serem escolhidos\n",
    "    # Números entre 501 e 3000 possuem 20% de probabilidade de serem escolhidos\n",
    "    # Números entre 3001 e 99999 possuem 10% de probabilidade de serem escolhidos\n",
    "\n",
    "    if probabilidade < 0.4: \n",
    "        return random.randint(0, 100) \n",
    "    elif probabilidade < 0.7:\n",
    "        return random.randint(101, 500) \n",
    "    elif probabilidade < 0.9:\n",
    "        return random.randint(501, 3000) \n",
    "    else:\n",
    "        return random.randint(3001, 99999)\n",
    "  "
   ]
  },
  {
   "cell_type": "markdown",
   "metadata": {},
   "source": [
    "Função responsável por verificar como o número é escrito por extenso, com base na tabela fornecida no nível da dezena"
   ]
  },
  {
   "cell_type": "code",
   "execution_count": 1,
   "metadata": {},
   "outputs": [],
   "source": [
    "def verificar_dezena(numero): # Recebe o número\n",
    "    planilha = load_workbook('Aprendendo.xlsx')\n",
    "    aba_ativa = planilha['Numeros'] # Carrega a planilha\n",
    "    if numero >= 0 and numero < 21:\n",
    "        return aba_ativa[f'A{numero+1}'].value # Retorna o número com base na tabela seguindo a regra\n",
    "\n",
    "    elif numero == 30:\n",
    "        return f'{aba_ativa[f'A{22}'].value}'\n",
    "\n",
    "    elif numero == 40:\n",
    "        return f'{aba_ativa[f'A{23}'].value}'\n",
    "\n",
    "    elif numero == 50:\n",
    "        return f'{aba_ativa[f'A{24}'].value}'\n",
    "\n",
    "    elif numero == 60:\n",
    "        return f'{aba_ativa[f'A{25}'].value}'\n",
    "\n",
    "    elif numero == 70:\n",
    "        return f'{aba_ativa[f'A{26}'].value}'\n",
    "\n",
    "    elif numero == 80:\n",
    "        return f'{aba_ativa[f'A{27}'].value}'\n",
    "\n",
    "    elif numero == 90:\n",
    "        return f'{aba_ativa[f'A{28}'].value}'\n",
    "        \n",
    "    elif numero > 20 and numero < 30:\n",
    "        return f'{aba_ativa[f'A{21}'].value}-{aba_ativa[f'A{numero-19}'].value}'\n",
    "\n",
    "    elif numero > 30 and numero < 40:\n",
    "        return f'{aba_ativa[f'A{22}'].value}-{aba_ativa[f'A{numero-29}'].value}'\n",
    "\n",
    "    elif numero > 40 and numero < 50:\n",
    "        return f'{aba_ativa[f'A{23}'].value}-{aba_ativa[f'A{numero-39}'].value}'\n",
    "\n",
    "    elif numero > 50 and numero < 60:\n",
    "        return f'{aba_ativa[f'A{24}'].value}-{aba_ativa[f'A{numero-49}'].value}'\n",
    "\n",
    "    elif numero > 60 and numero < 70:\n",
    "        return f'{aba_ativa[f'A{25}'].value}-{aba_ativa[f'A{numero-59}'].value}'\n",
    "\n",
    "    elif numero > 70 and numero < 80:\n",
    "        return f'{aba_ativa[f'A{26}'].value}-{aba_ativa[f'A{numero-69}'].value}'\n",
    "\n",
    "    elif numero > 80 and numero < 90:\n",
    "        return f'{aba_ativa[f'A{27}'].value}-{aba_ativa[f'A{numero-79}'].value}'\n",
    "\n",
    "    elif numero > 90 and numero < 100:\n",
    "        return f'{aba_ativa[f'A{28}'].value}-{aba_ativa[f'A{numero-89}'].value}'\n"
   ]
  },
  {
   "cell_type": "markdown",
   "metadata": {},
   "source": [
    "Função responsável por verificar como o número é escrito por extenso, com base na tabela fornecida no nível da centena"
   ]
  },
  {
   "cell_type": "code",
   "execution_count": null,
   "metadata": {},
   "outputs": [],
   "source": [
    "def verificar_centena(numero):\n",
    "\n",
    "    planilha = load_workbook('Aprendendo.xlsx')\n",
    "    aba_ativa = planilha['Numeros']\n",
    "\n",
    "    if numero == 100:\n",
    "        return f'{aba_ativa[f'A2'].value}-{aba_ativa[f'A{29}'].value}'\n",
    "    \n",
    "    if numero == 200:\n",
    "        return f'{aba_ativa[f'A3'].value}-{aba_ativa[f'A{29}'].value}'\n",
    "    \n",
    "    if numero == 300:\n",
    "        return f'{aba_ativa[f'A4'].value}-{aba_ativa[f'A{29}'].value}'\n",
    "    \n",
    "    if numero == 400:\n",
    "        return f'{aba_ativa[f'A5'].value}-{aba_ativa[f'A{29}'].value}'\n",
    "    \n",
    "    if numero == 500:\n",
    "        return f'{aba_ativa[f'A6'].value}-{aba_ativa[f'A{29}'].value}'\n",
    "    \n",
    "    if numero == 600:\n",
    "        return f'{aba_ativa[f'A7'].value}-{aba_ativa[f'A{29}'].value}'\n",
    "    \n",
    "    if numero == 700:\n",
    "        return f'{aba_ativa[f'A8'].value}-{aba_ativa[f'A{29}'].value}'\n",
    "    \n",
    "    if numero == 800:\n",
    "        return f'{aba_ativa[f'A9'].value}-{aba_ativa[f'A{29}'].value}'\n",
    "    \n",
    "    if numero == 900:\n",
    "        return f'{aba_ativa[f'A10'].value}-{aba_ativa[f'A{29}'].value}'\n",
    "        \n",
    "    elif numero > 100 and numero < 200:\n",
    "        return f'{aba_ativa[f'A2'].value}-{aba_ativa[f'A{29}'].value} and {verificar_dezena(numero-100)}'\n",
    "\n",
    "    elif numero > 200 and numero < 300:\n",
    "        return f'{aba_ativa[f'A3'].value}-{aba_ativa[f'A{29}'].value} and {verificar_dezena(numero-200)}'\n",
    "    \n",
    "    elif numero > 300 and numero < 400:\n",
    "        return f'{aba_ativa[f'A4'].value}-{aba_ativa[f'A{29}'].value} and {verificar_dezena(numero-300)}'\n",
    "\n",
    "    elif numero > 400 and numero < 500:\n",
    "        return f'{aba_ativa[f'A5'].value}-{aba_ativa[f'A{29}'].value} and {verificar_dezena(numero-400)}'\n",
    "    \n",
    "    elif numero > 500 and numero < 600:\n",
    "        return f'{aba_ativa[f'A6'].value}-{aba_ativa[f'A{29}'].value} and {verificar_dezena(numero-500)}'\n",
    "    \n",
    "    elif numero > 600 and numero < 700:\n",
    "        return f'{aba_ativa[f'A7'].value}-{aba_ativa[f'A{29}'].value} and {verificar_dezena(numero-600)}'\n",
    "    \n",
    "    elif numero > 700 and numero < 800:\n",
    "        return f'{aba_ativa[f'A8'].value}-{aba_ativa[f'A{29}'].value} and {verificar_dezena(numero-700)}'\n",
    "\n",
    "    elif numero > 800 and numero < 900:\n",
    "        return f'{aba_ativa[f'A9'].value}-{aba_ativa[f'A{29}'].value} and {verificar_dezena(numero-800)}'\n",
    "\n",
    "    elif numero > 900 and numero < 1000:\n",
    "        return f'{aba_ativa[f'A10'].value}-{aba_ativa[f'A{29}'].value} and {verificar_dezena(numero-900)}'\n"
   ]
  },
  {
   "cell_type": "markdown",
   "metadata": {},
   "source": [
    "Função responsável por verificar como o número é escrito por extenso, com base na tabela fornecida no nível do milhar"
   ]
  },
  {
   "cell_type": "code",
   "execution_count": null,
   "metadata": {},
   "outputs": [],
   "source": [
    "def verificar_milhar(numero):\n",
    "    n = str(numero) # Transforma o número para string\n",
    "    if len(n) == 4: # Verifica se ele tem pelo menos 4 casas, ou seja, é milhar\n",
    "        milhar = int(n[0]) # Extrai a primeira casa do número, ou seja, a casa do milhar\n",
    "        centena = int(n[-3])*100 # Extrai a casa da centena\n",
    "        dezena = int(n[-2]+n[-1]) # Extrai a casa da dezena\n",
    "    elif len(n) == 5:\n",
    "        milhar = int(n[0]+n[1])\n",
    "        centena = int(n[-3])*100\n",
    "        dezena = int(n[-2]+n[-1])\n",
    "\n",
    "    if numero > 999 and numero < 100000: # Retorna o número escrito por extenso com base na regra\n",
    "        return f'{verificar_dezena(milhar)}-thousand and {verificar_centena(centena)} and {verificar_dezena(dezena)}'\n"
   ]
  },
  {
   "cell_type": "markdown",
   "metadata": {},
   "source": [
    "Função responsável por decidir se o número é dezena, centena ou milhar"
   ]
  },
  {
   "cell_type": "code",
   "execution_count": null,
   "metadata": {},
   "outputs": [],
   "source": [
    "def decidir_verificacao_number(numero):\n",
    "    if numero < 100:\n",
    "        return verificar_dezena(numero)\n",
    "\n",
    "    elif numero >=100 and numero < 1000:\n",
    "        return verificar_centena(numero)\n",
    "\n",
    "    elif numero >=1000:\n",
    "        return verificar_milhar(numero)"
   ]
  },
  {
   "cell_type": "markdown",
   "metadata": {},
   "source": [
    "#### Phrases and Stories section"
   ]
  },
  {
   "cell_type": "markdown",
   "metadata": {},
   "source": [
    "Função responsável por carregar a planliha com as frases ou a planliha com as histórias e selecionar uma aleatóriamente para enviar ao usuário"
   ]
  },
  {
   "cell_type": "code",
   "execution_count": 8,
   "metadata": {},
   "outputs": [],
   "source": [
    "def receberFrases(nivel, choice): # Recebe como parâmetros o nível do usuário e a escolha dele (Frase ou História)\n",
    "    if nivel == None: # Definindo um nível padrão para envitar bugs\n",
    "        nivel == 'Básico'\n",
    "\n",
    "\n",
    "    # Ambas as planilhas possuem mais de uma aba, sendo uma aba para cada nível de frase. \n",
    "    # Elas estão nomeadas com o próprio nível e escritas de forma identica ao nível passado como parâmetro nessa função\n",
    "    # Com isso, ao selecionar a aba da planilha pelo nome, podemos apenas passar a variáavel nível, pois possui nome idêntico\n",
    "        \n",
    "    if choice == 'Frase': # Caso ele tenha escolhido uma frase\n",
    "        planilha = load_workbook('Frases Ingles.xlsx') # Seleciona a planilha de frases\n",
    "        aba_ativa = planilha[nivel] # Selecionando a aba da planilha pelo nome com base no nível\n",
    "\n",
    "    \n",
    "    elif choice == 'Historia': # Caso ele tenha escolhido uma hisstória\n",
    "        planilha = load_workbook('Historias Ingles.xlsx') # Seleciona a planilha de histórias\n",
    "        aba_ativa = planilha[nivel] # Selecionando a aba da planilha pelo nome com base no nível\n",
    "\n",
    "    QtdFrases = len(aba_ativa['A']) # Verificando a quantidade de frases que existem na planilha\n",
    "    number = random.randint(2, QtdFrases) # Selecionando uma linha aleatória, da segunda até a última, a primeira linha é apenas o título\n",
    "    frase = [aba_ativa[f'B{number}'].value, aba_ativa[f'C{number}'].value, aba_ativa[f'D{number}'].value] # Recebendo os valores contidos em cada coluna da linha escolhida\n",
    "    return frase # Os valores são armazenados nnuma lista contida na variável frase.\n",
    "    # A lista possui os seguintes valores: [IdUsuario, Frase, Traduçao, NivelUsuario]\n"
   ]
  },
  {
   "cell_type": "markdown",
   "metadata": {},
   "source": [
    "Função responsável por exibir o menu ao usuário"
   ]
  },
  {
   "cell_type": "code",
   "execution_count": null,
   "metadata": {},
   "outputs": [],
   "source": [
    "def exibirMenu(usuario): # Recebe como parâmetro a variável usuário, onde contém o id do chat\n",
    "    resposta = f'Olá, seja muito bem vindo\\! 👋 \\n\\n_Este é o nosso Menu 🏠_ \\n\\nExibir uma *frase*, clique aqui 👉 _/Frase_ \\nExibir uma *história*, clique aqui 👉 _/Historia_ \\nExibir a *tradução*, clique aqui 👉 _/Traducao_ \\nAlterar o seu *nível*, clique aqui 👉 _/Nivel_ \\n\\nPara entender nosso *Propósito* \\nClique aqui 👉 _/Proposito_'\n",
    "    responder(usuario[0], resposta) # Chama a função para responder, passando o id do usuário e a resposta\n"
   ]
  },
  {
   "cell_type": "markdown",
   "metadata": {},
   "source": [
    "Função responsável por exibir a traduçao da frase ou história"
   ]
  },
  {
   "cell_type": "code",
   "execution_count": null,
   "metadata": {},
   "outputs": [],
   "source": [
    "def exibirTraducao(usuario): # Como visto anteriormente, a variável usuário possui todas as informações, incluindo a frase escolhida e a traduçao dela\n",
    "    mensagem = usuario[2].replace('.', '\\.') # Como esta habilitada a função de caracteres especiais do telegram, caracteres como '.', '!', '-', possuem comandos especiais, por isso, para serem utilizados na frase, devem ser precedidos por \\\n",
    "    mensagem = mensagem.replace('!', '\\!') # Adicionando \\ antes de cada caractere especial\n",
    "    mensagem = mensagem.replace('-', '\\-')\n",
    "    responder(usuario[0], f'_Esta é a sua tradução, espero que tenha acertado\\! 😊_ \\n\\n{mensagem} \\n\\n*_Clique aqui para continuar\\.\\.\\. 👉 /OK_*')\n"
   ]
  },
  {
   "cell_type": "markdown",
   "metadata": {},
   "source": [
    "Função responsável por alterar o nível do usuário"
   ]
  },
  {
   "cell_type": "code",
   "execution_count": null,
   "metadata": {},
   "outputs": [],
   "source": [
    "def AlterarNivel(usuario, nivel): # Recebe como parâmetro a variável com as informações do usuário e o novo nível\n",
    "    if nivel == 'Nivel': # Caso a opção escolhida seja o /Nivel, Exibe o menu de níveis\n",
    "        resposta = f'Escolha seu nível 🤗 \\n\\n*Nível Básico* \\nClique aqui 👉 _/Basico_ \\n\\n*Nível Básico Avançado* \\nClique aqui 👉 _/BasicoAvancado_ \\n\\n*Nível Intemediário* \\nClique aqui 👉 _/Intermediario_ \\n\\n*Nível Intermediário Avançado* \\nClique aqui 👉 _/IntermediarioAvancado_ \\n\\n*Nível Fluente* \\nClique aqui 👉 _/Fluente_'\n",
    "        responder(usuario[0], resposta)\n",
    "    \n",
    "    else: # Caso seja o nível, exemplo /Basico, /Intermediario etc, faz a alteração nas informações do usuário\n",
    "        usuario[3] = nivel\n",
    "        resposta = f'Seu nível foi alterado para _*{nivel}*_ 😉 \\n\\n*_Clique aqui para continuar\\.\\.\\. 👉 /OK_*'\n",
    "        responder(usuario[0], resposta)\n",
    "\n",
    "    return usuario # Retorna a variável usuário já alterada\n"
   ]
  },
  {
   "cell_type": "markdown",
   "metadata": {},
   "source": [
    "Função responsável por exibir as histórias"
   ]
  },
  {
   "cell_type": "code",
   "execution_count": null,
   "metadata": {},
   "outputs": [],
   "source": [
    "def exibirHistoria(usuario): # Recebe a variável com as informações do usuário\n",
    "    frase = receberFrases(usuario[3],'Historia') # Solicita uma história passando como parâmetro o nível e informando que será uma história\n",
    "    usuario[1] = frase[0] # Adiciona a história à variável do usuário\n",
    "    usuario[2] = frase[1] # Adiciona a tradução à variável do usuário\n",
    "    usuario[3] = frase[2] # Adiciona o nível à variável do usuário\n",
    "\n",
    "    mensagem = usuario[1].replace('.', '\\.') #Adiciona \\ aos caracteres especiais\n",
    "    mensagem = mensagem.replace('!', '\\!')\n",
    "    mensagem = mensagem.replace('-', '\\-')\n",
    "    # Envia a história ao usuário\n",
    "    responder(usuario[0], f'*História de Nível:   {usuario[3]}*🔥 \\n\\n_Esta é a sua história, bons estudos\\!_\\n\\n{mensagem} \\n\\n*_Clique aqui para continuar\\.\\.\\. 👉 /OK_*')\n",
    "    return usuario # Retorna a variável do usuário\n"
   ]
  },
  {
   "cell_type": "markdown",
   "metadata": {},
   "source": [
    "Função responsável por exibir as frases"
   ]
  },
  {
   "cell_type": "code",
   "execution_count": null,
   "metadata": {},
   "outputs": [],
   "source": [
    "def exibirFrase(usuario): # Recebe a variável com as informações do usuário\n",
    "    frase = receberFrases(usuario[3], 'Frase')# Solicita uma frase passando como parâmetro o nível e informando que será uma frase\n",
    "    usuario[1] = frase[0] # Adiciona a frase à variável do usuário\n",
    "    usuario[2] = frase[1] # Adiciona a tradução à variável do usuário\n",
    "    usuario[3] = frase[2] # Adiciona o nível à variável do usuário\n",
    "\n",
    " \n",
    "    mensagem = usuario[1].replace('.', '\\.') #Adiciona \\ aos caracteres especiais\n",
    "    mensagem = mensagem.replace('!', '\\!')\n",
    "    mensagem = mensagem.replace('-', '\\-')\n",
    "    # Envia a frase ao usuário\n",
    "    responder(usuario[0], f'*Frase de Nível:   {usuario[3]}*🔥 \\n\\n_Esta é a sua frase, bons estudos\\!_\\n\\n{mensagem} \\n\\n*_Clique aqui para continuar\\.\\.\\. 👉 /OK_*')\n",
    "    return usuario # Retorna a variável do usuário"
   ]
  },
  {
   "cell_type": "markdown",
   "metadata": {},
   "source": [
    "Função responsável por receber os comando e definir qual ação irá executar, seja exibir o menu, uma frase, historia etc."
   ]
  },
  {
   "cell_type": "code",
   "execution_count": null,
   "metadata": {},
   "outputs": [],
   "source": [
    "def verficarComando(mensagem, usuario): # recebe como parâmetro a variável do usuário, e o comando que ele forneceu\n",
    "    if mensagem == '/Frase':\n",
    "        usuario = exibirFrase(usuario) # Chama a função para exibir a frase\n",
    "    \n",
    "    elif mensagem == '/Historia':\n",
    "        usuario = exibirHistoria(usuario) # Chama a função para exibir a história\n",
    "    \n",
    "    elif mensagem == '/Traducao':\n",
    "        exibirTraducao(usuario) # Chama a função para exibir a tradução\n",
    "    \n",
    "    elif mensagem == '/Nivel': \n",
    "        nivel = 'Nivel'\n",
    "        usuario = AlterarNivel(usuario, nivel) # Chama a função para exibir a escolha de níveis\n",
    "\n",
    "    elif mensagem == '/Basico':\n",
    "        nivel = 'Básico'\n",
    "        usuario = AlterarNivel(usuario, nivel) # Chama a função para alterar o nível passando a variável usuário e o nível\n",
    "    \n",
    "    elif mensagem == '/BasicoAvancado':\n",
    "        nivel = 'Básico Avançado'\n",
    "        usuario = AlterarNivel(usuario, nivel) # Chama a função para alterar o nível passando a variável usuário e o nível\n",
    "    \n",
    "    elif mensagem == '/Intermediario':\n",
    "        nivel = 'Intermediário'\n",
    "        usuario = AlterarNivel(usuario, nivel) # Chama a função para alterar o nível passando a variável usuário e o nível\n",
    "    \n",
    "    elif mensagem == '/IntermediarioAvancado':\n",
    "        nivel = 'Intermediário Avançado'\n",
    "        usuario = AlterarNivel(usuario, nivel) # Chama a função para alterar o nível passando a variável usuário e o nível\n",
    "    \n",
    "    elif mensagem == '/Fluente':\n",
    "        nivel = 'Fluente'\n",
    "        usuario = AlterarNivel(usuario, nivel) # Chama a função para alterar o nível passando a variável usuário e o nível\n",
    "    \n",
    "    elif mensagem == '/Aprender': # Informa as matérias disponíveis para aprendizado\n",
    "            resposta = f'Que bom que você queira aprender\\! 👋 \\n\\nSelecione a materia que deseja aprender\\! \\n\\n*Numbers*, clique aqui 👉 _/Numbers_ '\n",
    "            responder(usuario[0], resposta)\n",
    "\n",
    "    elif mensagem == '/Numbers': # Seleciona a materia Numbers\n",
    "        resposta = f'Você quer aprender sobre números\\?\\! 👋 \\n\\nSelecione o que deseja\\! \\n\\nExibir o *Conteudo*, clique aqui 👉 _/ConteudoNumbers_ \\nExibir um *número*, clique aqui 👉 _/ExibirNumber_'\n",
    "        responder(usuario[0], resposta)\n",
    "\n",
    "    elif mensagem == '/ConteudoNumbers': # Exibe o conteúdo dos números\n",
    "        planilha = load_workbook('Aprendendo.xlsx')\n",
    "        aba_ativa = planilha['Numeros']\n",
    "        ab1 = aba_ativa['D1'].value\n",
    "        resposta = f'{ab1} \\n\\n\\nExibir um *número*, clique aqui 👉 _/ExibirNumber_ \\n*_Clique aqui para continuar... 👉 /OK_*'\n",
    "        resposta = resposta.replace('!', '\\!')\n",
    "        resposta = resposta.replace('-', '\\-')\n",
    "        resposta = resposta.replace('+', '\\+')\n",
    "        resposta = resposta.replace('.', '\\.')\n",
    "        resposta = resposta.replace('(', '\\(')\n",
    "        resposta = resposta.replace(')', '\\)')\n",
    "        responder(usuario[0], resposta)\n",
    "\n",
    "    elif mensagem == '/ExibirNumber': # Exibe um número para treino\n",
    "        numero = gerar_numero()\n",
    "        usuario[4] = numero\n",
    "        resposta = f'O numero escolhido foi {numero} \\n\\nEscrever o numero por *extenso*, clique aqui 👉 _/ExtensoNumbers_ \\nExibir outro *número*, clique aqui 👉 _/ExibirNumber_ \\n*_Clique aqui para continuar\\.\\.\\. 👉 /OK_*' #opcao de traduzir ou so dar ok\n",
    "        responder(usuario[0], resposta)\n",
    "    \n",
    "    elif mensagem == '/ExtensoNumbers': # Exibe o número por extenso\n",
    "        usuario[5] = '/ExtensoNumbers'\n",
    "        resposta = f'Digite o número informado por extenso\\: '\n",
    "        responder(usuario[0], resposta)\n",
    "\n",
    "    elif mensagem == '/Proposito': # Envia a explicação do funcionamento do bot ao usuário\n",
    "        resposta = f'*Olá, que bom que queira saber mais de nós 😊 \\n\\n_Nosso propósito é ajudar você a treinar e colocar em prática seus estudos de inglês. Eu forneço frases e histórias com o objetivo de você tentar traduzi-las. Depois, você pode verificar se acertou solicitando a tradução da frase ou história. \\n\\nNós surgimos da necessidade de um lugar onde pudéssemos treinar nossos aprendizados de forma prática, traduzindo pequenos textos ou frases, mas que estes estivessem no nosso nível de aprendizado. Muitas das vezes, outros lugares que tinham essas frases e histórias, não possuíam um nível equivalente ao nosso aprendizado. Dai eu surgi, com o objetivo de te ajudar a aprender cada vez mais. \\n\\nFico muito feliz de tê-lo por aqui! 😊😊_* \\n\\n*_Clique aqui para continuar... 👉 /OK_*'\n",
    "        resposta = resposta.replace('.', '\\.')\n",
    "        resposta = resposta.replace('!', '\\!')\n",
    "        resposta = resposta.replace('-', '\\-')\n",
    "        responder(usuario[0], resposta) \n",
    "\n",
    "    else:\n",
    "        if usuario[5] == '/ExtensoNumbers': #Verificar se ele escolheu escrever o número por extenso\n",
    "            if mensagem == decidir_verificacao_number(int(usuario[4])): # Verifica se esta correto\n",
    "                resposta = f'Você acertou\\! \\nExibir outro *número*, clique aqui 👉 _/ExibirNumber_ \\n*_Clique aqui para continuar\\.\\.\\. 👉 /OK_*'\n",
    "                usuario[5] = '/OK'\n",
    "                responder(usuario[0], resposta)\n",
    "            else:\n",
    "                extenso = decidir_verificacao_number(int(usuario[4]))\n",
    "                extenso = extenso.replace('.', '\\.')\n",
    "                extenso = extenso.replace('!', '\\!')\n",
    "                extenso = extenso.replace('-', '\\-')\n",
    "                resposta = f'Você errou\\! a traducao correta é\\: \\n\\n{extenso} \\nExibir outro *número*, clique aqui 👉 _/ExibirNumber_ \\n*_Clique aqui para continuar\\.\\.\\. 👉 /OK_*'\n",
    "                usuario[5] = '/OK'\n",
    "                responder(usuario[0], resposta)\n",
    "        else:\n",
    "            exibirMenu(usuario)# Caso a mensagem recebida não seja nehum dos comandos acima, exibe o menu\n",
    "\n",
    "    return usuario # Retorna a variável do usuário"
   ]
  },
  {
   "cell_type": "markdown",
   "metadata": {},
   "source": [
    "Função responsável por registrar o usuário na base de dados caso ele não esteja cadastrado"
   ]
  },
  {
   "cell_type": "code",
   "execution_count": 15,
   "metadata": {},
   "outputs": [],
   "source": [
    "def registrarUsuario(usuario): # Recebe a variável do usuário\n",
    "    planilha = load_workbook('Usuarios.xlsx') # Carrega a planilha de usuários\n",
    "    aba_ativa = planilha.active # Como possui apenas uma aba, seleciona ela\n",
    "    aba_ativa.append(usuario) # Adiciona as informações do usuário na última linha\n",
    "    planilha.save('Usuarios.xlsx') # Salva a planliha"
   ]
  },
  {
   "cell_type": "markdown",
   "metadata": {},
   "source": [
    "Função responsável por coletar as informações do usuário na base de dados"
   ]
  },
  {
   "cell_type": "code",
   "execution_count": 16,
   "metadata": {},
   "outputs": [],
   "source": [
    "def UserInfo(id): # Recebe o id do usuário\n",
    "    planilha = load_workbook('Usuarios.xlsx') # Carrega a planilha\n",
    "    aba_ativa = planilha.active # Seleciona a aba ativa\n",
    "    for celula in aba_ativa['A']: # Percorre todas as celulas da coluna A\n",
    "        if type(celula.value) == int : # Verifica se o valor contido na célula é um número inteiro\n",
    "            if celula.value == id: # Verifica se o valor da cécula corresponde ao id procurado\n",
    "                linha = celula.row # Salva qual a linha do id \n",
    "                frase = aba_ativa[f'B{linha}'].value # Coleta a informação da frase\n",
    "                traducao = aba_ativa[f'C{linha}'].value # Coleta a informação da tradução\n",
    "                nivel = aba_ativa[f'D{linha}'].value # Coleta a informação do nível\n",
    "                return [id, frase, traducao, nivel], linha #Retorna as informações em uma lista, que será atribuída a variável usuário e a linha em que essas informações estavam na planilha"
   ]
  },
  {
   "cell_type": "markdown",
   "metadata": {},
   "source": [
    "Função responsável por receber a lista de usuários"
   ]
  },
  {
   "cell_type": "code",
   "execution_count": 17,
   "metadata": {},
   "outputs": [],
   "source": [
    "def receberListaUser():\n",
    "    lista_id = []\n",
    "    planilha = load_workbook('Usuarios.xlsx') #Carrega a planilha\n",
    "    aba_ativa = planilha.active # Seleciona a aba \n",
    "    for celula in aba_ativa['A']: # Percorre toda a coluna A, dos id\n",
    "      if type(celula.value) == int : # Verifica se o valor da célula é um número inteiro\n",
    "        lista_id.append(celula.value) # Adiciona cada valor ao final da lista\n",
    "    return lista_id # Retorna a lista"
   ]
  },
  {
   "cell_type": "markdown",
   "metadata": {},
   "source": [
    "Função responsável por verificar se o usuário já está cadastrado na lista ou não"
   ]
  },
  {
   "cell_type": "code",
   "execution_count": 18,
   "metadata": {},
   "outputs": [],
   "source": [
    "def verificarUsuario(id): # Recebe o id\n",
    "    listaUsersId = receberListaUser() # Recebe a lista \n",
    "    if id in listaUsersId: # Verifica se o id fornecido esta na lista\n",
    "        return True # Se sim, returna True\n",
    "    else: return False # Se não retorna False"
   ]
  },
  {
   "cell_type": "markdown",
   "metadata": {},
   "source": [
    "O bot será configurado para sempre estar 'escutando' e cada mensagem que o ususário mandar, ele irá executar uma ação. Mas para que isso aconteça, devemos criar uma função para que ele rode o código independente da mensagem que for recebida"
   ]
  },
  {
   "cell_type": "code",
   "execution_count": 19,
   "metadata": {},
   "outputs": [],
   "source": [
    "# Criando função que retorna True independente da mensagem\n",
    "\n",
    "def verificar(mensagem):\n",
    "    return True"
   ]
  },
  {
   "cell_type": "markdown",
   "metadata": {},
   "source": [
    "Código principal\n",
    "\n",
    "A função abaixo contém todo o código principal do bot, o 'gerenciador de tarefas'. Esta função sempre esta esperando uma mensagem do usuário, assim que esta mensagem é recebida, ela é executada"
   ]
  },
  {
   "cell_type": "code",
   "execution_count": 20,
   "metadata": {},
   "outputs": [],
   "source": [
    "@bot.message_handler(func=verificar) #utiliza da função acima para executar independente da mensagem\n",
    "def receber(mensagem): \n",
    "\n",
    "    id = mensagem.chat.id  #define o id por meio dos atributos passados ao receber a mensagem\n",
    "    mensagemUser = mensagem.text #define o texto da mensagem\n",
    "\n",
    "    if verificarUsuario(id): # verifica se o usuário ja existe na base de dados\n",
    "        print('Usuario existente')\n",
    "        usuario, linha = UserInfo(id) # se o usuário existir, chama a função UserInfo\n",
    "    else:\n",
    "        print('Usuario novo')\n",
    "        usuario = [id, 'Não existem frases', 'Não existem frases para traduzir, peça uma!', 'Básico', 0, '/OK'] # se não existir, atirbui valores temporários na variável do usuário\n",
    "        registrarUsuario(usuario) # Chama a função para registrar  o usuário na base de dados, com os valores temporários\n",
    "        usuario, linha = UserInfo(id) # Chama a função UserInfo, desta vez, para receber em qual linha o usuário foi cadastrado\n",
    "\n",
    "    usuario = verficarComando(mensagemUser, usuario) # Verifica qual foi o comando/texto que o usuário enviou\n",
    "    AlterarUsuario(usuario, linha) #Esta é a ultima função do código, antes dela as variáveis permanetes do usuário já foram definidas, através dos comandos recebidos, ala é responsável por atualizar a base de dados"
   ]
  },
  {
   "cell_type": "code",
   "execution_count": null,
   "metadata": {},
   "outputs": [],
   "source": [
    "bot.polling()"
   ]
  }
 ],
 "metadata": {
  "kernelspec": {
   "display_name": "Python 3",
   "language": "python",
   "name": "python3"
  },
  "language_info": {
   "codemirror_mode": {
    "name": "ipython",
    "version": 3
   },
   "file_extension": ".py",
   "mimetype": "text/x-python",
   "name": "python",
   "nbconvert_exporter": "python",
   "pygments_lexer": "ipython3",
   "version": "3.12.2"
  }
 },
 "nbformat": 4,
 "nbformat_minor": 2
}
