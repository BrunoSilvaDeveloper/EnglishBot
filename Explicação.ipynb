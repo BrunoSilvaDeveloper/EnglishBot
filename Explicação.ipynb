{
 "cells": [
  {
   "cell_type": "markdown",
   "metadata": {},
   "source": [
    "## Propósito do projeto"
   ]
  },
  {
   "cell_type": "markdown",
   "metadata": {},
   "source": [
    "##### Nosso propósito é ajudar você a treinar e colocar em prática seus estudos de inglês. Eu forneço frases e histórias com o objetivo de você tentar traduzi-las. Depois, você pode verificar se acertou solicitando a tradução da frase ou história. Nós surgimos da necessidade de um lugar onde pudéssemos treinar nossos aprendizados de forma prática, traduzindo pequenos textos ou frases, mas que estes estivessem no nosso nível de aprendizado. Muitas das vezes, outros lugares que tinham essas frases e histórias, não possuíam um nível equivalente ao nosso aprendizado. Dai eu surgi, com o objetivo de te ajudar a aprender cada vez mais.\n"
   ]
  },
  {
   "cell_type": "markdown",
   "metadata": {},
   "source": [
    "## Importando Bibliotecas"
   ]
  },
  {
   "cell_type": "markdown",
   "metadata": {},
   "source": [
    "Nesse projeto utilizaremos 3 bibliotecas.\n",
    "\n",
    "- A primeira delas é a Telebot, responsável por fazer a comunicação com o Telegram.\n",
    "- A segunda é a random, responsável por escolher aleatoriamente uma frase ou história na base de dados.\n",
    "- E por fim, a biblioteca openpyxl, responsável por fazer a comunicação com a base de dados, no caso, uma planilha do excel.\n",
    "\n",
    "Antes de importar, devemos fazer o download das bibliotecas!\n",
    "\n",
    "Versões disponíveis no arquivo requeriments."
   ]
  },
  {
   "cell_type": "code",
   "execution_count": 1,
   "metadata": {},
   "outputs": [],
   "source": [
    "#Importando bibliotecas\n",
    "\n",
    "import telebot\n",
    "import random\n",
    "from openpyxl import load_workbook"
   ]
  },
  {
   "cell_type": "markdown",
   "metadata": {},
   "source": [
    "## Definindo sua chave API"
   ]
  },
  {
   "cell_type": "markdown",
   "metadata": {},
   "source": [
    "### Criando o chatbot"
   ]
  },
  {
   "cell_type": "markdown",
   "metadata": {},
   "source": [
    "Para conseguir realizar a comunicação com o Telegram, primeiro devemos criar um chat no telegram, non qual utilizaremos como chatbot\n",
    "\n",
    "Para isto devemos seguir alguns passos simples:\n",
    "\n",
    "- Passo 1: Ir até a pesquisa do app Telegram e procurar por BotFather, ele terá o simbolo de verificado\n",
    "\n",
    "- Passo 2: Apertar o botão Start, para começar uma nova conversa\n",
    "\n",
    "- Passo 3: Ele vai te retornar uma mensagem com vários comandos, para criar um novo bot, basta selecionar a opção /newbot\n",
    "\n",
    "- Passo 4: Ele pedirá para que você defina um nome para o bot, no nosso caso, se chama English Bot\n",
    "\n",
    "- Passo 5: Agora ele pedirá para que você defina um username para o bot. Atençao! o username deve ser terminado com a palavra 'bot'. Exemplo: EnglishBot, English_bot e deve estar disponível.\n",
    "\n",
    "- Passo 6: Agora ele te retornará uma mensagem com os dados do seu bot, o primeiro link, 't.me/nomedobot' será o link para a conversa com seu chatbot. Nesta mesma mensagem, também haverá a sua chave Api, responsável por permitir a conexão do seu script com o chatbot.\n",
    "\n",
    "Não compartilhe esta chave API, ela da acesso ao controle do seu chatbot."
   ]
  },
  {
   "cell_type": "markdown",
   "metadata": {},
   "source": [
    "### Definindo a chave no script"
   ]
  },
  {
   "cell_type": "code",
   "execution_count": 2,
   "metadata": {},
   "outputs": [],
   "source": [
    "# Com a chave API em mãos, basta definir a nossa variável para ela\n",
    "\n",
    "CHAVE_API = \"Sua chave API aqui\""
   ]
  },
  {
   "cell_type": "markdown",
   "metadata": {},
   "source": [
    "### Iniciando o bot"
   ]
  },
  {
   "cell_type": "code",
   "execution_count": 3,
   "metadata": {},
   "outputs": [],
   "source": [
    "# Para iniciar o bot e permitir a comunicação com o Telegram, basta executar o comando abaixo\n",
    "\n",
    "bot = telebot.TeleBot(CHAVE_API)\n",
    "\n",
    "# Agora, todas as operações envolvendo o bot devem ser realizadas através da variável 'bot''"
   ]
  },
  {
   "cell_type": "markdown",
   "metadata": {},
   "source": [
    "### Criando as funções"
   ]
  },
  {
   "cell_type": "markdown",
   "metadata": {},
   "source": [
    "No código python, as funções devem ser declaradas antes de serem utilizadas, por isso a ordem cronológica deste código esta de baixo para cima, ou seja, as últimas funções são as primeiras a serem executadas, e as primeiras, serão as últimsa a serem executadas"
   ]
  },
  {
   "cell_type": "markdown",
   "metadata": {},
   "source": [
    "Função responsável por altualizar a base de dados após todas as alterações feitas no perfil do usuário durante a execução do programa, será sempre a última a ser executada após cada mensagem do usuário."
   ]
  },
  {
   "cell_type": "code",
   "execution_count": 4,
   "metadata": {},
   "outputs": [],
   "source": [
    "def AlterarUsuario(usuario, linha): # Recebe como parâmetros a variável do usuário já modificada e a linha em que se encontra os dados do usuário na base de dados\n",
    "    planilha = load_workbook('Usuarios.xlsx') # Carrega a planilha\n",
    "    aba_ativa = planilha.active # Como só tem 1 aba nessa planilha de usuários, ele seleciona a aba que estiver ativa, ou seja, a única que tem\n",
    "    aba_ativa[f'A{linha}'] = usuario[0] # Adiciona o valor da variável usuario[0] na coluna A e na linha em que se encontra os dados do usuário\n",
    "    aba_ativa[f'B{linha}'] = usuario[1] # Coluna B\n",
    "    aba_ativa[f'C{linha}'] = usuario[2] # Coluna C\n",
    "    aba_ativa[f'D{linha}'] = usuario[3] # Coluna D\n",
    "    planilha.save('Usuarios.xlsx') # Salva a planilha após adicionar os dados\n"
   ]
  },
  {
   "cell_type": "markdown",
   "metadata": {},
   "source": [
    "Função responsável por enviar as mensagens do bot através do telegram"
   ]
  },
  {
   "cell_type": "code",
   "execution_count": 5,
   "metadata": {},
   "outputs": [],
   "source": [
    "def responder(id, resposta): # Recebe como parâmetro o id do chat do usuário e a mensagem que deseja enviar para ele\n",
    "    bot.send_message(id, resposta, parse_mode=\"MarkdownV2\") # Comando para enviar a mensagem, passnado o id, a mensagem, e por fim um comando para permitir caracteres especiais do telegram, por exemplo deixar a mensagem em negrito ou itálico"
   ]
  },
  {
   "cell_type": "markdown",
   "metadata": {},
   "source": [
    "Função responsável por carregar a planliha com as frases ou a planliha com as histórias e selecionar uma aleatóriamente para enviar ao usuário"
   ]
  },
  {
   "cell_type": "code",
   "execution_count": 6,
   "metadata": {},
   "outputs": [],
   "source": [
    "def receberFrases(nivel, choice): # Recebe como parâmetros o nível do usuário e a escolha dele (Frase ou História)\n",
    "    if nivel == None: # Definindo um nível padrão para envitar bugs\n",
    "        nivel == 'Básico'\n",
    "\n",
    "\n",
    "    # Ambas as planilhas possuem mais de uma aba, sendo uma aba para cada nível de frase. \n",
    "    # Elas estão nomeadas com o próprio nível e escritas de forma identica ao nível passado como parâmetro nessa função\n",
    "    # Com isso, ao selecionar a aba da planilha pelo nome, podemos apenas passar a variáavel nível, pois possui nome idêntico\n",
    "        \n",
    "    if choice == 'Frase': # Caso ele tenha escolhido uma frase\n",
    "        planilha = load_workbook('Frases Ingles.xlsx') # Seleciona a planilha de frases\n",
    "        aba_ativa = planilha.get_sheet_by_name(nivel) # Selecionando a aba da planilha pelo nome com base no nível\n",
    "\n",
    "    \n",
    "    elif choice == 'Historia': # Caso ele tenha escolhido uma hisstória\n",
    "        planilha = load_workbook('Historias Ingles.xlsx') # Seleciona a planilha de histórias\n",
    "        aba_ativa = planilha.get_sheet_by_name(nivel) # Selecionando a aba da planilha pelo nome com base no nível\n",
    "\n",
    "    QtdFrases = len(aba_ativa['A']) # Verificando a quantidade de frases que existem na planilha\n",
    "    number = random.randint(2, QtdFrases) # Selecionando uma linha aleatória, da segunda até a última, a primeira linha é apenas o título\n",
    "    frase = [aba_ativa[f'B{number}'].value, aba_ativa[f'C{number}'].value, aba_ativa[f'D{number}'].value] # Recebendo os valores contidos em cada coluna da linha escolhida\n",
    "    return frase # Os valores são armazenados nnuma lista contida na variável frase.\n",
    "    # A lista possui os seguintes valores: [IdUsuario, Frase, Traduçao, NivelUsuario]\n"
   ]
  },
  {
   "cell_type": "markdown",
   "metadata": {},
   "source": [
    "Função responsável por exibir o menu ao usuário"
   ]
  },
  {
   "cell_type": "code",
   "execution_count": null,
   "metadata": {},
   "outputs": [],
   "source": [
    "def exibirMenu(usuario): # Recebe como parâmetro a variável usuário, onde contém o id do chat\n",
    "    resposta = f'Olá, seja muito bem vindo\\! 👋 \\n\\n_Este é o nosso Menu 🏠_ \\n\\nExibir uma *frase*, clique aqui 👉 _/Frase_ \\nExibir uma *história*, clique aqui 👉 _/Historia_ \\nExibir a *tradução*, clique aqui 👉 _/Traducao_ \\nAlterar o seu *nível*, clique aqui 👉 _/Nivel_ \\n\\nPara entender nosso *Propósito* \\nClique aqui 👉 _/Proposito_'\n",
    "    responder(usuario[0], resposta) # Chama a função para responder, passando o id do usuário e a resposta\n"
   ]
  },
  {
   "cell_type": "markdown",
   "metadata": {},
   "source": [
    "Função responsável por exibir a traduçao da frase ou história"
   ]
  },
  {
   "cell_type": "code",
   "execution_count": null,
   "metadata": {},
   "outputs": [],
   "source": [
    "def exibirTraducao(usuario): # Como visto anteriormente, a variável usuário possui todas as informações, incluindo a frase escolhida e a traduçao dela\n",
    "    mensagem = usuario[2].replace('.', '\\.') # Como esta habilitada a função de caracteres especiais do telegram, caracteres como '.', '!', '-', possuem comandos especiais, por isso, para serem utilizados na frase, devem ser precedidos por \\\n",
    "    mensagem = mensagem.replace('!', '\\!') # Adicionando \\ antes de cada caractere especial\n",
    "    mensagem = mensagem.replace('-', '\\-')\n",
    "    responder(usuario[0], f'_Esta é a sua tradução, espero que tenha acertado\\! 😊_ \\n\\n{mensagem} \\n\\n*_Clique aqui para continuar\\.\\.\\. 👉 /OK_*')\n"
   ]
  },
  {
   "cell_type": "markdown",
   "metadata": {},
   "source": [
    "Função responsável por alterar o nível do usuário"
   ]
  },
  {
   "cell_type": "code",
   "execution_count": null,
   "metadata": {},
   "outputs": [],
   "source": [
    "def AlterarNivel(usuario, nivel): # Recebe como parâmetro a variável com as informações do usuário e o novo nível\n",
    "    if nivel == 'Nivel': # Caso a opção escolhida seja o /Nivel, Exibe o menu de níveis\n",
    "        resposta = f'Escolha seu nível 🤗 \\n\\n*Nível Básico* \\nClique aqui 👉 _/Basico_ \\n\\n*Nível Básico Avançado* \\nClique aqui 👉 _/BasicoAvancado_ \\n\\n*Nível Intemediário* \\nClique aqui 👉 _/Intermediario_ \\n\\n*Nível Intermediário Avançado* \\nClique aqui 👉 _/IntermediarioAvancado_ \\n\\n*Nível Fluente* \\nClique aqui 👉 _/Fluente_'\n",
    "        responder(usuario[0], resposta)\n",
    "    \n",
    "    else: # Caso seja o nível, exemplo /Basico, /Intermediario etc, faz a alteração nas informações do usuário\n",
    "        usuario[3] = nivel\n",
    "        resposta = f'Seu nível foi alterado para _*{nivel}*_ 😉 \\n\\n*_Clique aqui para continuar\\.\\.\\. 👉 /OK_*'\n",
    "        responder(usuario[0], resposta)\n",
    "\n",
    "    return usuario # Retorna a variável usuário já alterada\n"
   ]
  },
  {
   "cell_type": "markdown",
   "metadata": {},
   "source": [
    "Função responsável por exibir as histórias"
   ]
  },
  {
   "cell_type": "code",
   "execution_count": null,
   "metadata": {},
   "outputs": [],
   "source": [
    "def exibirHistoria(usuario): # Recebe a variável com as informações do usuário\n",
    "    frase = receberFrases(usuario[3],'Historia') # Solicita uma história passando como parâmetro o nível e informando que será uma história\n",
    "    usuario[1] = frase[0] # Adiciona a frase à variável do usuário\n",
    "    usuario[2] = frase[1] # Adiciona a tradução à variável do usuário\n",
    "    usuario[3] = frase[2] # Adiciona o nível à variável do usuário\n",
    "\n",
    "    mensagem = usuario[1].replace('.', '\\.') #Adiciona \\ aos caracteres especiais\n",
    "    mensagem = mensagem.replace('!', '\\!')\n",
    "    mensagem = mensagem.replace('-', '\\-')\n",
    "    # Envia a história ao usuário\n",
    "    responder(usuario[0], f'*História de Nível:   {usuario[3]}*🔥 \\n\\n_Esta é a sua história, bons estudos\\!_\\n\\n{mensagem} \\n\\n*_Clique aqui para continuar\\.\\.\\. 👉 /OK_*')\n",
    "    return usuario # Retorna a variável do usuário\n"
   ]
  },
  {
   "cell_type": "code",
   "execution_count": null,
   "metadata": {},
   "outputs": [],
   "source": [
    "def exibirFrase(usuario):\n",
    "    frase = receberFrases(usuario[3], 'Frase')\n",
    "    usuario[1] = frase[0]\n",
    "    usuario[2] = frase[1]\n",
    "    usuario[3] = frase[2]\n",
    "\n",
    " \n",
    "    mensagem = usuario[1].replace('.', '\\.')\n",
    "    mensagem = mensagem.replace('!', '\\!')\n",
    "    mensagem = mensagem.replace('-', '\\-')\n",
    "    responder(usuario[0], f'*Frase de Nível:   {usuario[3]}*🔥 \\n\\n_Esta é a sua frase, bons estudos\\!_\\n\\n{mensagem} \\n\\n*_Clique aqui para continuar\\.\\.\\. 👉 /OK_*')\n",
    "    return usuario"
   ]
  },
  {
   "cell_type": "code",
   "execution_count": null,
   "metadata": {},
   "outputs": [],
   "source": [
    "def verficarComando(mensagem, usuario):\n",
    "    if mensagem == '/Frase':\n",
    "        usuario = exibirFrase(usuario)\n",
    "    \n",
    "    elif mensagem == '/Historia':\n",
    "        usuario = exibirHistoria(usuario)\n",
    "    \n",
    "    elif mensagem == '/Traducao':\n",
    "        exibirTraducao(usuario)\n",
    "    \n",
    "    elif mensagem == '/Nivel':\n",
    "        nivel = 'Nivel'\n",
    "        usuario = AlterarNivel(usuario, nivel)\n",
    "\n",
    "    elif mensagem == '/Basico':\n",
    "        nivel = 'Básico'\n",
    "        usuario = AlterarNivel(usuario, nivel)\n",
    "    \n",
    "    elif mensagem == '/BasicoAvancado':\n",
    "        nivel = 'Básico Avançado'\n",
    "        usuario = AlterarNivel(usuario, nivel)\n",
    "    \n",
    "    elif mensagem == '/Intermediario':\n",
    "        nivel = 'Intermediário'\n",
    "        usuario = AlterarNivel(usuario, nivel)\n",
    "    \n",
    "    elif mensagem == '/IntermediarioAvancado':\n",
    "        nivel = 'Intermediário Avançado'\n",
    "        usuario = AlterarNivel(usuario, nivel)\n",
    "    \n",
    "    elif mensagem == '/Fluente':\n",
    "        nivel = 'Fluente'\n",
    "        usuario = AlterarNivel(usuario, nivel)\n",
    "    \n",
    "    elif mensagem == '/Proposito':\n",
    "        resposta = f'*Olá, que bom que queira saber mais de nós 😊 \\n\\n_Nosso propósito é ajudar você a treinar e colocar em prática seus estudos de inglês. Eu forneço frases e histórias com o objetivo de você tentar traduzi-las. Depois, você pode verificar se acertou solicitando a tradução da frase ou história. \\n\\nNós surgimos da necessidade de um lugar onde pudéssemos treinar nossos aprendizados de forma prática, traduzindo pequenos textos ou frases, mas que estes estivessem no nosso nível de aprendizado. Muitas das vezes, outros lugares que tinham essas frases e histórias, não possuíam um nível equivalente ao nosso aprendizado. Dai eu surgi, com o objetivo de te ajudar a aprender cada vez mais. \\n\\nFico muito feliz de tê-lo por aqui! 😊😊_* \\n\\n*_Clique aqui para continuar... 👉 /OK_*'\n",
    "        resposta = resposta.replace('.', '\\.')\n",
    "        resposta = resposta.replace('!', '\\!')\n",
    "        resposta = resposta.replace('-', '\\-')\n",
    "        responder(usuario[0], resposta)\n",
    "\n",
    "    else:\n",
    "        exibirMenu(usuario)\n",
    "\n",
    "    return usuario"
   ]
  },
  {
   "cell_type": "code",
   "execution_count": 13,
   "metadata": {},
   "outputs": [],
   "source": [
    "def registrarUsuario(usuario):\n",
    "    planilha = load_workbook('Usuarios.xlsx')\n",
    "    aba_ativa = planilha.active\n",
    "    aba_ativa.append(usuario)\n",
    "    planilha.save('Usuarios.xlsx')"
   ]
  },
  {
   "cell_type": "code",
   "execution_count": 14,
   "metadata": {},
   "outputs": [],
   "source": [
    "def UserInfo(id):\n",
    "    planilha = load_workbook('Usuarios.xlsx')\n",
    "    aba_ativa = planilha.active\n",
    "    for celula in aba_ativa['A']:\n",
    "        if type(celula.value) == int :\n",
    "            if celula.value == id:\n",
    "                linha = celula.row\n",
    "                frase = aba_ativa[f'B{linha}'].value\n",
    "                traducao = aba_ativa[f'C{linha}'].value\n",
    "                nivel = aba_ativa[f'D{linha}'].value\n",
    "                return [id, frase, traducao, nivel], linha"
   ]
  },
  {
   "cell_type": "code",
   "execution_count": 15,
   "metadata": {},
   "outputs": [],
   "source": [
    "def receberListaUser():\n",
    "    lista_id = []\n",
    "    planilha = load_workbook('Usuarios.xlsx')\n",
    "    aba_ativa = planilha.active\n",
    "    for celula in aba_ativa['A']:\n",
    "      if type(celula.value) == int :\n",
    "        lista_id.append(celula.value)\n",
    "    return lista_id"
   ]
  },
  {
   "cell_type": "code",
   "execution_count": 16,
   "metadata": {},
   "outputs": [],
   "source": [
    "def verificarUsuario(id):\n",
    "    listaUsersId = receberListaUser()\n",
    "    if id in listaUsersId:\n",
    "        return True\n",
    "    else: return False"
   ]
  },
  {
   "cell_type": "markdown",
   "metadata": {},
   "source": [
    "O bot será configurado para sempre estar 'escutando' e cada mensagem que o ususário mandar, ele irá executar uma ação. Mas para que isso aconteça, devemos criar uma função para que ele rode o código independente da mensagem que for recebida"
   ]
  },
  {
   "cell_type": "code",
   "execution_count": 17,
   "metadata": {},
   "outputs": [],
   "source": [
    "# Criando função que retorna True independente da mensagem\n",
    "\n",
    "def verificar(mensagem):\n",
    "    return True"
   ]
  },
  {
   "cell_type": "markdown",
   "metadata": {},
   "source": [
    "Código principal\n",
    "\n",
    "A função abaixo contém todo o código principal do bot, o 'gerenciador de tarefas'. Esta função sempre esta esperando uma mensagem do usuário, assim que esta mensagem é recebida, ela é executada"
   ]
  },
  {
   "cell_type": "code",
   "execution_count": 21,
   "metadata": {},
   "outputs": [],
   "source": [
    "@bot.message_handler(func=verificar) #utiliza da função acima para executar independente da mensagem\n",
    "def receber(mensagem): \n",
    "\n",
    "    id = mensagem.chat.id  #define o id por meio dos atributos passados ao receber a mensagem\n",
    "    mensagemUser = mensagem.text #define o texto da mensagem\n",
    "\n",
    "    if verificarUsuario(id): # verifica se o usuário ja existe na base de dados\n",
    "        print('Usuario existente')\n",
    "        usuario, linha = UserInfo(id) # se o usuário existir, chama a função UserInfo\n",
    "    else:\n",
    "        print('Usuario novo')\n",
    "        usuario = [id, 'Não existem frases', 'Não existem frases para traduzir, peça uma!', 'Básico'] # se não existir, atirbui valores temporários na variável do usuário\n",
    "        registrarUsuario(usuario) # Chama a função para registrar  o usuário na base de dados, com os valores temporários\n",
    "        usuario, linha = UserInfo(id) # Chama a função UserInfo, desta vez, para receber em qual linha o usuário foi cadastrado\n",
    "\n",
    "    usuario = verficarComando(mensagemUser, usuario) # Verifica qual foi o comando/texto que o usuário enviou\n",
    "    AlterarUsuario(usuario, linha) #Esta é a ultima função do código, antes dela as variáveis permanetes do usuário já foram definidas, através dos comandos recebidos, ala é responsável por atualizar a base de dados"
   ]
  },
  {
   "cell_type": "code",
   "execution_count": null,
   "metadata": {},
   "outputs": [],
   "source": [
    "bot.polling()"
   ]
  }
 ],
 "metadata": {
  "kernelspec": {
   "display_name": "Python 3",
   "language": "python",
   "name": "python3"
  },
  "language_info": {
   "codemirror_mode": {
    "name": "ipython",
    "version": 3
   },
   "file_extension": ".py",
   "mimetype": "text/x-python",
   "name": "python",
   "nbconvert_exporter": "python",
   "pygments_lexer": "ipython3",
   "version": "3.12.2"
  }
 },
 "nbformat": 4,
 "nbformat_minor": 2
}
