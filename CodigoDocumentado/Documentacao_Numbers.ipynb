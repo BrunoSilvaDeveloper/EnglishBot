{
 "cells": [
  {
   "cell_type": "markdown",
   "metadata": {},
   "source": [
    "## Propósito do projeto"
   ]
  },
  {
   "cell_type": "markdown",
   "metadata": {},
   "source": [
    "##### Nosso propósito é ajudar você a treinar e colocar em prática seus estudos de inglês. Eu forneço frases e histórias com o objetivo de você tentar traduzi-las. Depois, você pode verificar se acertou solicitando a tradução da frase ou história. Além disso, recentemente adicionamos uma seção para aprender alguns conteúdos relativos ao inglês, constantemente o sistema será atualizado com novos conteúdos. Nós surgimos da necessidade de um lugar onde pudéssemos treinar nossos aprendizados de forma prática, traduzindo pequenos textos ou frases, mas que estes estivessem no nosso nível de aprendizado. Muitas das vezes, outros lugares que tinham essas frases e histórias, não possuíam um nível equivalente ao nosso aprendizado. Dai eu surgi, com o objetivo de te ajudar a aprender cada vez mais."
   ]
  },
  {
   "cell_type": "markdown",
   "metadata": {},
   "source": [
    "## Importando Bibliotecas"
   ]
  },
  {
   "cell_type": "markdown",
   "metadata": {},
   "source": [
    "Nesse projeto utilizaremos 7 bibliotecas.\n",
    "\n",
    "- *Telebot* - responsável por fazer a comunicação com o Telegram.\n",
    "\n",
    "- *Telebot types* - responsável pela interface de botões no telegram.\n",
    "\n",
    "- *Openpyxl* - responsável por fazer a comunicação com a base de dados, no caso, uma planilha do excel.\n",
    "\n",
    "- *Random* - Biblioteca para escolher números aleatórios, utilizada principalmente para selecionar uma número aleatório.\n",
    "\n",
    "- *OS* - Função responsável por verificar o caminho correto para os arquivos dentro do código.\n",
    "\n",
    "Antes de importar, devemos fazer o download das bibliotecas!\n",
    "\n",
    "Versões disponíveis no arquivo requeriments."
   ]
  },
  {
   "cell_type": "code",
   "execution_count": null,
   "metadata": {},
   "outputs": [],
   "source": [
    "import telebot\n",
    "from telebot import types\n",
    "from openpyxl import load_workbook\n",
    "import random\n",
    "import os"
   ]
  },
  {
   "cell_type": "markdown",
   "metadata": {},
   "source": [
    "## Definindo sua chave API"
   ]
  },
  {
   "cell_type": "markdown",
   "metadata": {},
   "source": [
    "### Definindo a chave no script"
   ]
  },
  {
   "cell_type": "code",
   "execution_count": null,
   "metadata": {},
   "outputs": [],
   "source": [
    "# Com a chave API em mãos, basta definir a nossa variável para ela\n",
    "\n",
    "CHAVE_API = \"Sua Chave api aqui\""
   ]
  },
  {
   "cell_type": "markdown",
   "metadata": {},
   "source": [
    "### Iniciando o bot"
   ]
  },
  {
   "cell_type": "code",
   "execution_count": null,
   "metadata": {},
   "outputs": [],
   "source": [
    "# Para iniciar o bot e permitir a comunicação com o Telegram, basta executar o comando abaixo\n",
    "\n",
    "bot = telebot.TeleBot(CHAVE_API)\n",
    "\n",
    "# Agora, todas as operações envolvendo o bot devem ser realizadas através da variável 'bot'"
   ]
  },
  {
   "cell_type": "markdown",
   "metadata": {},
   "source": [
    "## Diagrama das pastas"
   ]
  },
  {
   "cell_type": "markdown",
   "metadata": {},
   "source": [
    "Todo o código é dividido em diferentes pastas, sendo elas:\n",
    "\n",
    "- *Audios Alfabeto* - Onde estão armazenados os arquivos da audio com a pronúncia do alfabeto\n",
    "\n",
    "- *DataBase* - Onde estão armazenados os arquivos da base de dados\n",
    "\n",
    "- *CódigoDocumentado* - Onde estão armazenados esses arquivos com o código documentado\n",
    "\n",
    "- *DiagramaEnglishBot* - Onde esta armazenado as imagens de como funciona basicamente o programa\n",
    "\n",
    "- *FrasesHistórias* - Onde estão armazenados os arquivos de código referentes as frases e histórias\n",
    "\n",
    "- *MatériasFunction* - Onde estão armazenados os arquivos de código referentes as mqaatérias da parte de aprender\n",
    "\n",
    "A organização se encontra como::"
   ]
  },
  {
   "cell_type": "code",
   "execution_count": null,
   "metadata": {},
   "outputs": [],
   "source": [
    "\"\"\"\n",
    "EnglishBot\n",
    "    |____ Audios Alfabeto\n",
    "    |            |____ Audios.ogg\n",
    "    |\n",
    "    |____ CodigoDocumentado\n",
    "    |            |____ Documentacao_App.ipynb\n",
    "    |            |____ Documentacao_Frases.ipynb\n",
    "    |            |____ Documentacao_Number.ipynb\n",
    "    |            |____ Documentacao_AlphabetPronunciation\n",
    "    |\n",
    "    |____ DataBase\n",
    "    |         |____ Aprendendo.xlsx\n",
    "    |         |____ Frases Ingles.xlsx\n",
    "    |         |____ Historias Ingles.xlsx\n",
    "    |         |____ Pronuncia Alfabeto.xlsx\n",
    "    |         |____ Usuarios.xlsx\n",
    "    |     \n",
    "    |____ Diagrama EnglishBot\n",
    "    |             |____ Diagramas.png\n",
    "    |\n",
    "    |____ FrasesHistórias\n",
    "    |            |____ __init__.py\n",
    "    |            |____ Frases.py\n",
    "    |\n",
    "    |____ MatériasFunctions\n",
    "    |            |____ __init__.py\n",
    "    |            |____ AlphabetPronunciation\n",
    "    |            |              |____ __init__.py\n",
    "    |            |              |____ AlphabetPronunciation.py\n",
    "    |            |              \n",
    "    |            |____ Numbers\n",
    "    |                     |____ __init__.py\n",
    "    |                     |____ Numbers.py\n",
    "    |____ App.py\n",
    "    \n",
    "\"\"\""
   ]
  },
  {
   "cell_type": "markdown",
   "metadata": {},
   "source": [
    "O app.py utiliza as funções presentes nos arquivos dentro da pasta, no caso desse arquivo 'Frases.py' por exemplo, ele precisa de alguma forma importar essas funções para poder utilizar. Para isso existem os arquivos __init__.py, esse arquivo faz com que as pastas se comportem como pacotes, permitindo que o app.py consiga importar as funções."
   ]
  },
  {
   "cell_type": "markdown",
   "metadata": {},
   "source": [
    "## Funções"
   ]
  },
  {
   "cell_type": "markdown",
   "metadata": {},
   "source": [
    "#### Carregar planilha"
   ]
  },
  {
   "cell_type": "markdown",
   "metadata": {},
   "source": [
    "Como visto no diagrama acima, o arquivo frases esta dentro de uma pasta, mas precisa acessar os arquivos da pasta database. Para isso existe essa função, ela determina exatamente qual a pasta atual em que o arquivo em execução se encontra, e com isso volta duas pastas, como no nosso caso, entra na pasta DataBase e seleciona o arquivo procurado. Essa função retorna o caminho absoluto onde o arquivo se encontra no sistema.\n",
    "\n",
    "Recebe como parâmetro o nome do arquivo procurado\n"
   ]
  },
  {
   "cell_type": "code",
   "execution_count": null,
   "metadata": {},
   "outputs": [],
   "source": [
    "def carregar_planilha():\n",
    "    diretorio_atual = os.getcwd()\n",
    "    dir_atual = diretorio_atual.split('\\\\')\n",
    "    if dir_atual[-1] == 'Numbers':\n",
    "        os.chdir(os.path.dirname(os.path.dirname(diretorio_atual)))\n",
    "    pasta_database = os.path.join(diretorio_atual, 'DataBase')\n",
    "    caminho_arquivo = os.path.join(pasta_database, 'Aprendendo.xlsx')\n",
    "    return caminho_arquivo\n"
   ]
  },
  {
   "cell_type": "markdown",
   "metadata": {},
   "source": [
    "#### Responder"
   ]
  },
  {
   "cell_type": "markdown",
   "metadata": {},
   "source": [
    "Esta função é exatemente idêntica a explicada no arquivo Documentação_App explicado anteriormente"
   ]
  },
  {
   "cell_type": "code",
   "execution_count": null,
   "metadata": {},
   "outputs": [],
   "source": [
    "def responder(id, resposta, buttons, qtd):\n",
    "    btn = []\n",
    "    markup = types.InlineKeyboardMarkup(row_width=qtd)\n",
    "    for bt in buttons:\n",
    "        button = types.InlineKeyboardButton(bt[0], callback_data=bt[1])\n",
    "        btn.append(button)\n",
    "\n",
    "    markup.add(*btn)\n",
    "\n",
    "    bot.send_message(id, resposta, reply_markup=markup)  "
   ]
  },
  {
   "cell_type": "markdown",
   "metadata": {},
   "source": [
    "#### Responder Sem Botão"
   ]
  },
  {
   "cell_type": "markdown",
   "metadata": {},
   "source": [
    "Esta função é exatemente idêntica a explicada no arquivo Documentação_App explicado anteriormente"
   ]
  },
  {
   "cell_type": "code",
   "execution_count": null,
   "metadata": {},
   "outputs": [],
   "source": [
    "def responder_sem_button(id, resposta):\n",
    "    bot.send_message(id, resposta)   "
   ]
  },
  {
   "cell_type": "markdown",
   "metadata": {},
   "source": [
    "#### Gerar número"
   ]
  },
  {
   "cell_type": "markdown",
   "metadata": {},
   "source": [
    "Essa função serve para gerar um número aleatório que vai ser escrito por extenso posteriormente. Esse número é escolhido com base na chance de que ele apareça, por exemplo: \n",
    "\n",
    "- Números entre 0 e 100 possuem 40% de probabilidade de serem escolhidos\n",
    "- Números entre 101 e 500 possuem 30% de probabilidade de serem escolhidos\n",
    "- Números entre 501 e 3000 possuem 20% de probabilidade de serem escolhidos\n",
    "- Números entre 3001 e 99999 possuem 10% de probabilidade de serem escolhidos"
   ]
  },
  {
   "cell_type": "code",
   "execution_count": null,
   "metadata": {},
   "outputs": [],
   "source": [
    "def gerar_numero():\n",
    "    probabilidade = random.random() \n",
    "    \n",
    "    if probabilidade < 0.4:\n",
    "        return random.randint(0, 100) \n",
    "    elif probabilidade < 0.7:\n",
    "        return random.randint(101, 500) \n",
    "    elif probabilidade < 0.9:\n",
    "        return random.randint(501, 3000) \n",
    "    else:\n",
    "        return random.randint(3001, 99999)\n",
    "    "
   ]
  },
  {
   "cell_type": "markdown",
   "metadata": {},
   "source": [
    "#### Verificar Dezena"
   ]
  },
  {
   "cell_type": "markdown",
   "metadata": {},
   "source": [
    "Essa função serve para 'escrever' o número escolhido por extenso com base na regra e nos dados presentes na base de dados. Ela serve especificamente para números com até 2 casas decimais ( 0 a 99)."
   ]
  },
  {
   "cell_type": "code",
   "execution_count": null,
   "metadata": {},
   "outputs": [],
   "source": [
    "def verificar_dezena(numero):\n",
    "    caminho = carregar_planilha()\n",
    "    planilha = load_workbook(caminho)\n",
    "    aba_ativa = planilha['Numeros']\n",
    "\n",
    "    if numero >= 0 and numero < 21:\n",
    "        cel = f'A{numero+1}'\n",
    "        return aba_ativa[cel].value\n",
    "\n",
    "    elif numero == 30:\n",
    "        cel = aba_ativa['A22'].value\n",
    "        return cel\n",
    "\n",
    "    elif numero == 40:\n",
    "        cel = aba_ativa['A23'].value\n",
    "        return cel\n",
    "\n",
    "    elif numero == 50:\n",
    "        cel = aba_ativa['A24'].value\n",
    "        return cel\n",
    "\n",
    "    elif numero == 60:\n",
    "        cel = aba_ativa['A25'].value\n",
    "        return cel\n",
    "\n",
    "    elif numero == 70:\n",
    "        cel = aba_ativa['A26'].value\n",
    "        return cel\n",
    "\n",
    "    elif numero == 80:\n",
    "        cel = aba_ativa['A27'].value\n",
    "        return cel\n",
    "\n",
    "    elif numero == 90:\n",
    "        cel = aba_ativa['A28'].value\n",
    "        return cel\n",
    "        \n",
    "    elif numero > 20 and numero < 30:\n",
    "        ab1 = aba_ativa['A21'].value\n",
    "        ab2 = f'A{numero-19}'\n",
    "        ab21 = aba_ativa[ab2].value\n",
    "        cel = f'{ab1} {ab21}'\n",
    "        return cel\n",
    "\n",
    "    elif numero > 30 and numero < 40:\n",
    "        ab1 = aba_ativa['A22'].value\n",
    "        ab2 = f'A{numero-29}'\n",
    "        ab21 = aba_ativa[ab2].value\n",
    "        cel = f'{ab1} {ab21}'\n",
    "        return cel\n",
    "\n",
    "    elif numero > 40 and numero < 50:\n",
    "        ab1 = aba_ativa['A23'].value\n",
    "        ab2 = f'A{numero-39}'\n",
    "        ab21 = aba_ativa[ab2].value\n",
    "        cel = f'{ab1} {ab21}'\n",
    "        return cel\n",
    "\n",
    "    elif numero > 50 and numero < 60:\n",
    "        ab1 = aba_ativa['A24'].value\n",
    "        ab2 = f'A{numero-49}'\n",
    "        ab21 = aba_ativa[ab2].value\n",
    "        cel = f'{ab1} {ab21}'\n",
    "        return cel\n",
    "\n",
    "    elif numero > 60 and numero < 70:\n",
    "        ab1 = aba_ativa['A25'].value\n",
    "        ab2 = f'A{numero-59}'\n",
    "        ab21 = aba_ativa[ab2].value\n",
    "        cel = f'{ab1} {ab21}'\n",
    "        return cel\n",
    "\n",
    "    elif numero > 70 and numero < 80:\n",
    "        ab1 = aba_ativa['A26'].value\n",
    "        ab2 = f'A{numero-69}'\n",
    "        ab21 = aba_ativa[ab2].value\n",
    "        cel = f'{ab1} {ab21}'\n",
    "        return cel\n",
    "\n",
    "    elif numero > 80 and numero < 90:\n",
    "        ab1 = aba_ativa['A27'].value\n",
    "        ab2 = f'A{numero-79}'\n",
    "        ab21 = aba_ativa[ab2].value\n",
    "        cel = f'{ab1} {ab21}'\n",
    "        return cel\n",
    "\n",
    "    elif numero > 90 and numero < 100:\n",
    "        ab1 = aba_ativa['A28'].value\n",
    "        ab2 = f'A{numero-89}'\n",
    "        ab21 = aba_ativa[ab2].value\n",
    "        cel = f'{ab1} {ab21}'\n",
    "        return cel"
   ]
  },
  {
   "cell_type": "markdown",
   "metadata": {},
   "source": [
    "#### Verificar Centena"
   ]
  },
  {
   "cell_type": "markdown",
   "metadata": {},
   "source": [
    "Essa função serve para 'escrever' o número escolhido por extenso com base na regra e nos dados presentes na base de dados. Ela serve especificamente para números de 3 casas decimais ( 100 a 999)."
   ]
  },
  {
   "cell_type": "code",
   "execution_count": null,
   "metadata": {},
   "outputs": [],
   "source": [
    "def verificar_centena(numero):\n",
    "\n",
    "    caminho = carregar_planilha()\n",
    "    planilha = load_workbook(caminho)\n",
    "    aba_ativa = planilha['Numeros']\n",
    "\n",
    "    if numero == 100:\n",
    "        ab1 = aba_ativa['A2'].value\n",
    "        ab2 = aba_ativa['A29'].value\n",
    "        cel = f'{ab1} {ab2}'\n",
    "        return cel\n",
    "    \n",
    "    if numero == 200:\n",
    "        ab1 = aba_ativa['A3'].value\n",
    "        ab2 = aba_ativa['A29'].value\n",
    "        cel = f'{ab1} {ab2}'\n",
    "        return cel\n",
    "    \n",
    "    if numero == 300:\n",
    "        ab1 = aba_ativa['A4'].value\n",
    "        ab2 = aba_ativa['A29'].value\n",
    "        cel = f'{ab1} {ab2}'\n",
    "        return cel\n",
    "    \n",
    "    if numero == 400:\n",
    "        ab1 = aba_ativa['A5'].value\n",
    "        ab2 = aba_ativa['A29'].value\n",
    "        cel = f'{ab1} {ab2}'\n",
    "        return cel\n",
    "    \n",
    "    if numero == 500:\n",
    "        ab1 = aba_ativa['A6'].value\n",
    "        ab2 = aba_ativa['A29'].value\n",
    "        cel = f'{ab1} {ab2}'\n",
    "        return cel\n",
    "    \n",
    "    if numero == 600:\n",
    "        ab1 = aba_ativa['A7'].value\n",
    "        ab2 = aba_ativa['A29'].value\n",
    "        cel = f'{ab1} {ab2}'\n",
    "        return cel \n",
    "    \n",
    "    if numero == 700:\n",
    "        ab1 = aba_ativa['A8'].value\n",
    "        ab2 = aba_ativa['A29'].value\n",
    "        cel = f'{ab1} {ab2}'\n",
    "        return cel\n",
    "    \n",
    "    if numero == 800:\n",
    "        ab1 = aba_ativa['A9'].value\n",
    "        ab2 = aba_ativa['A29'].value\n",
    "        cel = f'{ab1} {ab2}'\n",
    "        return cel\n",
    "    \n",
    "    if numero == 900:\n",
    "        ab1 = aba_ativa['A10'].value\n",
    "        ab2 = aba_ativa['A29'].value\n",
    "        cel = f'{ab1} {ab2}'\n",
    "        return cel\n",
    "        \n",
    "    elif numero > 100 and numero < 200:\n",
    "        ab1 = aba_ativa['A2'].value\n",
    "        ab2 = aba_ativa['A29'].value\n",
    "        ab3 = verificar_dezena(numero-100)\n",
    "        cel = f'{ab1} {ab2} {ab3}'\n",
    "        return cel\n",
    "\n",
    "    elif numero > 200 and numero < 300:\n",
    "        ab1 = aba_ativa['A3'].value\n",
    "        ab2 = aba_ativa['A29'].value\n",
    "        ab3 = verificar_dezena(numero-200)\n",
    "        cel = f'{ab1} {ab2} {ab3}'\n",
    "        return cel\n",
    "    \n",
    "    elif numero > 300 and numero < 400:\n",
    "        ab1 = aba_ativa['A4'].value\n",
    "        ab2 = aba_ativa['A29'].value\n",
    "        ab3 = verificar_dezena(numero-300)\n",
    "        cel = f'{ab1} {ab2} {ab3}'\n",
    "        return cel\n",
    "\n",
    "    elif numero > 400 and numero < 500:\n",
    "        ab1 = aba_ativa['A5'].value\n",
    "        ab2 = aba_ativa['A29'].value\n",
    "        ab3 = verificar_dezena(numero-400)\n",
    "        cel = f'{ab1} {ab2} {ab3}'\n",
    "        return cel\n",
    "    \n",
    "    elif numero > 500 and numero < 600:\n",
    "        ab1 = aba_ativa['A6'].value\n",
    "        ab2 = aba_ativa['A29'].value\n",
    "        ab3 = verificar_dezena(numero-500)\n",
    "        cel = f'{ab1} {ab2} {ab3}'\n",
    "        return cel\n",
    "    \n",
    "    elif numero > 600 and numero < 700:\n",
    "        ab1 = aba_ativa['A7'].value\n",
    "        ab2 = aba_ativa['A29'].value\n",
    "        ab3 = verificar_dezena(numero-600)\n",
    "        cel = f'{ab1} {ab2} {ab3}'\n",
    "        return cel\n",
    "    \n",
    "    elif numero > 700 and numero < 800:\n",
    "        ab1 = aba_ativa['A8'].value\n",
    "        ab2 = aba_ativa['A29'].value\n",
    "        ab3 = verificar_dezena(numero-700)\n",
    "        cel = f'{ab1} {ab2} {ab3}'\n",
    "        return cel\n",
    "\n",
    "    elif numero > 800 and numero < 900:\n",
    "        ab1 = aba_ativa['A9'].value\n",
    "        ab2 = aba_ativa['A29'].value\n",
    "        ab3 = verificar_dezena(numero-800)\n",
    "        cel = f'{ab1} {ab2} {ab3}'\n",
    "        return cel\n",
    "\n",
    "    elif numero > 900 and numero < 1000:\n",
    "        ab1 = aba_ativa['A10'].value\n",
    "        ab2 = aba_ativa['A29'].value\n",
    "        ab3 = verificar_dezena(numero-900)\n",
    "        cel = f'{ab1} {ab2} {ab3}'\n",
    "        return cel\n"
   ]
  },
  {
   "cell_type": "markdown",
   "metadata": {},
   "source": [
    "#### Verificar Milhar"
   ]
  },
  {
   "cell_type": "markdown",
   "metadata": {},
   "source": [
    "Essa função serve para 'escrever' o número escolhido por extenso com base na regra e nos dados presentes na base de dados. Ela serve especificamente para números de 4 ou 5 casas decimais ( 1000 a 99999)."
   ]
  },
  {
   "cell_type": "code",
   "execution_count": null,
   "metadata": {},
   "outputs": [],
   "source": [
    "def verificar_milhar(numero):\n",
    "    n = str(numero)\n",
    "    if len(n) == 4:\n",
    "        milhar = int(n[0])\n",
    "        centena = int(n[-3])*100\n",
    "        dezena = int(n[-2]+n[-1])\n",
    "    elif len(n) == 5:\n",
    "        milhar = int(n[0]+n[1])\n",
    "        centena = int(n[-3])*100\n",
    "        dezena = int(n[-2]+n[-1])\n",
    "\n",
    "    if numero > 999 and numero < 100000:\n",
    "        if centena == 0:\n",
    "            ab1 = verificar_dezena(milhar)\n",
    "            ab3 = verificar_dezena(dezena)\n",
    "            cel = f'{ab1} thousand {ab3}'\n",
    "            return cel\n",
    "        else:\n",
    "            ab1 = verificar_dezena(milhar)\n",
    "            ab2 = verificar_centena(centena)\n",
    "            ab3 = verificar_dezena(dezena)\n",
    "            cel = f'{ab1} thousand {ab2} {ab3}'\n",
    "            return cel\n",
    " "
   ]
  },
  {
   "cell_type": "markdown",
   "metadata": {},
   "source": [
    "#### Decidir qual verificação escolher"
   ]
  },
  {
   "cell_type": "markdown",
   "metadata": {},
   "source": [
    "Essa função é responsável por receber o número escolhido e decidir em qual função ele se enquadra, seja dezena, centena ou milhar."
   ]
  },
  {
   "cell_type": "code",
   "execution_count": null,
   "metadata": {},
   "outputs": [],
   "source": [
    "def decidir_verificacao_number(numero):\n",
    "    if numero < 100:\n",
    "        cel = verificar_dezena(numero).capitalize()\n",
    "        return cel\n",
    "\n",
    "    elif numero >=100 and numero < 1000:\n",
    "        cel = verificar_centena(numero).capitalize()\n",
    "        return cel\n",
    "\n",
    "    elif numero >=1000:\n",
    "        cel = verificar_milhar(numero).capitalize()\n",
    "        return cel\n"
   ]
  },
  {
   "cell_type": "markdown",
   "metadata": {},
   "source": [
    "#### Numbers"
   ]
  },
  {
   "cell_type": "markdown",
   "metadata": {},
   "source": [
    "Essa função é responsável por gerenciar todas as ações da parte de numbers. Ela recebe a mensagem e o objeto do usuário, a partir da mensagem, a função decide se deve exibir o menu de ações dos números, ou se deve executar uma função específica como exibir um número os exibir ele escrito por extenso por exemplo."
   ]
  },
  {
   "cell_type": "code",
   "execution_count": null,
   "metadata": {},
   "outputs": [],
   "source": [
    "def Numbers(mensagem, user):\n",
    "    id = user.get_id()\n",
    "    number = user.get_number()\n",
    "\n",
    "    if mensagem == '/Numbers':\n",
    "        resposta = f'Você quer aprender sobre números?! 👋 \\n\\nSelecione o que deseja!'\n",
    "        responder(id, resposta, [['Conteúdo sobre Numbers', '/ConteudoNumbers'], ['Exibir Number', '/ExibirNumber'], ['Matérias', '/Aprender'], ['Menu', '/OK']], 1)\n",
    "        \n",
    "\n",
    "    elif mensagem == '/ConteudoNumbers':\n",
    "        caminho = carregar_planilha()\n",
    "        planilha = load_workbook(caminho)\n",
    "        aba_ativa = planilha['Numeros']\n",
    "        resposta = aba_ativa['D1'].value\n",
    "        responder(id, resposta, [['Exibir Number', '/ExibirNumber'], ['Matérias', '/Aprender'], ['Menu','/OK']], 1)\n",
    "\n",
    "    elif mensagem == '/ExibirNumber':\n",
    "        numero = gerar_numero()\n",
    "        user.set_number(numero)\n",
    "        resposta = f'O número escolhido foi {numero} '\n",
    "        responder(id, resposta, [['Escrever por Extenso', '/ExtensoNumbers'], ['Exibir Número Extenso', '/ExibirNumberExtenso'], ['Exibir Number', '/ExibirNumber'], ['Matérias', '/Aprender'], ['Menu','/OK']], 1)\n",
    "    \n",
    "    elif mensagem == '/ExtensoNumbers':\n",
    "        user.set_ultimoComando('/ExtensoNumbers')\n",
    "        resposta = f'Digite o número informado por extenso: '\n",
    "        responder_sem_button(id, resposta)\n",
    "\n",
    "    elif mensagem == '/ExibirNumberExtenso':\n",
    "        extenso = decidir_verificacao_number(int(number))\n",
    "        resposta = f'\\nO número {number} por extenso é: \\n\\n{extenso}'\n",
    "        responder(id, resposta, [['Exibir Number', '/ExibirNumber'], ['Matérias', '/Aprender'], ['Menu','/OK']], 1)\n"
   ]
  },
  {
   "cell_type": "markdown",
   "metadata": {},
   "source": [
    "#### Verificar Números por extenso"
   ]
  },
  {
   "cell_type": "markdown",
   "metadata": {},
   "source": [
    "Essa função é chamada quando o comando enviado pelo usuário é para escrever o número exibido por extenso. Ela é responsável por analizar se o jeito que o usuário escreveu o número está de acordo com a regra, para isso, ela solicita ao próprio código a forma correta de escrita do número exibido e compara com o que o usuário escreveu, identificando assim se esta correto ou não."
   ]
  },
  {
   "cell_type": "code",
   "execution_count": null,
   "metadata": {},
   "outputs": [],
   "source": [
    "def VerificarNumberExtenso(mensagem, user):\n",
    "    number = user.get_number()\n",
    "    id = user.get_id()\n",
    "\n",
    "    if mensagem.capitalize() == decidir_verificacao_number(int(number)):\n",
    "                resposta = f'Você acertou!'\n",
    "                user.set_ultimoComando('/Aprender')\n",
    "                responder(id, resposta, [['Exibir Number', '/ExibirNumber'], ['Matérias', '/Aprender'], ['Menu','/OK']], 1)\n",
    "    else:\n",
    "        extenso = decidir_verificacao_number(int(number)).capitalize()\n",
    "        resposta = f'Você errou! a traducao correta é: \\n\\n{extenso}'\n",
    "        user.set_ultimoComando('/Aprender')\n",
    "        responder(id, resposta, [['Exibir Number', '/ExibirNumber'], ['Matérias', '/Aprender'], ['Menu','/OK']], 1)\n"
   ]
  }
 ],
 "metadata": {
  "kernelspec": {
   "display_name": "Python 3",
   "language": "python",
   "name": "python3"
  },
  "language_info": {
   "codemirror_mode": {
    "name": "ipython",
    "version": 3
   },
   "file_extension": ".py",
   "mimetype": "text/x-python",
   "name": "python",
   "nbconvert_exporter": "python",
   "pygments_lexer": "ipython3",
   "version": "3.12.2"
  }
 },
 "nbformat": 4,
 "nbformat_minor": 2
}
