{
 "cells": [
  {
   "cell_type": "markdown",
   "metadata": {},
   "source": [
    "## Propósito do projeto"
   ]
  },
  {
   "cell_type": "markdown",
   "metadata": {},
   "source": [
    "##### Nosso propósito é ajudar você a treinar e colocar em prática seus estudos de inglês. Eu forneço frases e histórias com o objetivo de você tentar traduzi-las. Depois, você pode verificar se acertou solicitando a tradução da frase ou história. Além disso, recentemente adicionamos uma seção para aprender alguns conteúdos relativos ao inglês, constantemente o sistema será atualizado com novos conteúdos. Nós surgimos da necessidade de um lugar onde pudéssemos treinar nossos aprendizados de forma prática, traduzindo pequenos textos ou frases, mas que estes estivessem no nosso nível de aprendizado. Muitas das vezes, outros lugares que tinham essas frases e histórias, não possuíam um nível equivalente ao nosso aprendizado. Dai eu surgi, com o objetivo de te ajudar a aprender cada vez mais."
   ]
  },
  {
   "cell_type": "markdown",
   "metadata": {},
   "source": [
    "## Importando Bibliotecas"
   ]
  },
  {
   "cell_type": "markdown",
   "metadata": {},
   "source": [
    "Nesse projeto utilizaremos 7 bibliotecas.\n",
    "\n",
    "- *Telebot* - responsável por fazer a comunicação com o Telegram.\n",
    "\n",
    "- *Telebot types* - responsável pela interface de botões no telegram.\n",
    "\n",
    "- *Openpyxl* - responsável por fazer a comunicação com a base de dados, no caso, uma planilha do excel.\n",
    "\n",
    "- *Random* - Biblioteca para escolher números aleatórios, utilizada principalmente para selecionar uma número aleatório.\n",
    "\n",
    "- *OS* - Função responsável por verificar o caminho correto para os arquivos dentro do código.\n",
    "\n",
    "Antes de importar, devemos fazer o download das bibliotecas!\n",
    "\n",
    "Versões disponíveis no arquivo requeriments."
   ]
  },
  {
   "cell_type": "code",
   "execution_count": null,
   "metadata": {},
   "outputs": [],
   "source": [
    "import telebot\n",
    "from telebot import types\n",
    "from openpyxl import load_workbook\n",
    "import random\n",
    "import os"
   ]
  },
  {
   "cell_type": "markdown",
   "metadata": {},
   "source": [
    "## Definindo sua chave API"
   ]
  },
  {
   "cell_type": "markdown",
   "metadata": {},
   "source": [
    "### Definindo a chave no script"
   ]
  },
  {
   "cell_type": "code",
   "execution_count": null,
   "metadata": {},
   "outputs": [],
   "source": [
    "# Com a chave API em mãos, basta definir a nossa variável para ela\n",
    "\n",
    "CHAVE_API = \"Sua Chave api aqui\""
   ]
  },
  {
   "cell_type": "markdown",
   "metadata": {},
   "source": [
    "### Iniciando o bot"
   ]
  },
  {
   "cell_type": "code",
   "execution_count": null,
   "metadata": {},
   "outputs": [],
   "source": [
    "# Para iniciar o bot e permitir a comunicação com o Telegram, basta executar o comando abaixo\n",
    "\n",
    "bot = telebot.TeleBot(CHAVE_API)\n",
    "\n",
    "# Agora, todas as operações envolvendo o bot devem ser realizadas através da variável 'bot'"
   ]
  },
  {
   "cell_type": "markdown",
   "metadata": {},
   "source": [
    "## Diagrama das pastas"
   ]
  },
  {
   "cell_type": "markdown",
   "metadata": {},
   "source": [
    "Todo o código é dividido em diferentes pastas, sendo elas:\n",
    "\n",
    "- *Audios Alfabeto* - Onde estão armazenados os arquivos da audio com a pronúncia do alfabeto\n",
    "\n",
    "- *DataBase* - Onde estão armazenados os arquivos da base de dados\n",
    "\n",
    "- *CódigoDocumentado* - Onde estão armazenados esses arquivos com o código documentado\n",
    "\n",
    "- *DiagramaEnglishBot* - Onde esta armazenado as imagens de como funciona basicamente o programa\n",
    "\n",
    "- *FrasesHistórias* - Onde estão armazenados os arquivos de código referentes as frases e histórias\n",
    "\n",
    "- *MatériasFunction* - Onde estão armazenados os arquivos de código referentes as mqaatérias da parte de aprender\n",
    "\n",
    "A organização se encontra como:"
   ]
  },
  {
   "cell_type": "code",
   "execution_count": null,
   "metadata": {},
   "outputs": [],
   "source": [
    "\"\"\"\n",
    "EnglishBot\n",
    "    |____ Audios Alfabeto\n",
    "    |            |____ Audios.ogg\n",
    "    |\n",
    "    |____ CodigoDocumentado\n",
    "    |            |____ Documentacao_App.ipynb\n",
    "    |            |____ Documentacao_Frases.ipynb\n",
    "    |            |____ Documentacao_Number.ipynb\n",
    "    |            |____ Documentacao_AlphabetPronunciation\n",
    "    |\n",
    "    |____ DataBase\n",
    "    |         |____ Aprendendo.xlsx\n",
    "    |         |____ Frases Ingles.xlsx\n",
    "    |         |____ Historias Ingles.xlsx\n",
    "    |         |____ Pronuncia Alfabeto.xlsx\n",
    "    |         |____ Usuarios.xlsx\n",
    "    |     \n",
    "    |____ Diagrama EnglishBot\n",
    "    |             |____ Diagramas.png\n",
    "    |\n",
    "    |____ FrasesHistórias\n",
    "    |            |____ __init__.py\n",
    "    |            |____ Frases.py\n",
    "    |\n",
    "    |____ MatériasFunctions\n",
    "    |            |____ __init__.py\n",
    "    |            |____ AlphabetPronunciation\n",
    "    |            |              |____ __init__.py\n",
    "    |            |              |____ AlphabetPronunciation.py\n",
    "    |            |              \n",
    "    |            |____ Numbers\n",
    "    |                     |____ __init__.py\n",
    "    |                     |____ Numbers.py\n",
    "    |____ App.py\n",
    "    \n",
    "\"\"\""
   ]
  },
  {
   "cell_type": "markdown",
   "metadata": {},
   "source": [
    "O app.py utiliza as funções presentes nos arquivos dentro da pasta, no caso desse arquivo 'AlphabetPronunciation.py' por exemplo, ele precisa de alguma forma importar essas funções para poder utilizar. Para isso existem os arquivos __init__.py, esse arquivo faz com que as pastas se comportem como pacotes, permitindo que o app.py consiga importar as funções."
   ]
  },
  {
   "cell_type": "markdown",
   "metadata": {},
   "source": [
    "## Funções"
   ]
  },
  {
   "cell_type": "markdown",
   "metadata": {},
   "source": [
    "#### Carregar planilha"
   ]
  },
  {
   "cell_type": "markdown",
   "metadata": {},
   "source": [
    "Como visto no diagrama acima, o arquivo frases esta dentro de uma pasta, mas precisa acessar os arquivos da pasta database. Para isso existe essa função, ela determina exatamente qual a pasta atual em que o arquivo em execução se encontra, e com isso volta duas pastas, como no nosso caso, entra na pasta DataBase e seleciona o arquivo procurado. Essa função retorna o caminho absoluto onde o arquivo se encontra no sistema.\n",
    "\n",
    "Recebe como parâmetro o nome do arquivo procurado\n"
   ]
  },
  {
   "cell_type": "code",
   "execution_count": null,
   "metadata": {},
   "outputs": [],
   "source": [
    "def carregar_planilha():\n",
    "    diretorio_atual = os.getcwd()\n",
    "    dir_atual = diretorio_atual.split('\\\\')\n",
    "    if dir_atual[-1] == 'Numbers':\n",
    "        os.chdir(os.path.dirname(os.path.dirname(diretorio_atual)))\n",
    "    pasta_database = os.path.join(diretorio_atual, 'DataBase')\n",
    "    caminho_arquivo = os.path.join(pasta_database, 'Aprendendo.xlsx')\n",
    "    return caminho_arquivo\n"
   ]
  },
  {
   "cell_type": "markdown",
   "metadata": {},
   "source": [
    "#### Carregar audio"
   ]
  },
  {
   "cell_type": "markdown",
   "metadata": {},
   "source": [
    "Essa função tem o mesmo objetivo da função anterior, com a diferença de que ao invés de retornar o caminho de um arquivo da pasta database, retorna o caminho de um aldio específico da pasta de audios do alfabeto."
   ]
  },
  {
   "cell_type": "code",
   "execution_count": null,
   "metadata": {},
   "outputs": [],
   "source": [
    "def carregar_audio(letra):\n",
    "    diretorio_atual = os.getcwd()\n",
    "    dir_atual = diretorio_atual.split('\\\\')\n",
    "    if dir_atual[-1] == 'AlphabetPronunciation':\n",
    "        os.chdir(os.path.dirname(os.path.dirname(diretorio_atual)))\n",
    "    pasta_audios = os.path.join(diretorio_atual, 'Audios Alfabeto')\n",
    "    caminho_arquivo = os.path.join(pasta_audios, f'{letra}.ogg')\n",
    "    return caminho_arquivo\n"
   ]
  },
  {
   "cell_type": "markdown",
   "metadata": {},
   "source": [
    "#### Responder"
   ]
  },
  {
   "cell_type": "markdown",
   "metadata": {},
   "source": [
    "Esta função é exatemente idêntica a explicada no arquivo Documentação_App explicado anteriormente"
   ]
  },
  {
   "cell_type": "code",
   "execution_count": null,
   "metadata": {},
   "outputs": [],
   "source": [
    "def responder(id, resposta, buttons, qtd):\n",
    "    btn = []\n",
    "    markup = types.InlineKeyboardMarkup(row_width=qtd)\n",
    "    for bt in buttons:\n",
    "        button = types.InlineKeyboardButton(bt[0], callback_data=bt[1])\n",
    "        btn.append(button)\n",
    "\n",
    "    markup.add(*btn)\n",
    "\n",
    "    bot.send_message(id, resposta, reply_markup=markup)  "
   ]
  },
  {
   "cell_type": "markdown",
   "metadata": {},
   "source": [
    "#### Enviar audio"
   ]
  },
  {
   "cell_type": "markdown",
   "metadata": {},
   "source": [
    "Essa função tem o mesmo objetivo das funções de responder simples, porém enviando audio. Ela recebe o id do usuário e o caminho do áudio, para enviar, basta colocar o id e abrir o arquivo que contém o áudio com base no caminho recebido."
   ]
  },
  {
   "cell_type": "code",
   "execution_count": null,
   "metadata": {},
   "outputs": [],
   "source": [
    "def enviar_audio(id, letra):\n",
    "    caminho = carregar_audio(letra)\n",
    "    bot.send_voice(id, open(caminho, 'rb'))"
   ]
  },
  {
   "cell_type": "markdown",
   "metadata": {},
   "source": [
    "#### Menu Letras"
   ]
  },
  {
   "cell_type": "markdown",
   "metadata": {},
   "source": [
    "Essa função serve para exibir para o usuário o menu com todas as letras do alfabeto, para que ele escolha uma e escute a pronúncia."
   ]
  },
  {
   "cell_type": "code",
   "execution_count": null,
   "metadata": {},
   "outputs": [],
   "source": [
    "def menu_letras(user):\n",
    "    id = user.get_id()\n",
    "    resposta = f'Pronúncia do alfabeto em inglês! \\n\\nSelecione uma letra!'\n",
    "    botoes = [['A', '/A'], ['B', '/B'], ['C', '/C'], ['D', '/D'], ['E', '/E'], ['F', '/F'], ['G', '/G'], ['H', '/H'], ['I', '/I'], ['J', '/J'], ['K', '/K'], ['L', '/L'], ['M', '/M'], ['N', '/N'], ['O', '/O'], ['P', '/P'], ['Q', '/Q'], ['R', '/R'], ['S', '/S'], ['T', '/T'], ['U', '/U'], ['V', '/V'], ['W', '/W'], ['X', '/X'], ['Y', '/Y'], ['Z', '/Z'], ['Matérias', '/Aprender'], ['Menu', '/OK']]\n",
    "    responder(id, resposta, botoes , 4)"
   ]
  },
  {
   "cell_type": "markdown",
   "metadata": {},
   "source": [
    "#### Exibir audio"
   ]
  },
  {
   "cell_type": "markdown",
   "metadata": {},
   "source": [
    "Essa função serve para receber a escolha do usuário no menu acima e enviar o áudio com a forma correta de pronúncia e explicação da letra. Ele recebe a letra escolhida, identifica o áudio correspondente a letra e envia junto com uma pequena explicação de como se pronuncia a letra."
   ]
  },
  {
   "cell_type": "code",
   "execution_count": null,
   "metadata": {},
   "outputs": [],
   "source": [
    "def exibir_audio(user, letra):\n",
    "    id = user.get_id()\n",
    "    alfabeto = ['A', 'B', 'C', 'D', 'E', 'F', 'G', 'H', 'I', 'J', 'K', 'L', 'M', 'N', 'O', 'P', 'Q', 'R', 'S', 'T', 'U', 'V', 'W', 'X', 'Y', 'Z']\n",
    "    if letra in alfabeto:\n",
    "        enviar_audio(id, letra)\n",
    "        caminho = carregar_planilha()\n",
    "        planilha = load_workbook(caminho)\n",
    "        aba_ativa = planilha.active\n",
    "        indexLetra = alfabeto.index(letra) + 1\n",
    "        pronuncia = aba_ativa[f'B{indexLetra}'].value\n",
    "        resposta = f'Letra: {letra}   Pronúncia: {pronuncia}'\n",
    "        responder(id, resposta, [['Alphabet Pronunciation', '/Alfabet'], ['Alphabet Training', '/TreinarAlfabeto'], ['Matérias', '/Aprender'], ['Menu', '/OK']] , 1)\n",
    "    else:\n",
    "        menu_letras(user)"
   ]
  },
  {
   "cell_type": "markdown",
   "metadata": {},
   "source": [
    "#### Verificar pronúncia"
   ]
  },
  {
   "cell_type": "markdown",
   "metadata": {},
   "source": [
    "Caso o usuário opte por receber um áudio e tentar identificar a letra informada, essa função é responsável por identificar se a resposta do usuário esta correta, ao exibir uma letra, ela é armazenada nas informações do usuário, então essa função apenas compara a letra do objeto com a resposta informada pelo usuário e define se está correto ou não."
   ]
  },
  {
   "cell_type": "code",
   "execution_count": null,
   "metadata": {},
   "outputs": [],
   "source": [
    "def verificar_pronuncia(user, mensagem):\n",
    "    letra = user.get_letra()\n",
    "    id = user.get_id()\n",
    "    if mensagem.upper() == letra:\n",
    "                resposta = f'Você acertou!'\n",
    "                user.set_ultimoComando('/Aprender')\n",
    "                responder(id, resposta, [['Exibir Letra', '/TreinarAlfabeto'], ['Matérias', '/Aprender'], ['Menu','/OK']], 1)\n",
    "    else:\n",
    "        resposta = f'Você errou! a letra correta é: {letra}'\n",
    "        user.set_ultimoComando('/Aprender')\n",
    "        responder(id, resposta, [['Exibir Letra', '/TreinarAlfabeto'], ['Matérias', '/Aprender'], ['Menu','/OK']], 1)\n"
   ]
  },
  {
   "cell_type": "markdown",
   "metadata": {},
   "source": [
    "#### Treinar pronúncia"
   ]
  },
  {
   "cell_type": "markdown",
   "metadata": {},
   "source": [
    "Essa função é responsável por escolher uma letra aleatóriamente e enviar o audoi da pronúncia para o usuário tentar identificar qual é."
   ]
  },
  {
   "cell_type": "code",
   "execution_count": null,
   "metadata": {},
   "outputs": [],
   "source": [
    "def treinar_pronuncia(user):\n",
    "    alfabeto = ['A', 'B', 'C', 'D', 'E', 'F', 'G', 'H', 'I', 'J', 'K', 'L', 'M', 'N', 'O', 'P', 'Q', 'R', 'S', 'T', 'U', 'V', 'W', 'X', 'Y', 'Z']\n",
    "    id = user.get_id()\n",
    "    letra = alfabeto[random.randint(0, 25)]\n",
    "    user.set_letra(letra)\n",
    "    enviar_audio(id, letra)\n",
    "    resposta = f'Digite a letra exibida no audio: '\n",
    "    responder(id, resposta, [['Voltar', '/Alfabeto']], 1)\n",
    "    user.set_ultimoComando('/VerificarPronuncia')\n",
    "  "
   ]
  },
  {
   "cell_type": "markdown",
   "metadata": {},
   "source": [
    "#### Exibir alfabeto"
   ]
  },
  {
   "cell_type": "markdown",
   "metadata": {},
   "source": [
    "Essa função serve para verificar se a letra recebida como resposta foi um comando para enviar um áudio ou se foi um comando para exibir o menu."
   ]
  },
  {
   "cell_type": "code",
   "execution_count": null,
   "metadata": {},
   "outputs": [],
   "source": [
    "def exibir_alfabeto(user, mensagem):\n",
    "    try:\n",
    "        alfabeto = ['A', 'B', 'C', 'D', 'E', 'F', 'G', 'H', 'I', 'J', 'K', 'L', 'M', 'N', 'O', 'P', 'Q', 'R', 'S', 'T', 'U', 'V', 'W', 'X', 'Y', 'Z']\n",
    "        letra = mensagem.split('/')[1]\n",
    "        if letra in alfabeto:\n",
    "            exibir_audio(user, letra)\n",
    "        \n",
    "        else:\n",
    "            menu_letras(user)\n",
    "    except:\n",
    "        menu_letras(user)\n"
   ]
  },
  {
   "cell_type": "markdown",
   "metadata": {},
   "source": [
    "#### Alphabet"
   ]
  },
  {
   "cell_type": "markdown",
   "metadata": {},
   "source": [
    "Essa função é responsável por gerenciar se a escolha do usuário foi aprender a pronúncia ou se foi treinar a pronúncia com os audios fornecidos aleatóriamente."
   ]
  },
  {
   "cell_type": "code",
   "execution_count": null,
   "metadata": {},
   "outputs": [],
   "source": [
    "def alphabet(user, mensagem):\n",
    "    id = user.get_id()\n",
    "    if mensagem == '/Alfabeto':\n",
    "        resposta = f'Selecione o que deseja!'\n",
    "        responder(id, resposta, [['Alphabet Pronunciation', '/Alfabet'],['Alphabet Training', '/TreinarAlfabeto'], ['Matérias', '/Aprender'], ['Menu','/OK']], 1)\n",
    "    \n",
    "    elif mensagem == '/TreinarAlfabeto':\n",
    "        treinar_pronuncia(user)\n",
    "    \n",
    "    elif mensagem == '/Alfabet':\n",
    "        menu_letras(user)\n",
    "\n",
    "    else:\n",
    "        exibir_alfabeto(user, mensagem)"
   ]
  }
 ],
 "metadata": {
  "kernelspec": {
   "display_name": "Python 3",
   "language": "python",
   "name": "python3"
  },
  "language_info": {
   "codemirror_mode": {
    "name": "ipython",
    "version": 3
   },
   "file_extension": ".py",
   "mimetype": "text/x-python",
   "name": "python",
   "nbconvert_exporter": "python",
   "pygments_lexer": "ipython3",
   "version": "3.12.2"
  }
 },
 "nbformat": 4,
 "nbformat_minor": 2
}
