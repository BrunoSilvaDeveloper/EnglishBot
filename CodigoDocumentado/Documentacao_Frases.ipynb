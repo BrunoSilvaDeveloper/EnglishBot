{
 "cells": [
  {
   "cell_type": "markdown",
   "metadata": {},
   "source": [
    "## Propósito do projeto"
   ]
  },
  {
   "cell_type": "markdown",
   "metadata": {},
   "source": [
    "##### Nosso propósito é ajudar você a treinar e colocar em prática seus estudos de inglês. Eu forneço frases e histórias com o objetivo de você tentar traduzi-las. Depois, você pode verificar se acertou solicitando a tradução da frase ou história. Além disso, recentemente adicionamos uma seção para aprender alguns conteúdos relativos ao inglês, constantemente o sistema será atualizado com novos conteúdos. Nós surgimos da necessidade de um lugar onde pudéssemos treinar nossos aprendizados de forma prática, traduzindo pequenos textos ou frases, mas que estes estivessem no nosso nível de aprendizado. Muitas das vezes, outros lugares que tinham essas frases e histórias, não possuíam um nível equivalente ao nosso aprendizado. Dai eu surgi, com o objetivo de te ajudar a aprender cada vez mais."
   ]
  },
  {
   "cell_type": "markdown",
   "metadata": {},
   "source": [
    "## Importando Bibliotecas"
   ]
  },
  {
   "cell_type": "markdown",
   "metadata": {},
   "source": [
    "Nesse projeto utilizaremos 7 bibliotecas.\n",
    "\n",
    "- *Telebot* - responsável por fazer a comunicação com o Telegram.\n",
    "\n",
    "- *Telebot types* - responsável pela interface de botões no telegram.\n",
    "\n",
    "- *Openpyxl* - responsável por fazer a comunicação com a base de dados, no caso, uma planilha do excel.\n",
    "\n",
    "- *Random* - Biblioteca para escolher números aleatórios, utilizada principalmente para selecionar uma frase aleatória da base de dados.\n",
    "\n",
    "- *OS* - Função responsável por verificar o caminho correto para os arquivos dentro do código.\n",
    "\n",
    "Antes de importar, devemos fazer o download das bibliotecas!\n",
    "\n",
    "Versões disponíveis no arquivo requeriments."
   ]
  },
  {
   "cell_type": "code",
   "execution_count": null,
   "metadata": {},
   "outputs": [],
   "source": [
    "import telebot\n",
    "from telebot import types\n",
    "from openpyxl import load_workbook\n",
    "import random\n",
    "import os"
   ]
  },
  {
   "cell_type": "markdown",
   "metadata": {},
   "source": [
    "## Definindo sua chave API"
   ]
  },
  {
   "cell_type": "markdown",
   "metadata": {},
   "source": [
    "### Definindo a chave no script"
   ]
  },
  {
   "cell_type": "code",
   "execution_count": null,
   "metadata": {},
   "outputs": [],
   "source": [
    "# Com a chave API em mãos, basta definir a nossa variável para ela\n",
    "\n",
    "CHAVE_API = \"Sua Chave api aqui\""
   ]
  },
  {
   "cell_type": "markdown",
   "metadata": {},
   "source": [
    "### Iniciando o bot"
   ]
  },
  {
   "cell_type": "code",
   "execution_count": null,
   "metadata": {},
   "outputs": [],
   "source": [
    "# Para iniciar o bot e permitir a comunicação com o Telegram, basta executar o comando abaixo\n",
    "\n",
    "bot = telebot.TeleBot(CHAVE_API)\n",
    "\n",
    "# Agora, todas as operações envolvendo o bot devem ser realizadas através da variável 'bot'"
   ]
  },
  {
   "cell_type": "markdown",
   "metadata": {},
   "source": [
    "## Diagrama das pastas"
   ]
  },
  {
   "cell_type": "markdown",
   "metadata": {},
   "source": [
    "Todo o código é dividido em diferentes pastas, sendo elas:\n",
    "\n",
    "- *Audios Alfabeto* - Onde estão armazenados os arquivos da audio com a pronúncia do alfabeto\n",
    "\n",
    "- *DataBase* - Onde estão armazenados os arquivos da base de dados\n",
    "\n",
    "- *CódigoDocumentado* - Onde estão armazenados esses arquivos com o código documentado\n",
    "\n",
    "- *DiagramaEnglishBot* - Onde esta armazenado as imagens de como funciona basicamente o programa\n",
    "\n",
    "- *FrasesHistórias* - Onde estão armazenados os arquivos de código referentes as frases e histórias\n",
    "\n",
    "- *MatériasFunction* - Onde estão armazenados os arquivos de código referentes as mqaatérias da parte de aprender\n",
    "\n",
    "A organização se encontra como:"
   ]
  },
  {
   "cell_type": "code",
   "execution_count": null,
   "metadata": {},
   "outputs": [],
   "source": [
    "\"\"\"\n",
    "EnglishBot\n",
    "    |____ Audios Alfabeto\n",
    "    |            |____ Audios.ogg\n",
    "    |\n",
    "    |____ CodigoDocumentado\n",
    "    |            |____ Documentacao_App.ipynb\n",
    "    |            |____ Documentacao_Frases.ipynb\n",
    "    |            |____ Documentacao_Number.ipynb\n",
    "    |            |____ Documentacao_AlphabetPronunciation\n",
    "    |\n",
    "    |____ DataBase\n",
    "    |         |____ Aprendendo.xlsx\n",
    "    |         |____ Frases Ingles.xlsx\n",
    "    |         |____ Historias Ingles.xlsx\n",
    "    |         |____ Pronuncia Alfabeto.xlsx\n",
    "    |         |____ Usuarios.xlsx\n",
    "    |     \n",
    "    |____ Diagrama EnglishBot\n",
    "    |             |____ Diagramas.png\n",
    "    |\n",
    "    |____ FrasesHistórias\n",
    "    |            |____ __init__.py\n",
    "    |            |____ Frases.py\n",
    "    |\n",
    "    |____ MatériasFunctions\n",
    "    |            |____ __init__.py\n",
    "    |            |____ AlphabetPronunciation\n",
    "    |            |              |____ __init__.py\n",
    "    |            |              |____ AlphabetPronunciation.py\n",
    "    |            |              \n",
    "    |            |____ Numbers\n",
    "    |                     |____ __init__.py\n",
    "    |                     |____ Numbers.py\n",
    "    |____ App.py\n",
    "    \n",
    "\"\"\""
   ]
  },
  {
   "cell_type": "markdown",
   "metadata": {},
   "source": [
    "O app.py utiliza as funções presentes nos arquivos dentro da pasta, no caso desse arquivo 'Frases.py' por exemplo, ele precisa de alguma forma importar essas funções para poder utilizar. Para isso existem os arquivos __init__.py, esse arquivo faz com que as pastas se comportem como pacotes, permitindo que o app.py consiga importar as funções."
   ]
  },
  {
   "cell_type": "markdown",
   "metadata": {},
   "source": [
    "## Funções"
   ]
  },
  {
   "cell_type": "markdown",
   "metadata": {},
   "source": [
    "#### Carregar planilha"
   ]
  },
  {
   "cell_type": "markdown",
   "metadata": {},
   "source": [
    "Como visto no diagrama acima, o arquivo frases esta dentro de uma pasta, mas precisa acessar os arquivos da pasta database. Para isso existe essa função, ela determina exatamente qual a pasta atual em que o arquivo em execução se encontra, e com isso volta uma pasta, como no nosso caso, entra na pasta DataBase e seleciona o arquivo procurado. Essa função retorna o caminho absoluto onde o arquivo se encontra no sistema.\n",
    "\n",
    "Recebe como parâmetro o nome do arquivo procurado\n"
   ]
  },
  {
   "cell_type": "code",
   "execution_count": null,
   "metadata": {},
   "outputs": [],
   "source": [
    "def carregar_planilha(arquivo):\n",
    "    diretorio_atual = os.getcwd()\n",
    "    dir_atual = diretorio_atual.split('\\\\')\n",
    "    if dir_atual[-1] == 'FrasesHistorias':\n",
    "        os.chdir(os.path.dirname(diretorio_atual))\n",
    "    pasta_database = os.path.join(diretorio_atual, 'DataBase')\n",
    "    caminho_arquivo = os.path.join(pasta_database, arquivo)\n",
    "    return caminho_arquivo\n",
    "\n"
   ]
  },
  {
   "cell_type": "markdown",
   "metadata": {},
   "source": [
    "#### Responder"
   ]
  },
  {
   "cell_type": "markdown",
   "metadata": {},
   "source": [
    "Esta função é exatemente idêntica a explicada no arquivo Documentação_App explicado anteriormente"
   ]
  },
  {
   "cell_type": "code",
   "execution_count": null,
   "metadata": {},
   "outputs": [],
   "source": [
    "def responder(id, resposta, buttons, qtd):\n",
    "    btn = []\n",
    "    markup = types.InlineKeyboardMarkup(row_width=qtd)\n",
    "    for bt in buttons:\n",
    "        button = types.InlineKeyboardButton(bt[0], callback_data=bt[1])\n",
    "        btn.append(button)\n",
    "\n",
    "    markup.add(*btn)\n",
    "\n",
    "    bot.send_message(id, resposta, reply_markup=markup)  "
   ]
  },
  {
   "cell_type": "markdown",
   "metadata": {},
   "source": [
    "#### Receber Frases"
   ]
  },
  {
   "cell_type": "markdown",
   "metadata": {},
   "source": [
    "Essa função retorna uma frase aleatória no banco de dados com base no nível do usuário e na escolha que ele fez, se foi frase ou história. Ela capta essas informações na base de dados e altera no objeto do usuário.\n",
    "\n",
    "Recebe como parâmetro o nivel, a escolha e o objeto do usuário."
   ]
  },
  {
   "cell_type": "code",
   "execution_count": null,
   "metadata": {},
   "outputs": [],
   "source": [
    "def receberFrases(nivel, choice, user):\n",
    "    if nivel == None:\n",
    "        nivel == 'Básico'\n",
    "\n",
    "    if choice == 'Frase':\n",
    "        caminho = carregar_planilha('Frases Ingles.xlsx')\n",
    "        planilha = load_workbook(caminho)\n",
    "        aba_ativa = planilha[nivel]\n",
    "\n",
    "    \n",
    "    elif choice == 'Historia':\n",
    "        caminho = carregar_planilha('Historias Ingles.xlsx')\n",
    "        planilha = load_workbook(caminho)\n",
    "        aba_ativa = planilha[nivel]\n",
    "\n",
    "    QtdFrases = len(aba_ativa['A'])\n",
    "    number = random.randint(2, QtdFrases)\n",
    "    user.set_frase(aba_ativa[f'B{number}'].value)\n",
    "    user.set_traducao(aba_ativa[f'C{number}'].value)\n",
    "    user.set_nivel(aba_ativa[f'D{number}'].value)\n"
   ]
  },
  {
   "cell_type": "markdown",
   "metadata": {},
   "source": [
    "#### Exibir tradução "
   ]
  },
  {
   "cell_type": "markdown",
   "metadata": {},
   "source": [
    "Essa função acessa o objeto do usuário e envia para o telegram a tradução da frase ou da história que foi exibida anteriormente.\n",
    "\n",
    "Recebe como parâmetro o objeto do usuário."
   ]
  },
  {
   "cell_type": "code",
   "execution_count": null,
   "metadata": {},
   "outputs": [],
   "source": [
    "def exibirTraducao(user):\n",
    "    traducao = user.get_traducao()\n",
    "    id = user.get_id()\n",
    "    resposta = f'Esta é a sua tradução, espero que tenha acertado! 😊 \\n\\n{traducao}'\n",
    "    responder(id, resposta, [['Continuar','/Menu']], 1)"
   ]
  },
  {
   "cell_type": "markdown",
   "metadata": {},
   "source": [
    "#### Alterar Nível"
   ]
  },
  {
   "cell_type": "markdown",
   "metadata": {},
   "source": [
    "Essa função acessa o objeto do usuário e altera o nível de acordo com o nível solicitado.\n",
    "\n",
    "Recebe como parâmetro o objeto do usuário e o novo nível."
   ]
  },
  {
   "cell_type": "code",
   "execution_count": null,
   "metadata": {},
   "outputs": [],
   "source": [
    "def AlterarNivel(user, nivel):\n",
    "    id = user.get_id()\n",
    "\n",
    "    if nivel == 'Nivel':\n",
    "        resposta = f'Escolha seu nível 🤗'\n",
    "        responder(id, resposta, [['Nível Básico','/Basico'], ['Nível Básico Avançado', '/BasicoAvancado'], ['Nível Intermediário', '/Intermediario'], ['Nível Intermediário Avançado', '/IntermediarioAvancado'], ['Nível Fluente', '/Fluente']], 1)\n",
    "    \n",
    "    else:\n",
    "        user.set_nivel(nivel)\n",
    "        resposta = f'Seu nível foi alterado para {nivel} 😉'\n",
    "        responder(id, resposta, [['Continuar','/Menu']], 1)"
   ]
  },
  {
   "cell_type": "markdown",
   "metadata": {},
   "source": [
    "#### Exibir História"
   ]
  },
  {
   "cell_type": "markdown",
   "metadata": {},
   "source": [
    "Essa função solicita a função de receber frases uma história de acordo com o nível e envia ela formatada para o usuário"
   ]
  },
  {
   "cell_type": "code",
   "execution_count": null,
   "metadata": {},
   "outputs": [],
   "source": [
    "def exibirHistoria(user):\n",
    "    nivel = user.get_nivel()\n",
    "    id = user.get_id()\n",
    "    receberFrases(nivel, 'Historia', user)\n",
    "\n",
    "    mensagem = user.get_frase()\n",
    "    nivel = user.get_nivel()\n",
    "    resposta = f'História de Nível: {nivel}🔥 \\n\\nEsta é a sua história, bons estudos! \\n\\n{mensagem}'\n",
    "    responder(id, resposta, [['Continuar','/Menu']], 1)"
   ]
  },
  {
   "cell_type": "markdown",
   "metadata": {},
   "source": [
    "#### Exibir Frase"
   ]
  },
  {
   "cell_type": "markdown",
   "metadata": {},
   "source": [
    "Essa função solicita a função de receber frases uma frase de acordo com o nível e envia ela formatada para o usuário."
   ]
  },
  {
   "cell_type": "code",
   "execution_count": null,
   "metadata": {},
   "outputs": [],
   "source": [
    "def exibirFrase(user):\n",
    "    nivel = user.get_nivel()\n",
    "    id = user.get_id()\n",
    "    receberFrases(nivel, 'Frase', user)\n",
    "\n",
    "    mensagem = user.get_frase()\n",
    "    nivel = user.get_nivel()\n",
    "    resposta = f'Frase de Nível: {nivel}🔥 \\n\\nEsta é a sua frase, bons estudos! \\n\\n{mensagem}'\n",
    "    responder(id, resposta, [['Continuar','/Menu']], 1)\n"
   ]
  }
 ],
 "metadata": {
  "kernelspec": {
   "display_name": "Python 3",
   "language": "python",
   "name": "python3"
  },
  "language_info": {
   "name": "python",
   "version": "3.12.2"
  }
 },
 "nbformat": 4,
 "nbformat_minor": 2
}
