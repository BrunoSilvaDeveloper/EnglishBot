{
 "cells": [
  {
   "cell_type": "markdown",
   "metadata": {},
   "source": [
    "## Propósito do projeto"
   ]
  },
  {
   "cell_type": "markdown",
   "metadata": {},
   "source": [
    "##### Nosso propósito é ajudar você a treinar e colocar em prática seus estudos de inglês. Eu forneço frases e histórias com o objetivo de você tentar traduzi-las. Depois, você pode verificar se acertou solicitando a tradução da frase ou história. Além disso, recentemente adicionamos uma seção para aprender alguns conteúdos relativos ao inglês, constantemente o sistema será atualizado com novos conteúdos. Nós surgimos da necessidade de um lugar onde pudéssemos treinar nossos aprendizados de forma prática, traduzindo pequenos textos ou frases, mas que estes estivessem no nosso nível de aprendizado. Muitas das vezes, outros lugares que tinham essas frases e histórias, não possuíam um nível equivalente ao nosso aprendizado. Dai eu surgi, com o objetivo de te ajudar a aprender cada vez mais."
   ]
  },
  {
   "cell_type": "markdown",
   "metadata": {},
   "source": [
    "## Importando Bibliotecas"
   ]
  },
  {
   "cell_type": "markdown",
   "metadata": {},
   "source": [
    "Nesse projeto utilizaremos 7 bibliotecas.\n",
    "\n",
    "- *Telebot* - responsável por fazer a comunicação com o Telegram.\n",
    "\n",
    "- *Telebot types* - responsável pela interface de botões no telegram.\n",
    "\n",
    "- *Openpyxl* - responsável por fazer a comunicação com a base de dados, no caso, uma planilha do excel.\n",
    "\n",
    "- *MatériasFunctions.Numbers.Numbers* - Funções responsáveis pela parte de aprender números em inglês, importada de outro arquivo dentro do próprio código.\n",
    "\n",
    "- *FrasesHistorias.Frases* - Funções responsáveis pela parte de exibir frases e histórias, importada de outro arquivo dentro do próprio código.\n",
    "\n",
    "- *MatériasFunctions.AlphabetPronunciation.AlphabetPronunciation* - Funções responsáveis pela parte de exibir a pronúncia do alfabeto em inglês, importada de outro arquivo dentro do próprio código.\n",
    "\n",
    "- *OS* - Função responsável por verificar o caminho correto para os arquivos dentro do código.\n",
    "\n",
    "Antes de importar, devemos fazer o download das bibliotecas!\n",
    "\n",
    "Versões disponíveis no arquivo requeriments."
   ]
  },
  {
   "cell_type": "code",
   "execution_count": null,
   "metadata": {},
   "outputs": [],
   "source": [
    "import telebot\n",
    "from telebot import types\n",
    "from openpyxl import load_workbook\n",
    "from MatériasFunctions.Numbers.Numbers import Numbers, VerificarNumberExtenso\n",
    "from FrasesHistorias.Frases import exibirFrase, exibirHistoria, exibirTraducao, AlterarNivel\n",
    "from MatériasFunctions.AlphabetPronunciation.AlphabetPronunciation import alphabet, verificar_pronuncia\n",
    "import os"
   ]
  },
  {
   "cell_type": "markdown",
   "metadata": {},
   "source": [
    "## Definindo sua chave API"
   ]
  },
  {
   "cell_type": "markdown",
   "metadata": {},
   "source": [
    "### Criando o chatbot"
   ]
  },
  {
   "cell_type": "markdown",
   "metadata": {},
   "source": [
    "Para conseguir realizar a comunicação com o Telegram, primeiro devemos criar um chat no telegram, non qual utilizaremos como chatbot\n",
    "\n",
    "Para isto devemos seguir alguns passos simples:\n",
    "\n",
    "- Passo 1: Ir até a pesquisa do app Telegram e procurar por BotFather, ele terá o simbolo de verificado\n",
    "\n",
    "- Passo 2: Apertar o botão Start, para começar uma nova conversa\n",
    "\n",
    "- Passo 3: Ele vai te retornar uma mensagem com vários comandos, para criar um novo bot, basta selecionar a opção /newbot\n",
    "\n",
    "- Passo 4: Ele pedirá para que você defina um nome para o bot, no nosso caso, se chama English Bot\n",
    "\n",
    "- Passo 5: Agora ele pedirá para que você defina um username para o bot. Atençao! o username deve ser terminado com a palavra 'bot'. Exemplo: EnglishBot, English_bot e deve estar disponível.\n",
    "\n",
    "- Passo 6: Agora ele te retornará uma mensagem com os dados do seu bot, o primeiro link, 't.me/nomedobot' será o link para a conversa com seu chatbot. Nesta mesma mensagem, também haverá a sua chave Api, responsável por permitir a conexão do seu script com o chatbot.\n",
    "\n",
    "Não compartilhe esta chave API, ela da acesso ao controle do seu chatbot."
   ]
  },
  {
   "cell_type": "markdown",
   "metadata": {},
   "source": [
    "### Definindo a chave no script"
   ]
  },
  {
   "cell_type": "code",
   "execution_count": 1,
   "metadata": {},
   "outputs": [],
   "source": [
    "# Com a chave API em mãos, basta definir a nossa variável para ela\n",
    "\n",
    "CHAVE_API = \"Sua Chave api aqui\""
   ]
  },
  {
   "cell_type": "markdown",
   "metadata": {},
   "source": [
    "### Iniciando o bot"
   ]
  },
  {
   "cell_type": "code",
   "execution_count": null,
   "metadata": {},
   "outputs": [],
   "source": [
    "# Para iniciar o bot e permitir a comunicação com o Telegram, basta executar o comando abaixo\n",
    "\n",
    "bot = telebot.TeleBot(CHAVE_API)\n",
    "\n",
    "# Agora, todas as operações envolvendo o bot devem ser realizadas através da variável 'bot'"
   ]
  },
  {
   "cell_type": "markdown",
   "metadata": {},
   "source": [
    "### Classe User"
   ]
  },
  {
   "cell_type": "markdown",
   "metadata": {},
   "source": [
    "Devido a extensão do código ser muito grande, torna-se necessário a implantação de uma classe com as informações do usuário. Isto ocorre, pois sem utilizar classes, teríamos que transitar com várias variáveis por todo o código, de função para função, o que poderia acarretar a alteração de uma variável de forma indevida durante a execução, além de facilitar a compreenssão do que cada variável representa."
   ]
  },
  {
   "cell_type": "markdown",
   "metadata": {},
   "source": [
    "A classe User possui todas a informações do usuário (id, frase, traducao, nivel, number, ultimoComando, fraseOrAprender) de forma privada, podendo ser acessada ou alterada através de uma função específica dentro da classe."
   ]
  },
  {
   "cell_type": "code",
   "execution_count": null,
   "metadata": {},
   "outputs": [],
   "source": [
    "class User(): \n",
    "    def __init__(self, id, frase, traducao, nivel, number, ultimoComando, fraseOrAprender): # Define todas as variáveis da classe\n",
    "        self.__id = id\n",
    "        self.__frase = frase\n",
    "        self.__traducao = traducao\n",
    "        self.__nivel = nivel\n",
    "        self.__number = number\n",
    "        self.__ultimoComando = ultimoComando\n",
    "        self.__fraseOrAprender = fraseOrAprender\n",
    "\n",
    "\n",
    "    # Funções para retonar os valores de cada variável\n",
    "    def get_id(self):\n",
    "        return self.__id\n",
    "    \n",
    "    def get_frase(self):\n",
    "        return self.__frase\n",
    "    \n",
    "    def get_traducao(self):\n",
    "        return self.__traducao\n",
    "    \n",
    "    def get_nivel(self):\n",
    "        return self.__nivel\n",
    "    \n",
    "    def get_number(self):\n",
    "        return self.__number\n",
    "    \n",
    "    def get_ultimoComando(self):\n",
    "        return self.__ultimoComando\n",
    "    \n",
    "    def get_fraseOrAprender(self):\n",
    "        return self.__fraseOrAprender\n",
    "    \n",
    "    # Funções para alterar os valores de cada variável\n",
    "    \n",
    "    def set_id(self, id):\n",
    "        self.__id = id\n",
    "\n",
    "    def set_frase(self, frase):\n",
    "        self.__frase = frase\n",
    "\n",
    "    def set_traducao(self, traducao):\n",
    "        self.__traducao = traducao\n",
    "\n",
    "    def set_nivel(self, nivel):\n",
    "        self.__nivel = nivel\n",
    "\n",
    "    def set_number(self, number):\n",
    "        self.__number = number\n",
    "\n",
    "    def set_ultimoComando(self, ultimoComando):\n",
    "        self.__ultimoComando = ultimoComando\n",
    "\n",
    "    def set_fraseOrAprender(self, fraseOrAprender):\n",
    "        self.__fraseOrAprender = fraseOrAprender"
   ]
  },
  {
   "cell_type": "markdown",
   "metadata": {},
   "source": [
    "### Criando as funções"
   ]
  },
  {
   "cell_type": "markdown",
   "metadata": {},
   "source": [
    "#### Carregar Planilha"
   ]
  },
  {
   "cell_type": "markdown",
   "metadata": {},
   "source": [
    "Essa função é responsável por verificar em qual pasta o codigo que esta sendo executado se encontra e define qual o caminho do arquivo procurado. \n",
    "\n",
    "Ela recebe como parâmetro o nome do arquivo procurado e retorna o caminho deste arquivo.\n",
    "\n",
    "Por exemplo:\n",
    "\n",
    "Este código app.py está na pasta raiz, caso queira acessar o arquivo dos usuário que está na pasta DataBase, essa função irá retornar o caminho absoluto deste arquivo: *'Caminho da pasta raiz\\EnglishBot\\DataBase\\Usuarios.xlsx'*\n",
    "\n",
    "sem esta função, o código poderia gerar um erro ao tentar acessar um arquivo em local indevido."
   ]
  },
  {
   "cell_type": "code",
   "execution_count": null,
   "metadata": {},
   "outputs": [],
   "source": [
    "def carregar_planilha(pasta):\n",
    "    diretorio_atual = os.getcwd()\n",
    "    pasta_database = os.path.join(diretorio_atual, 'DataBase')\n",
    "    caminho_arquivo = os.path.join(pasta_database, pasta)\n",
    "    return caminho_arquivo"
   ]
  },
  {
   "cell_type": "markdown",
   "metadata": {},
   "source": [
    "#### Alterar Usuário"
   ]
  },
  {
   "cell_type": "markdown",
   "metadata": {},
   "source": [
    "Função responsável por altualizar a base de dados após todas as alterações feitas no perfil do usuário durante a execução do programa, será sempre a última a ser executada após cada mensagem do usuário.\n",
    "\n",
    "Essa função recebe como parâmetros o objeto do usuário criado e a linha em que as informações desse determinado usuário estão na base de dados.\n",
    "\n",
    "Carrega a planilha, altera os dados necessários e ao final, salva a planilha com as alterações."
   ]
  },
  {
   "cell_type": "code",
   "execution_count": null,
   "metadata": {},
   "outputs": [],
   "source": [
    "def AlterarUsuario(user, linha):\n",
    "    caminho = carregar_planilha('Usuarios.xlsx')\n",
    "    planilha = load_workbook(caminho)\n",
    "    aba_ativa = planilha.active\n",
    "    aba_ativa[f'A{linha}'] = user.get_id()\n",
    "    aba_ativa[f'B{linha}'] = user.get_frase()\n",
    "    aba_ativa[f'C{linha}'] = user.get_traducao()\n",
    "    aba_ativa[f'D{linha}'] = user.get_nivel()\n",
    "    aba_ativa[f'E{linha}'] = user.get_number()\n",
    "    aba_ativa[f'F{linha}'] = user.get_ultimoComando()\n",
    "    aba_ativa[f'G{linha}'] = user.get_fraseOrAprender()\n",
    "    planilha.save(caminho)"
   ]
  },
  {
   "cell_type": "markdown",
   "metadata": {},
   "source": [
    "#### Responder"
   ]
  },
  {
   "cell_type": "markdown",
   "metadata": {},
   "source": [
    "Esta função é responsável por fazer a comunicação com o telegram enviando as mensagens necessárias.\n",
    "\n",
    "Ela recebe como parâmetro 4 componentes:\n",
    "\n",
    "- *Id do usuário* - Para identificar o chat para qual a mensagem deve ser enviada.\n",
    "\n",
    "- *Resposta* - Mensagem que deve ser enviada ao usuário.\n",
    "\n",
    "- *buttons* - Uma lista com todos os botões que devem ser exibidos junto com a mensagem, cada botão contém uma lista comk o nome que será exibido e o callback(mensagem ou comando retornado ao apertar o botão).\n",
    "\n",
    "- *qtd* - Variável contendo a quantidade de botões que serão exibidos em cada linha.\n",
    "\n",
    "Nessa função, é criado uma variável markup. Esta variável se refere ao grupo de botões, que serão adicionados posteriormente.\n",
    "\n",
    "Após isso, os botões são criados e adicionados ao conjunto(markup) e envidados para o usuário.\n"
   ]
  },
  {
   "cell_type": "code",
   "execution_count": null,
   "metadata": {},
   "outputs": [],
   "source": [
    "def responder(id, resposta, buttons, qtd):\n",
    "    btn = []\n",
    "    markup = types.InlineKeyboardMarkup(row_width=qtd)\n",
    "    for bt in buttons:\n",
    "        button = types.InlineKeyboardButton(bt[0], callback_data=bt[1])\n",
    "        btn.append(button)\n",
    "\n",
    "    markup.add(*btn)\n",
    "\n",
    "    bot.send_message(id, resposta, reply_markup=markup)   "
   ]
  },
  {
   "cell_type": "markdown",
   "metadata": {},
   "source": [
    "#### Responder sem Botão"
   ]
  },
  {
   "cell_type": "markdown",
   "metadata": {},
   "source": [
    "Essa função também é responsável por fazer a comunicação com o telegram enviando mensagens, porém diferente4 da anterior, ela envia somente a mensagem, sem botões. É usada em alguns casos específicos onde é necessário enviar somente uma mensagem ou socilitar algo escrito do usuário.\n",
    "\n",
    "Recebe como parâmetros apenas 2 elementos:\n",
    "\n",
    "- *Id do usuário* - Para identificar o chat para qual a mensagem deve ser enviada.\n",
    "\n",
    "- *Resposta* - Mensagem que deve ser enviada ao usuário."
   ]
  },
  {
   "cell_type": "code",
   "execution_count": null,
   "metadata": {},
   "outputs": [],
   "source": [
    "def responder_sem_button(id, resposta):\n",
    "    bot.send_message(id, resposta)   "
   ]
  },
  {
   "cell_type": "markdown",
   "metadata": {},
   "source": [
    "### Como funciona o código?"
   ]
  },
  {
   "cell_type": "markdown",
   "metadata": {},
   "source": [
    "No telegram existem mensagens específicas que se comportam de maneiras diferentes das demais mensagens, os comandos. Sempre que adicionados '/' antes de qualquer mensagem, ela se torna um comando no telegram, se comportando semelhand=te a um link clicável. Para diferenciar as mensagens padrão das mensagens que farão alguma ação, todo o código é baseado em comandos, por exemplo.\n",
    "\n",
    "Ao apertar o botão Aprender inglês, ele retornará o callback(mensagem) como '/Aprender', desta forma, sempre que receber uma mensagem como essa, ele acionará a seção de aprender. \n",
    "\n",
    "Todo o código é baseado em comando para evitar erros acidentais, ao pressionar qualquer botão, o telegram retorna essa informação como uma mensagem normal definida no callback do botão e não um comando em si. Por isso, se caso fosse utilizado somente 'Aprender' para acionar uma função, em uma frase aleatória em que o usuário digitasse isso, poderia acionar a função erroneamente, para isso são utilizados os comandos, pois não é comum o usuário digitar '/' antes das palavras."
   ]
  },
  {
   "cell_type": "markdown",
   "metadata": {},
   "source": [
    "#### Exibir menu"
   ]
  },
  {
   "cell_type": "markdown",
   "metadata": {},
   "source": [
    "A função de exibir o menu é chamada toda vez que uma mensagem é recebida e não é nenhum dos comandos do código, ela é chamada como \"exceção\", ou seja, ao receber uma mensagem, o código verificar se é um comando, caso não seja, exibe o menu.\n",
    "\n",
    "Essa função recebe como parâmetros o objeto do usuário criado.\n",
    "\n",
    "Ela exibe uma mensagem de boas vindas e chama a função de responder, passando o id, contido no objeto do usuário, a mensagem, todos os botões que devem ser exibidos e a quantidade em cada linha."
   ]
  },
  {
   "cell_type": "code",
   "execution_count": null,
   "metadata": {},
   "outputs": [],
   "source": [
    "def exibirMenu(user):\n",
    "    id = user.get_id()\n",
    "    resposta = f'Olá, seja muito bem vindo! 👋 \\n\\nEste é o nosso Menu 🏠'\n",
    "    responder(id, resposta, [['Frases ou Histórias', '/FraseHistoria'], ['Aprender Inglês', '/Aprender'], ['Nosso Propósito', '/Proposito']], 1)"
   ]
  },
  {
   "cell_type": "markdown",
   "metadata": {},
   "source": [
    "#### Verificar comando aprender"
   ]
  },
  {
   "cell_type": "markdown",
   "metadata": {},
   "source": [
    "Essa função é responsável por verificar se os comandos recebidos são referentes a aba de apreder ou a aba de frases e histórias, para chamar as funções específicas de cada caso.\n",
    "\n",
    "Ela recebe o objeto do usuário e a mensagem para verificação"
   ]
  },
  {
   "cell_type": "code",
   "execution_count": null,
   "metadata": {},
   "outputs": [],
   "source": [
    "def verificarComandoAprender(mensagem,user):\n",
    "    id = user.get_id()\n",
    "    ultimoComando = user.get_ultimoComando()\n",
    "\n",
    "    if mensagem == '/FraseHistoria':\n",
    "        user.set_fraseOrAprender('Frase')\n",
    "        verificarComandoFrases(mensagem, user)\n",
    "\n",
    "    elif mensagem == '/Frase' or mensagem == '/Historia' or mensagem == '/Traducao' or mensagem == '/Nivel':\n",
    "        user.set_fraseOrAprender('Frase')\n",
    "        Frases(mensagem, user)\n",
    "    \n",
    "    elif mensagem == '/Aprender':\n",
    "        user.set_ultimoComando('/Aprender')\n",
    "        resposta =  f'Que bom que você queira aprender! 👋 \\n\\nSelecione a materia que deseja aprender!'\n",
    "        responder(id, resposta, [['Alphabet', '/Alfabeto'], ['Numbers', '/Numbers'], ['Menu', '/OK']], 1)\n",
    "\n",
    "    elif ultimoComando == '/Aprender':\n",
    "        alfabeto = ['/A', '/B', '/C', '/D', '/E', '/F', '/G', '/H', '/I', '/J', '/K', '/L', '/M', '/N', '/O', '/P', '/Q', '/R', '/S', '/T', '/U', '/V', '/W', '/X', '/Y', '/Z']\n",
    "\n",
    "        if mensagem == '/Alfabeto' or mensagem in alfabeto or mensagem == '/TreinarAlfabeto' or mensagem == '/Alfabet':\n",
    "            alphabet(user, mensagem)\n",
    "\n",
    "        elif mensagem == '/Numbers' or mensagem == '/ConteudoNumbers' or mensagem == '/ExibirNumber' or mensagem == '/ExtensoNumbers' or mensagem == '/ExibirNumberExtenso':\n",
    "            Numbers(mensagem, user)\n",
    "        else:  \n",
    "            user.set_ultimoComando('/OK') \n",
    "            exibirMenu(user)\n",
    "        \n",
    "    elif mensagem == '/Proposito':\n",
    "        resposta = f'Olá, que bom que queira saber mais de nós 😊 \\n\\nNosso propósito é ajudar você a treinar e colocar em prática seus estudos de inglês. Eu forneço frases e histórias com o objetivo de você tentar traduzi-las. Depois, você pode verificar se acertou solicitando a tradução da frase ou história. \\n\\nNós surgimos da necessidade de um lugar onde pudéssemos treinar nossos aprendizados de forma prática, traduzindo pequenos textos ou frases, mas que estes estivessem no nosso nível de aprendizado. Muitas das vezes, outros lugares que tinham essas frases e histórias, não possuíam um nível equivalente ao nosso aprendizado. Dai eu surgi, com o objetivo de te ajudar a aprender cada vez mais. \\n\\nFico muito feliz de tê-lo por aqui! 😊😊'\n",
    "        responder(id, resposta, [['Continuar','/OK']], 1)\n",
    "\n",
    "    else:\n",
    "        if ultimoComando == '/ExtensoNumbers':\n",
    "            VerificarNumberExtenso(mensagem, user)\n",
    "        \n",
    "        elif ultimoComando == '/VerificarPronuncia':\n",
    "            verificar_pronuncia(user, mensagem)\t\n",
    "\n",
    "        else:\n",
    "            exibirMenu(user)\n"
   ]
  },
  {
   "cell_type": "markdown",
   "metadata": {},
   "source": [
    "#### Verificar comando frase"
   ]
  },
  {
   "cell_type": "markdown",
   "metadata": {},
   "source": [
    "Essa função é responsável por exibir o menu de ações referente a frases os histórias, onde terão todos os comandos relacionados ao assunto.\n",
    "\n",
    "Ela recebe o objeto do usuário e a mensagem, pois deve verificar se a aba selecionada foi realmente a de frases ou histórias."
   ]
  },
  {
   "cell_type": "code",
   "execution_count": null,
   "metadata": {},
   "outputs": [],
   "source": [
    "def verificarComandoFrases(mensagem,user):\n",
    "    id = user.get_id()\n",
    "    if mensagem == '/FraseHistoria' or mensagem == '/Menu':\n",
    "        resposta = f'Este é o nosso Menu de Frases e Histórias 🏠'\n",
    "        responder(id, resposta, [['Exibir Frase', '/Frase'], ['Exibir História', '/Historia'], ['Traduzir Frase/História', '/Traducao'], ['Alterar Nível', '/Nivel'], ['Nosso Propósito', '/Proposito'], ['Menu', '/OK']], 1)\n",
    "\n",
    "    else:\n",
    "        Frases(mensagem, user)\n",
    " "
   ]
  },
  {
   "cell_type": "markdown",
   "metadata": {},
   "source": [
    "#### Frases"
   ]
  },
  {
   "cell_type": "markdown",
   "metadata": {},
   "source": [
    "Essa  função é responsável por verificar todos os comandos referentes a seção de fases e histórias e chamar a função específica para cada ação, seja exibir uma frase, uma história, a tradução etc\n",
    "\n",
    "Ela recebe como parâmetros a mensagem(comando) recebida e o objeto do usuário"
   ]
  },
  {
   "cell_type": "code",
   "execution_count": null,
   "metadata": {},
   "outputs": [],
   "source": [
    "def Frases(mensagem, user):\n",
    "    id = user.get_id()\n",
    "    if mensagem == '/Frase':\n",
    "        exibirFrase(user)\n",
    "    \n",
    "    elif mensagem == '/Historia':\n",
    "        exibirHistoria(user)\n",
    "    \n",
    "    elif mensagem == '/Traducao':\n",
    "        exibirTraducao(user)\n",
    "    \n",
    "    elif mensagem == '/Nivel':\n",
    "        nivel = 'Nivel'\n",
    "        AlterarNivel(user, nivel)\n",
    "\n",
    "    elif mensagem == '/Basico':\n",
    "        nivel = 'Básico'\n",
    "        AlterarNivel(user, nivel)\n",
    "    \n",
    "    elif mensagem == '/BasicoAvancado':\n",
    "        nivel = 'Básico Avançado'\n",
    "        AlterarNivel(user, nivel)\n",
    "    \n",
    "    elif mensagem == '/Intermediario':\n",
    "        nivel = 'Intermediário'\n",
    "        AlterarNivel(user, nivel)\n",
    "    \n",
    "    elif mensagem == '/IntermediarioAvancado':\n",
    "        nivel = 'Intermediário Avançado'\n",
    "        AlterarNivel(user, nivel)\n",
    "    \n",
    "    elif mensagem == '/Fluente':\n",
    "        nivel = 'Fluente'\n",
    "        AlterarNivel(user, nivel)\n",
    "\n",
    "    elif mensagem == '/Aprender':\n",
    "        user.set_fraseOrAprender('Aprender')\n",
    "        verificarComandoAprender(mensagem, user)\n",
    "        \n",
    "    elif mensagem == '/Proposito':\n",
    "        resposta = f'Olá, que bom que queira saber mais de nós 😊 \\n\\nNosso propósito é ajudar você a treinar e colocar em prática seus estudos de inglês. Eu forneço frases e histórias com o objetivo de você tentar traduzi-las. Depois, você pode verificar se acertou solicitando a tradução da frase ou história. \\n\\nNós surgimos da necessidade de um lugar onde pudéssemos treinar nossos aprendizados de forma prática, traduzindo pequenos textos ou frases, mas que estes estivessem no nosso nível de aprendizado. Muitas das vezes, outros lugares que tinham essas frases e histórias, não possuíam um nível equivalente ao nosso aprendizado. Dai eu surgi, com o objetivo de te ajudar a aprender cada vez mais. \\n\\nFico muito feliz de tê-lo por aqui! 😊😊'\n",
    "        responder(id, resposta, [['Continuar','/OK']], 1)\n",
    "\n",
    "    else:\n",
    "        exibirMenu(user)\n"
   ]
  },
  {
   "cell_type": "markdown",
   "metadata": {},
   "source": [
    "#### Section"
   ]
  },
  {
   "cell_type": "markdown",
   "metadata": {},
   "source": [
    "Essa função é responsável por identificar se o usuário escolheu a opção de aprender ou de exibir frases e histórias especificamente. Difirente das funções anteriores, essa não verifica qual o comando recebido para chamar uma determinada função, ela apenas 'Divide o código em duas partes', verificando se o usuário escolheu uma ou outra.\n",
    "\n",
    "Recebe como parâmetros o objeto, de onde será tirada a decisão do usuário e a mensagem, apenas para enviar a outras funções que utilizam."
   ]
  },
  {
   "cell_type": "code",
   "execution_count": null,
   "metadata": {},
   "outputs": [],
   "source": [
    "def Section(mensagem, user):\n",
    "    usuario = user.get_fraseOrAprender()\n",
    "    if usuario == 'Frase':\n",
    "        verificarComandoFrases(mensagem, user)\n",
    "    elif usuario == 'Aprender':\n",
    "        verificarComandoAprender(mensagem, user)\n"
   ]
  },
  {
   "cell_type": "markdown",
   "metadata": {},
   "source": [
    "#### Registrar usuário"
   ]
  },
  {
   "cell_type": "markdown",
   "metadata": {},
   "source": [
    "Essa função é especificamente para registrar novos usuários na base de dados, ela carrega as tabelas e adiciona uma nova linha com informações temporárias do usuário, que serão modificadas durante a execuçào do programa.\n",
    "\n",
    "Recebe como parâmetros o objeto do usuário com as informações temporárias."
   ]
  },
  {
   "cell_type": "code",
   "execution_count": null,
   "metadata": {},
   "outputs": [],
   "source": [
    "def registrarUsuario(user):\n",
    "    caminho = carregar_planilha('Usuarios.xlsx')\n",
    "    planilha = load_workbook(caminho)\n",
    "    aba_ativa = planilha.active\n",
    "    usuario = [user.get_id(), user.get_frase(), user.get_traducao(), user.get_nivel(), user.get_number(), user.get_ultimoComando(), user.get_fraseOrAprender(), user.get_letra()]\n",
    "    aba_ativa.append(usuario)\n",
    "    planilha.save(caminho)"
   ]
  },
  {
   "cell_type": "markdown",
   "metadata": {},
   "source": [
    "#### User Info"
   ]
  },
  {
   "cell_type": "markdown",
   "metadata": {},
   "source": [
    "Essa funçào é responsável por acessar as tabelas e retornar todas as informações do usuário, para atualizar o objeto e poder realizar as funções do código com precisão.\n",
    "\n",
    "Recebe como parâmetros apenas o id, para identificar o usuário na base de dados."
   ]
  },
  {
   "cell_type": "code",
   "execution_count": null,
   "metadata": {},
   "outputs": [],
   "source": [
    "def UserInfo(id):\n",
    "    caminho = carregar_planilha('Usuarios.xlsx')\n",
    "    planilha = load_workbook(caminho)\n",
    "    aba_ativa = planilha.active\n",
    "    for celula in aba_ativa['A']:\n",
    "        if type(celula.value) == int :\n",
    "            if celula.value == id:\n",
    "                linha = celula.row\n",
    "                frase = aba_ativa[f'B{linha}'].value\n",
    "                traducao = aba_ativa[f'C{linha}'].value\n",
    "                nivel = aba_ativa[f'D{linha}'].value\n",
    "                number = aba_ativa[f'E{linha}'].value\n",
    "                UltimaComando = aba_ativa[f'F{linha}'].value\n",
    "                comando = aba_ativa[f'G{linha}'].value\n",
    "                letra = aba_ativa[f'H{linha}'].value\n",
    "                return [id, frase, traducao, nivel, number, UltimaComando, comando, letra], linha\n",
    "   "
   ]
  },
  {
   "cell_type": "markdown",
   "metadata": {},
   "source": [
    "#### Receber Lista de Users"
   ]
  },
  {
   "cell_type": "markdown",
   "metadata": {},
   "source": [
    "Essa função é responsável por retornar uma lista com todos os ids dos usuários presentes na base de dados.\n",
    "Essa lista será usada para definir se o usuário já existe na base de dados ou é um usuário novo."
   ]
  },
  {
   "cell_type": "code",
   "execution_count": null,
   "metadata": {},
   "outputs": [],
   "source": [
    "def receberListaUser():\n",
    "    lista_id = []\n",
    "    caminho = carregar_planilha('Usuarios.xlsx')\n",
    "    planilha = load_workbook(caminho)\n",
    "    aba_ativa = planilha.active\n",
    "    for celula in aba_ativa['A']:\n",
    "      if type(celula.value) == int :\n",
    "        lista_id.append(celula.value)\n",
    "    return lista_id"
   ]
  },
  {
   "cell_type": "markdown",
   "metadata": {},
   "source": [
    "#### Verificar usuário"
   ]
  },
  {
   "cell_type": "markdown",
   "metadata": {},
   "source": [
    "Esta função é complementar à anterior, é ela quem recebe a lista de usuários e o id do usuário para verificação. Sua função é exatamente verificar se o id recebido esta ou não na lista, indicando se o usuário já existe ou é novo."
   ]
  },
  {
   "cell_type": "code",
   "execution_count": null,
   "metadata": {},
   "outputs": [],
   "source": [
    "def verificarUsuario(id):\n",
    "    listaUsersId = receberListaUser()\n",
    "    if id in listaUsersId:\n",
    "        return True\n",
    "    else: return False"
   ]
  },
  {
   "cell_type": "markdown",
   "metadata": {},
   "source": [
    "#### Verificar"
   ]
  },
  {
   "cell_type": "markdown",
   "metadata": {},
   "source": [
    "Essa função não executa nenhuma tarefa, ela existe simplesmente para que qualquer mensagem recebida do telegram seja tratada e respondida da devida forma pelo resto do código. "
   ]
  },
  {
   "cell_type": "code",
   "execution_count": null,
   "metadata": {},
   "outputs": [],
   "source": [
    "def verificar(mensagem):\n",
    "    return True\n"
   ]
  },
  {
   "cell_type": "markdown",
   "metadata": {},
   "source": [
    "#### Funções de escuta"
   ]
  },
  {
   "cell_type": "markdown",
   "metadata": {},
   "source": [
    "Amabas as funções abaixo possuem a mesma característica com uma única diferença, a primeria tem como objetivo receber qualquer mensagem do usuário, identificar se é um usuário novo ou existente, criar um objeto com as informações do usuário e chamar as funções que definem a mensagem recebida e ao final salva as alterações feitas no usuário. A segunda realiza a mesma função, porém ela é responsável por receber as mensagens vindas apenas dos botões exibidos durante a exceução."
   ]
  },
  {
   "cell_type": "code",
   "execution_count": null,
   "metadata": {},
   "outputs": [],
   "source": [
    "@bot.message_handler(func=verificar)\n",
    "def receber(mensagem):\n",
    "\n",
    "    id = mensagem.chat.id\n",
    "    mensagemUser = mensagem.text\n",
    "\n",
    "    if verificarUsuario(id):\n",
    "        print('Usuario existente')\n",
    "        usuario, linha = UserInfo(id)\n",
    "        user = User(usuario[0], usuario[1], usuario[2], usuario[3], usuario[4], usuario[5], usuario[6], usuario[7])\n",
    "    else:\n",
    "        print('Usuario novo')\n",
    "        user = User(id, 'Não existem frases', 'Não existem frases para traduzir, peça uma!', 'Básico', 0, '/OK', 'Frase', 'A')\n",
    "        registrarUsuario(user)\n",
    "        usuario, linha = UserInfo(id)\n",
    "\n",
    "\n",
    "    \n",
    "    Section(mensagemUser, user)\n",
    "    AlterarUsuario(user, linha)"
   ]
  },
  {
   "cell_type": "code",
   "execution_count": null,
   "metadata": {},
   "outputs": [],
   "source": [
    "@bot.callback_query_handler(func=lambda call:True)\n",
    "def receber_btn(callback):\n",
    "    id = callback.message.chat.id\n",
    "    mensagemUser = callback.data\n",
    "\n",
    "    if verificarUsuario(id):\n",
    "        print('Usuario existente')\n",
    "        usuario, linha = UserInfo(id)\n",
    "        user = User(usuario[0], usuario[1], usuario[2], usuario[3], usuario[4], usuario[5], usuario[6], usuario[7])\n",
    "    else:\n",
    "        print('Usuario novo')\n",
    "        user = User(id, 'Não existem frases', 'Não existem frases para traduzir, peça uma!', 'Básico', 0, '/OK', 'Frase', 'A')\n",
    "        registrarUsuario(user)\n",
    "        usuario, linha = UserInfo(id)\n",
    "\n",
    "    Section(mensagemUser, user)\n",
    "    AlterarUsuario(user, linha)"
   ]
  },
  {
   "cell_type": "markdown",
   "metadata": {},
   "source": [
    "#### Bot Polling"
   ]
  },
  {
   "cell_type": "markdown",
   "metadata": {},
   "source": [
    "Esse pequeno comando é responsável por deixar o bot em looping, ou seja, sempre 'escutando' as mensagem do telegram."
   ]
  },
  {
   "cell_type": "code",
   "execution_count": null,
   "metadata": {},
   "outputs": [],
   "source": [
    "bot.polling()"
   ]
  }
 ],
 "metadata": {
  "kernelspec": {
   "display_name": "Python 3",
   "language": "python",
   "name": "python3"
  },
  "language_info": {
   "codemirror_mode": {
    "name": "ipython",
    "version": 3
   },
   "file_extension": ".py",
   "mimetype": "text/x-python",
   "name": "python",
   "nbconvert_exporter": "python",
   "pygments_lexer": "ipython3",
   "version": "3.12.2"
  }
 },
 "nbformat": 4,
 "nbformat_minor": 2
}
